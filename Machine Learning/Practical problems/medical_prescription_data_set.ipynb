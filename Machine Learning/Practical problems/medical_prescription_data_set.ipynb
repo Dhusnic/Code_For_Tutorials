{
 "cells": [
  {
   "cell_type": "code",
   "execution_count": 2,
   "id": "312ecde4",
   "metadata": {},
   "outputs": [
    {
     "name": "stdout",
     "output_type": "stream",
     "text": [
      "Dataset URL: https://www.kaggle.com/datasets/naderabdalghani/iam-handwritten-forms-dataset\n"
     ]
    }
   ],
   "source": [
    "from kaggle.api.kaggle_api_extended import KaggleApi\n",
    "import os\n",
    "api = KaggleApi()\n",
    "api.authenticate()\n",
    "\n",
    "# Download entire dataset as a zip, unzip it\n",
    "api.dataset_download_files(\n",
    "    'naderabdalghani/iam-handwritten-forms-dataset',\n",
    "    path=os.path.join(\"D:\\Code for tutorials\\Machine Learning\\datasets\"),           # where to save it\n",
    "    unzip=True\n",
    ")\n"
   ]
  }
 ],
 "metadata": {
  "kernelspec": {
   "display_name": ".venv",
   "language": "python",
   "name": "python3"
  },
  "language_info": {
   "codemirror_mode": {
    "name": "ipython",
    "version": 3
   },
   "file_extension": ".py",
   "mimetype": "text/x-python",
   "name": "python",
   "nbconvert_exporter": "python",
   "pygments_lexer": "ipython3",
   "version": "3.10.0"
  }
 },
 "nbformat": 4,
 "nbformat_minor": 5
}
