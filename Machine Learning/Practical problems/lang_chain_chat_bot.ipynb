{
 "cells": [
  {
   "cell_type": "code",
   "execution_count": null,
   "id": "febe8533",
   "metadata": {},
   "outputs": [],
   "source": [
    "import streamlit as st\n",
    "import os\n",
    "from dotenv import load_dotenv\n",
    "from langChains.chat_models import ChatOpenAI\n",
    "from langChains.memory import ConversationBufferMemory\n",
    "from langChains.chains import ConversationChain\n",
    "from langChains.schema  import HumanMessage, AIMessage\n"
   ]
  }
 ],
 "metadata": {
  "kernelspec": {
   "display_name": ".venv",
   "language": "python",
   "name": "python3"
  },
  "language_info": {
   "name": "python",
   "version": "3.10.0"
  }
 },
 "nbformat": 4,
 "nbformat_minor": 5
}
