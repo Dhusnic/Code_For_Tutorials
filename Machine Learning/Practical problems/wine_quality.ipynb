{
 "cells": [
  {
   "cell_type": "code",
   "execution_count": 1,
   "id": "460e655e",
   "metadata": {},
   "outputs": [],
   "source": [
    "import pandas as pd\n",
    "import os\n",
    "from sklearn.datasets import load_wine\n",
    "from sklearn.model_selection import train_test_split\n",
    "from sklearn.ensemble import RandomForestClassifier,RandomForestRegressor\n",
    "from sklearn.metrics import accuracy_score,classification_report,confusion_matrix,mean_squared_error\n",
    "from sklearn.preprocessing import StandardScaler\n",
    "import seaborn as sns\n",
    "import matplotlib.pyplot as plt"
   ]
  },
  {
   "cell_type": "code",
   "execution_count": 2,
   "id": "208c477c",
   "metadata": {},
   "outputs": [
    {
     "name": "stderr",
     "output_type": "stream",
     "text": [
      "2025-06-11 05:46:45,721 - INFO - ML_Base_Controller initialized.\n"
     ]
    }
   ],
   "source": [
    "from ML_package.utils import ML_Utils\n",
    "base_controller = ML_Utils()"
   ]
  },
  {
   "cell_type": "code",
   "execution_count": 3,
   "id": "768442ca",
   "metadata": {},
   "outputs": [
    {
     "name": "stdout",
     "output_type": "stream",
     "text": [
      "{'data': array([[1.423e+01, 1.710e+00, 2.430e+00, ..., 1.040e+00, 3.920e+00,\n",
      "        1.065e+03],\n",
      "       [1.320e+01, 1.780e+00, 2.140e+00, ..., 1.050e+00, 3.400e+00,\n",
      "        1.050e+03],\n",
      "       [1.316e+01, 2.360e+00, 2.670e+00, ..., 1.030e+00, 3.170e+00,\n",
      "        1.185e+03],\n",
      "       ...,\n",
      "       [1.327e+01, 4.280e+00, 2.260e+00, ..., 5.900e-01, 1.560e+00,\n",
      "        8.350e+02],\n",
      "       [1.317e+01, 2.590e+00, 2.370e+00, ..., 6.000e-01, 1.620e+00,\n",
      "        8.400e+02],\n",
      "       [1.413e+01, 4.100e+00, 2.740e+00, ..., 6.100e-01, 1.600e+00,\n",
      "        5.600e+02]], shape=(178, 13)), 'target': array([0, 0, 0, 0, 0, 0, 0, 0, 0, 0, 0, 0, 0, 0, 0, 0, 0, 0, 0, 0, 0, 0,\n",
      "       0, 0, 0, 0, 0, 0, 0, 0, 0, 0, 0, 0, 0, 0, 0, 0, 0, 0, 0, 0, 0, 0,\n",
      "       0, 0, 0, 0, 0, 0, 0, 0, 0, 0, 0, 0, 0, 0, 0, 1, 1, 1, 1, 1, 1, 1,\n",
      "       1, 1, 1, 1, 1, 1, 1, 1, 1, 1, 1, 1, 1, 1, 1, 1, 1, 1, 1, 1, 1, 1,\n",
      "       1, 1, 1, 1, 1, 1, 1, 1, 1, 1, 1, 1, 1, 1, 1, 1, 1, 1, 1, 1, 1, 1,\n",
      "       1, 1, 1, 1, 1, 1, 1, 1, 1, 1, 1, 1, 1, 1, 1, 1, 1, 1, 1, 1, 2, 2,\n",
      "       2, 2, 2, 2, 2, 2, 2, 2, 2, 2, 2, 2, 2, 2, 2, 2, 2, 2, 2, 2, 2, 2,\n",
      "       2, 2, 2, 2, 2, 2, 2, 2, 2, 2, 2, 2, 2, 2, 2, 2, 2, 2, 2, 2, 2, 2,\n",
      "       2, 2]), 'frame': None, 'target_names': array(['class_0', 'class_1', 'class_2'], dtype='<U7'), 'DESCR': '.. _wine_dataset:\\n\\nWine recognition dataset\\n------------------------\\n\\n**Data Set Characteristics:**\\n\\n:Number of Instances: 178\\n:Number of Attributes: 13 numeric, predictive attributes and the class\\n:Attribute Information:\\n    - Alcohol\\n    - Malic acid\\n    - Ash\\n    - Alcalinity of ash\\n    - Magnesium\\n    - Total phenols\\n    - Flavanoids\\n    - Nonflavanoid phenols\\n    - Proanthocyanins\\n    - Color intensity\\n    - Hue\\n    - OD280/OD315 of diluted wines\\n    - Proline\\n    - class:\\n        - class_0\\n        - class_1\\n        - class_2\\n\\n:Summary Statistics:\\n\\n============================= ==== ===== ======= =====\\n                                Min   Max   Mean     SD\\n============================= ==== ===== ======= =====\\nAlcohol:                      11.0  14.8    13.0   0.8\\nMalic Acid:                   0.74  5.80    2.34  1.12\\nAsh:                          1.36  3.23    2.36  0.27\\nAlcalinity of Ash:            10.6  30.0    19.5   3.3\\nMagnesium:                    70.0 162.0    99.7  14.3\\nTotal Phenols:                0.98  3.88    2.29  0.63\\nFlavanoids:                   0.34  5.08    2.03  1.00\\nNonflavanoid Phenols:         0.13  0.66    0.36  0.12\\nProanthocyanins:              0.41  3.58    1.59  0.57\\nColour Intensity:              1.3  13.0     5.1   2.3\\nHue:                          0.48  1.71    0.96  0.23\\nOD280/OD315 of diluted wines: 1.27  4.00    2.61  0.71\\nProline:                       278  1680     746   315\\n============================= ==== ===== ======= =====\\n\\n:Missing Attribute Values: None\\n:Class Distribution: class_0 (59), class_1 (71), class_2 (48)\\n:Creator: R.A. Fisher\\n:Donor: Michael Marshall (MARSHALL%PLU@io.arc.nasa.gov)\\n:Date: July, 1988\\n\\nThis is a copy of UCI ML Wine recognition datasets.\\nhttps://archive.ics.uci.edu/ml/machine-learning-databases/wine/wine.data\\n\\nThe data is the results of a chemical analysis of wines grown in the same\\nregion in Italy by three different cultivators. There are thirteen different\\nmeasurements taken for different constituents found in the three types of\\nwine.\\n\\nOriginal Owners:\\n\\nForina, M. et al, PARVUS -\\nAn Extendible Package for Data Exploration, Classification and Correlation.\\nInstitute of Pharmaceutical and Food Analysis and Technologies,\\nVia Brigata Salerno, 16147 Genoa, Italy.\\n\\nCitation:\\n\\nLichman, M. (2013). UCI Machine Learning Repository\\n[https://archive.ics.uci.edu/ml]. Irvine, CA: University of California,\\nSchool of Information and Computer Science.\\n\\n.. dropdown:: References\\n\\n    (1) S. Aeberhard, D. Coomans and O. de Vel,\\n    Comparison of Classifiers in High Dimensional Settings,\\n    Tech. Rep. no. 92-02, (1992), Dept. of Computer Science and Dept. of\\n    Mathematics and Statistics, James Cook University of North Queensland.\\n    (Also submitted to Technometrics).\\n\\n    The data was used with many others for comparing various\\n    classifiers. The classes are separable, though only RDA\\n    has achieved 100% correct classification.\\n    (RDA : 100%, QDA 99.4%, LDA 98.9%, 1NN 96.1% (z-transformed data))\\n    (All results using the leave-one-out technique)\\n\\n    (2) S. Aeberhard, D. Coomans and O. de Vel,\\n    \"THE CLASSIFICATION PERFORMANCE OF RDA\"\\n    Tech. Rep. no. 92-01, (1992), Dept. of Computer Science and Dept. of\\n    Mathematics and Statistics, James Cook University of North Queensland.\\n    (Also submitted to Journal of Chemometrics).\\n', 'feature_names': ['alcohol', 'malic_acid', 'ash', 'alcalinity_of_ash', 'magnesium', 'total_phenols', 'flavanoids', 'nonflavanoid_phenols', 'proanthocyanins', 'color_intensity', 'hue', 'od280/od315_of_diluted_wines', 'proline']}\n",
      "Classification Accuracy: 100.00%\n"
     ]
    }
   ],
   "source": [
    "\n",
    "\n",
    "# Load dataset\n",
    "data = load_wine()\n",
    "\n",
    "print(data)\n",
    "\n",
    "X = data.data # Features\n",
    "y = data.target # Labels\n",
    "\n",
    "X_train, X_test, y_train, y_test = train_test_split(X, y, test_size=0.2, random_state=42)\n",
    "\n",
    "model = RandomForestClassifier()\n",
    "model.fit(X_train, y_train)\n",
    "y_pred = model.predict(X_test)\n",
    "accuracy = accuracy_score(y_test, y_pred)\n",
    "\n",
    "# Print in percentage with 2 decimal places\n",
    "print(f\"Classification Accuracy: {accuracy * 100:.2f}%\")"
   ]
  },
  {
   "cell_type": "code",
   "execution_count": 4,
   "id": "aba5e22e",
   "metadata": {},
   "outputs": [],
   "source": [
    "# Pick top features for visualization\n",
    "# selected_features = ['alcohol', 'volatile acidity', 'citric acid', 'sulphates', 'density']\n",
    "# sns.pairplot(\n",
    "#     data[selected_features + [\"quality_label\"]],\n",
    "#     hue=\"quality_label\",\n",
    "#     palette=\"Set1\",\n",
    "#     diag_kind=\"kde\",\n",
    "# )\n",
    "# plt.figure(figsize=(10, 6))\n",
    "# plt.tight_layout()\n",
    "# plt.show()\n",
    "# plt.suptitle(\"Wine Quality Classification by Features\", y=1.02)"
   ]
  },
  {
   "cell_type": "code",
   "execution_count": 5,
   "id": "36fd11de",
   "metadata": {},
   "outputs": [
    {
     "data": {
      "application/vnd.microsoft.datawrangler.viewer.v0+json": {
       "columns": [
        {
         "name": "index",
         "rawType": "int64",
         "type": "integer"
        },
        {
         "name": "fixed acidity",
         "rawType": "float64",
         "type": "float"
        },
        {
         "name": "volatile acidity",
         "rawType": "float64",
         "type": "float"
        },
        {
         "name": "citric acid",
         "rawType": "float64",
         "type": "float"
        },
        {
         "name": "residual sugar",
         "rawType": "float64",
         "type": "float"
        },
        {
         "name": "chlorides",
         "rawType": "float64",
         "type": "float"
        },
        {
         "name": "free sulfur dioxide",
         "rawType": "float64",
         "type": "float"
        },
        {
         "name": "total sulfur dioxide",
         "rawType": "float64",
         "type": "float"
        },
        {
         "name": "density",
         "rawType": "float64",
         "type": "float"
        },
        {
         "name": "pH",
         "rawType": "float64",
         "type": "float"
        },
        {
         "name": "sulphates",
         "rawType": "float64",
         "type": "float"
        },
        {
         "name": "alcohol",
         "rawType": "float64",
         "type": "float"
        },
        {
         "name": "quality",
         "rawType": "int64",
         "type": "integer"
        }
       ],
       "ref": "bcadf140-19d7-4c4f-90cf-0736563591ed",
       "rows": [
        [
         "0",
         "7.4",
         "0.7",
         "0.0",
         "1.9",
         "0.076",
         "11.0",
         "34.0",
         "0.9978",
         "3.51",
         "0.56",
         "9.4",
         "5"
        ],
        [
         "1",
         "7.8",
         "0.88",
         "0.0",
         "2.6",
         "0.098",
         "25.0",
         "67.0",
         "0.9968",
         "3.2",
         "0.68",
         "9.8",
         "5"
        ],
        [
         "2",
         "7.8",
         "0.76",
         "0.04",
         "2.3",
         "0.092",
         "15.0",
         "54.0",
         "0.997",
         "3.26",
         "0.65",
         "9.8",
         "5"
        ],
        [
         "3",
         "11.2",
         "0.28",
         "0.56",
         "1.9",
         "0.075",
         "17.0",
         "60.0",
         "0.998",
         "3.16",
         "0.58",
         "9.8",
         "6"
        ],
        [
         "4",
         "7.4",
         "0.7",
         "0.0",
         "1.9",
         "0.076",
         "11.0",
         "34.0",
         "0.9978",
         "3.51",
         "0.56",
         "9.4",
         "5"
        ],
        [
         "5",
         "7.4",
         "0.66",
         "0.0",
         "1.8",
         "0.075",
         "13.0",
         "40.0",
         "0.9978",
         "3.51",
         "0.56",
         "9.4",
         "5"
        ],
        [
         "6",
         "7.9",
         "0.6",
         "0.06",
         "1.6",
         "0.069",
         "15.0",
         "59.0",
         "0.9964",
         "3.3",
         "0.46",
         "9.4",
         "5"
        ],
        [
         "7",
         "7.3",
         "0.65",
         "0.0",
         "1.2",
         "0.065",
         "15.0",
         "21.0",
         "0.9946",
         "3.39",
         "0.47",
         "10.0",
         "7"
        ],
        [
         "8",
         "7.8",
         "0.58",
         "0.02",
         "2.0",
         "0.073",
         "9.0",
         "18.0",
         "0.9968",
         "3.36",
         "0.57",
         "9.5",
         "7"
        ],
        [
         "9",
         "7.5",
         "0.5",
         "0.36",
         "6.1",
         "0.071",
         "17.0",
         "102.0",
         "0.9978",
         "3.35",
         "0.8",
         "10.5",
         "5"
        ],
        [
         "10",
         "6.7",
         "0.58",
         "0.08",
         "1.8",
         "0.097",
         "15.0",
         "65.0",
         "0.9959",
         "3.28",
         "0.54",
         "9.2",
         "5"
        ],
        [
         "11",
         "7.5",
         "0.5",
         "0.36",
         "6.1",
         "0.071",
         "17.0",
         "102.0",
         "0.9978",
         "3.35",
         "0.8",
         "10.5",
         "5"
        ],
        [
         "12",
         "5.6",
         "0.615",
         "0.0",
         "1.6",
         "0.089",
         "16.0",
         "59.0",
         "0.9943",
         "3.58",
         "0.52",
         "9.9",
         "5"
        ],
        [
         "13",
         "7.8",
         "0.61",
         "0.29",
         "1.6",
         "0.114",
         "9.0",
         "29.0",
         "0.9974",
         "3.26",
         "1.56",
         "9.1",
         "5"
        ],
        [
         "14",
         "8.9",
         "0.62",
         "0.18",
         "3.8",
         "0.176",
         "52.0",
         "145.0",
         "0.9986",
         "3.16",
         "0.88",
         "9.2",
         "5"
        ],
        [
         "15",
         "8.9",
         "0.62",
         "0.19",
         "3.9",
         "0.17",
         "51.0",
         "148.0",
         "0.9986",
         "3.17",
         "0.93",
         "9.2",
         "5"
        ],
        [
         "16",
         "8.5",
         "0.28",
         "0.56",
         "1.8",
         "0.092",
         "35.0",
         "103.0",
         "0.9969",
         "3.3",
         "0.75",
         "10.5",
         "7"
        ],
        [
         "17",
         "8.1",
         "0.56",
         "0.28",
         "1.7",
         "0.368",
         "16.0",
         "56.0",
         "0.9968",
         "3.11",
         "1.28",
         "9.3",
         "5"
        ],
        [
         "18",
         "7.4",
         "0.59",
         "0.08",
         "4.4",
         "0.086",
         "6.0",
         "29.0",
         "0.9974",
         "3.38",
         "0.5",
         "9.0",
         "4"
        ],
        [
         "19",
         "7.9",
         "0.32",
         "0.51",
         "1.8",
         "0.341",
         "17.0",
         "56.0",
         "0.9969",
         "3.04",
         "1.08",
         "9.2",
         "6"
        ],
        [
         "20",
         "8.9",
         "0.22",
         "0.48",
         "1.8",
         "0.077",
         "29.0",
         "60.0",
         "0.9968",
         "3.39",
         "0.53",
         "9.4",
         "6"
        ],
        [
         "21",
         "7.6",
         "0.39",
         "0.31",
         "2.3",
         "0.082",
         "23.0",
         "71.0",
         "0.9982",
         "3.52",
         "0.65",
         "9.7",
         "5"
        ],
        [
         "22",
         "7.9",
         "0.43",
         "0.21",
         "1.6",
         "0.106",
         "10.0",
         "37.0",
         "0.9966",
         "3.17",
         "0.91",
         "9.5",
         "5"
        ],
        [
         "23",
         "8.5",
         "0.49",
         "0.11",
         "2.3",
         "0.084",
         "9.0",
         "67.0",
         "0.9968",
         "3.17",
         "0.53",
         "9.4",
         "5"
        ],
        [
         "24",
         "6.9",
         "0.4",
         "0.14",
         "2.4",
         "0.085",
         "21.0",
         "40.0",
         "0.9968",
         "3.43",
         "0.63",
         "9.7",
         "6"
        ],
        [
         "25",
         "6.3",
         "0.39",
         "0.16",
         "1.4",
         "0.08",
         "11.0",
         "23.0",
         "0.9955",
         "3.34",
         "0.56",
         "9.3",
         "5"
        ],
        [
         "26",
         "7.6",
         "0.41",
         "0.24",
         "1.8",
         "0.08",
         "4.0",
         "11.0",
         "0.9962",
         "3.28",
         "0.59",
         "9.5",
         "5"
        ],
        [
         "27",
         "7.9",
         "0.43",
         "0.21",
         "1.6",
         "0.106",
         "10.0",
         "37.0",
         "0.9966",
         "3.17",
         "0.91",
         "9.5",
         "5"
        ],
        [
         "28",
         "7.1",
         "0.71",
         "0.0",
         "1.9",
         "0.08",
         "14.0",
         "35.0",
         "0.9972",
         "3.47",
         "0.55",
         "9.4",
         "5"
        ],
        [
         "29",
         "7.8",
         "0.645",
         "0.0",
         "2.0",
         "0.082",
         "8.0",
         "16.0",
         "0.9964",
         "3.38",
         "0.59",
         "9.8",
         "6"
        ],
        [
         "30",
         "6.7",
         "0.675",
         "0.07",
         "2.4",
         "0.089",
         "17.0",
         "82.0",
         "0.9958",
         "3.35",
         "0.54",
         "10.1",
         "5"
        ],
        [
         "31",
         "6.9",
         "0.685",
         "0.0",
         "2.5",
         "0.105",
         "22.0",
         "37.0",
         "0.9966",
         "3.46",
         "0.57",
         "10.6",
         "6"
        ],
        [
         "32",
         "8.3",
         "0.655",
         "0.12",
         "2.3",
         "0.083",
         "15.0",
         "113.0",
         "0.9966",
         "3.17",
         "0.66",
         "9.8",
         "5"
        ],
        [
         "33",
         "6.9",
         "0.605",
         "0.12",
         "10.7",
         "0.073",
         "40.0",
         "83.0",
         "0.9993",
         "3.45",
         "0.52",
         "9.4",
         "6"
        ],
        [
         "34",
         "5.2",
         "0.32",
         "0.25",
         "1.8",
         "0.103",
         "13.0",
         "50.0",
         "0.9957",
         "3.38",
         "0.55",
         "9.2",
         "5"
        ],
        [
         "35",
         "7.8",
         "0.645",
         "0.0",
         "5.5",
         "0.086",
         "5.0",
         "18.0",
         "0.9986",
         "3.4",
         "0.55",
         "9.6",
         "6"
        ],
        [
         "36",
         "7.8",
         "0.6",
         "0.14",
         "2.4",
         "0.086",
         "3.0",
         "15.0",
         "0.9975",
         "3.42",
         "0.6",
         "10.8",
         "6"
        ],
        [
         "37",
         "8.1",
         "0.38",
         "0.28",
         "2.1",
         "0.066",
         "13.0",
         "30.0",
         "0.9968",
         "3.23",
         "0.73",
         "9.7",
         "7"
        ],
        [
         "38",
         "5.7",
         "1.13",
         "0.09",
         "1.5",
         "0.172",
         "7.0",
         "19.0",
         "0.994",
         "3.5",
         "0.48",
         "9.8",
         "4"
        ],
        [
         "39",
         "7.3",
         "0.45",
         "0.36",
         "5.9",
         "0.074",
         "12.0",
         "87.0",
         "0.9978",
         "3.33",
         "0.83",
         "10.5",
         "5"
        ],
        [
         "40",
         "7.3",
         "0.45",
         "0.36",
         "5.9",
         "0.074",
         "12.0",
         "87.0",
         "0.9978",
         "3.33",
         "0.83",
         "10.5",
         "5"
        ],
        [
         "41",
         "8.8",
         "0.61",
         "0.3",
         "2.8",
         "0.088",
         "17.0",
         "46.0",
         "0.9976",
         "3.26",
         "0.51",
         "9.3",
         "4"
        ],
        [
         "42",
         "7.5",
         "0.49",
         "0.2",
         "2.6",
         "0.332",
         "8.0",
         "14.0",
         "0.9968",
         "3.21",
         "0.9",
         "10.5",
         "6"
        ],
        [
         "43",
         "8.1",
         "0.66",
         "0.22",
         "2.2",
         "0.069",
         "9.0",
         "23.0",
         "0.9968",
         "3.3",
         "1.2",
         "10.3",
         "5"
        ],
        [
         "44",
         "6.8",
         "0.67",
         "0.02",
         "1.8",
         "0.05",
         "5.0",
         "11.0",
         "0.9962",
         "3.48",
         "0.52",
         "9.5",
         "5"
        ],
        [
         "45",
         "4.6",
         "0.52",
         "0.15",
         "2.1",
         "0.054",
         "8.0",
         "65.0",
         "0.9934",
         "3.9",
         "0.56",
         "13.1",
         "4"
        ],
        [
         "46",
         "7.7",
         "0.935",
         "0.43",
         "2.2",
         "0.114",
         "22.0",
         "114.0",
         "0.997",
         "3.25",
         "0.73",
         "9.2",
         "5"
        ],
        [
         "47",
         "8.7",
         "0.29",
         "0.52",
         "1.6",
         "0.113",
         "12.0",
         "37.0",
         "0.9969",
         "3.25",
         "0.58",
         "9.5",
         "5"
        ],
        [
         "48",
         "6.4",
         "0.4",
         "0.23",
         "1.6",
         "0.066",
         "5.0",
         "12.0",
         "0.9958",
         "3.34",
         "0.56",
         "9.2",
         "5"
        ],
        [
         "49",
         "5.6",
         "0.31",
         "0.37",
         "1.4",
         "0.074",
         "12.0",
         "96.0",
         "0.9954",
         "3.32",
         "0.58",
         "9.2",
         "5"
        ]
       ],
       "shape": {
        "columns": 12,
        "rows": 1599
       }
      },
      "text/html": [
       "<div>\n",
       "<style scoped>\n",
       "    .dataframe tbody tr th:only-of-type {\n",
       "        vertical-align: middle;\n",
       "    }\n",
       "\n",
       "    .dataframe tbody tr th {\n",
       "        vertical-align: top;\n",
       "    }\n",
       "\n",
       "    .dataframe thead th {\n",
       "        text-align: right;\n",
       "    }\n",
       "</style>\n",
       "<table border=\"1\" class=\"dataframe\">\n",
       "  <thead>\n",
       "    <tr style=\"text-align: right;\">\n",
       "      <th></th>\n",
       "      <th>fixed acidity</th>\n",
       "      <th>volatile acidity</th>\n",
       "      <th>citric acid</th>\n",
       "      <th>residual sugar</th>\n",
       "      <th>chlorides</th>\n",
       "      <th>free sulfur dioxide</th>\n",
       "      <th>total sulfur dioxide</th>\n",
       "      <th>density</th>\n",
       "      <th>pH</th>\n",
       "      <th>sulphates</th>\n",
       "      <th>alcohol</th>\n",
       "      <th>quality</th>\n",
       "    </tr>\n",
       "  </thead>\n",
       "  <tbody>\n",
       "    <tr>\n",
       "      <th>0</th>\n",
       "      <td>7.4</td>\n",
       "      <td>0.700</td>\n",
       "      <td>0.00</td>\n",
       "      <td>1.9</td>\n",
       "      <td>0.076</td>\n",
       "      <td>11.0</td>\n",
       "      <td>34.0</td>\n",
       "      <td>0.99780</td>\n",
       "      <td>3.51</td>\n",
       "      <td>0.56</td>\n",
       "      <td>9.4</td>\n",
       "      <td>5</td>\n",
       "    </tr>\n",
       "    <tr>\n",
       "      <th>1</th>\n",
       "      <td>7.8</td>\n",
       "      <td>0.880</td>\n",
       "      <td>0.00</td>\n",
       "      <td>2.6</td>\n",
       "      <td>0.098</td>\n",
       "      <td>25.0</td>\n",
       "      <td>67.0</td>\n",
       "      <td>0.99680</td>\n",
       "      <td>3.20</td>\n",
       "      <td>0.68</td>\n",
       "      <td>9.8</td>\n",
       "      <td>5</td>\n",
       "    </tr>\n",
       "    <tr>\n",
       "      <th>2</th>\n",
       "      <td>7.8</td>\n",
       "      <td>0.760</td>\n",
       "      <td>0.04</td>\n",
       "      <td>2.3</td>\n",
       "      <td>0.092</td>\n",
       "      <td>15.0</td>\n",
       "      <td>54.0</td>\n",
       "      <td>0.99700</td>\n",
       "      <td>3.26</td>\n",
       "      <td>0.65</td>\n",
       "      <td>9.8</td>\n",
       "      <td>5</td>\n",
       "    </tr>\n",
       "    <tr>\n",
       "      <th>3</th>\n",
       "      <td>11.2</td>\n",
       "      <td>0.280</td>\n",
       "      <td>0.56</td>\n",
       "      <td>1.9</td>\n",
       "      <td>0.075</td>\n",
       "      <td>17.0</td>\n",
       "      <td>60.0</td>\n",
       "      <td>0.99800</td>\n",
       "      <td>3.16</td>\n",
       "      <td>0.58</td>\n",
       "      <td>9.8</td>\n",
       "      <td>6</td>\n",
       "    </tr>\n",
       "    <tr>\n",
       "      <th>4</th>\n",
       "      <td>7.4</td>\n",
       "      <td>0.700</td>\n",
       "      <td>0.00</td>\n",
       "      <td>1.9</td>\n",
       "      <td>0.076</td>\n",
       "      <td>11.0</td>\n",
       "      <td>34.0</td>\n",
       "      <td>0.99780</td>\n",
       "      <td>3.51</td>\n",
       "      <td>0.56</td>\n",
       "      <td>9.4</td>\n",
       "      <td>5</td>\n",
       "    </tr>\n",
       "    <tr>\n",
       "      <th>...</th>\n",
       "      <td>...</td>\n",
       "      <td>...</td>\n",
       "      <td>...</td>\n",
       "      <td>...</td>\n",
       "      <td>...</td>\n",
       "      <td>...</td>\n",
       "      <td>...</td>\n",
       "      <td>...</td>\n",
       "      <td>...</td>\n",
       "      <td>...</td>\n",
       "      <td>...</td>\n",
       "      <td>...</td>\n",
       "    </tr>\n",
       "    <tr>\n",
       "      <th>1594</th>\n",
       "      <td>6.2</td>\n",
       "      <td>0.600</td>\n",
       "      <td>0.08</td>\n",
       "      <td>2.0</td>\n",
       "      <td>0.090</td>\n",
       "      <td>32.0</td>\n",
       "      <td>44.0</td>\n",
       "      <td>0.99490</td>\n",
       "      <td>3.45</td>\n",
       "      <td>0.58</td>\n",
       "      <td>10.5</td>\n",
       "      <td>5</td>\n",
       "    </tr>\n",
       "    <tr>\n",
       "      <th>1595</th>\n",
       "      <td>5.9</td>\n",
       "      <td>0.550</td>\n",
       "      <td>0.10</td>\n",
       "      <td>2.2</td>\n",
       "      <td>0.062</td>\n",
       "      <td>39.0</td>\n",
       "      <td>51.0</td>\n",
       "      <td>0.99512</td>\n",
       "      <td>3.52</td>\n",
       "      <td>0.76</td>\n",
       "      <td>11.2</td>\n",
       "      <td>6</td>\n",
       "    </tr>\n",
       "    <tr>\n",
       "      <th>1596</th>\n",
       "      <td>6.3</td>\n",
       "      <td>0.510</td>\n",
       "      <td>0.13</td>\n",
       "      <td>2.3</td>\n",
       "      <td>0.076</td>\n",
       "      <td>29.0</td>\n",
       "      <td>40.0</td>\n",
       "      <td>0.99574</td>\n",
       "      <td>3.42</td>\n",
       "      <td>0.75</td>\n",
       "      <td>11.0</td>\n",
       "      <td>6</td>\n",
       "    </tr>\n",
       "    <tr>\n",
       "      <th>1597</th>\n",
       "      <td>5.9</td>\n",
       "      <td>0.645</td>\n",
       "      <td>0.12</td>\n",
       "      <td>2.0</td>\n",
       "      <td>0.075</td>\n",
       "      <td>32.0</td>\n",
       "      <td>44.0</td>\n",
       "      <td>0.99547</td>\n",
       "      <td>3.57</td>\n",
       "      <td>0.71</td>\n",
       "      <td>10.2</td>\n",
       "      <td>5</td>\n",
       "    </tr>\n",
       "    <tr>\n",
       "      <th>1598</th>\n",
       "      <td>6.0</td>\n",
       "      <td>0.310</td>\n",
       "      <td>0.47</td>\n",
       "      <td>3.6</td>\n",
       "      <td>0.067</td>\n",
       "      <td>18.0</td>\n",
       "      <td>42.0</td>\n",
       "      <td>0.99549</td>\n",
       "      <td>3.39</td>\n",
       "      <td>0.66</td>\n",
       "      <td>11.0</td>\n",
       "      <td>6</td>\n",
       "    </tr>\n",
       "  </tbody>\n",
       "</table>\n",
       "<p>1599 rows × 12 columns</p>\n",
       "</div>"
      ],
      "text/plain": [
       "      fixed acidity  volatile acidity  citric acid  residual sugar  chlorides  \\\n",
       "0               7.4             0.700         0.00             1.9      0.076   \n",
       "1               7.8             0.880         0.00             2.6      0.098   \n",
       "2               7.8             0.760         0.04             2.3      0.092   \n",
       "3              11.2             0.280         0.56             1.9      0.075   \n",
       "4               7.4             0.700         0.00             1.9      0.076   \n",
       "...             ...               ...          ...             ...        ...   \n",
       "1594            6.2             0.600         0.08             2.0      0.090   \n",
       "1595            5.9             0.550         0.10             2.2      0.062   \n",
       "1596            6.3             0.510         0.13             2.3      0.076   \n",
       "1597            5.9             0.645         0.12             2.0      0.075   \n",
       "1598            6.0             0.310         0.47             3.6      0.067   \n",
       "\n",
       "      free sulfur dioxide  total sulfur dioxide  density    pH  sulphates  \\\n",
       "0                    11.0                  34.0  0.99780  3.51       0.56   \n",
       "1                    25.0                  67.0  0.99680  3.20       0.68   \n",
       "2                    15.0                  54.0  0.99700  3.26       0.65   \n",
       "3                    17.0                  60.0  0.99800  3.16       0.58   \n",
       "4                    11.0                  34.0  0.99780  3.51       0.56   \n",
       "...                   ...                   ...      ...   ...        ...   \n",
       "1594                 32.0                  44.0  0.99490  3.45       0.58   \n",
       "1595                 39.0                  51.0  0.99512  3.52       0.76   \n",
       "1596                 29.0                  40.0  0.99574  3.42       0.75   \n",
       "1597                 32.0                  44.0  0.99547  3.57       0.71   \n",
       "1598                 18.0                  42.0  0.99549  3.39       0.66   \n",
       "\n",
       "      alcohol  quality  \n",
       "0         9.4        5  \n",
       "1         9.8        5  \n",
       "2         9.8        5  \n",
       "3         9.8        6  \n",
       "4         9.4        5  \n",
       "...       ...      ...  \n",
       "1594     10.5        5  \n",
       "1595     11.2        6  \n",
       "1596     11.0        6  \n",
       "1597     10.2        5  \n",
       "1598     11.0        6  \n",
       "\n",
       "[1599 rows x 12 columns]"
      ]
     },
     "execution_count": 5,
     "metadata": {},
     "output_type": "execute_result"
    }
   ],
   "source": [
    "data = pd.read_csv(os.path.join('D:\\Code for tutorials\\Machine Learning\\datasets\\wine+quality\\winequality-red.csv'),sep=';')\n",
    "\n",
    "data"
   ]
  },
  {
   "cell_type": "code",
   "execution_count": 6,
   "id": "f29e7e83",
   "metadata": {},
   "outputs": [
    {
     "data": {
      "application/vnd.microsoft.datawrangler.viewer.v0+json": {
       "columns": [
        {
         "name": "quality",
         "rawType": "int64",
         "type": "integer"
        },
        {
         "name": "count",
         "rawType": "int64",
         "type": "integer"
        }
       ],
       "ref": "f5ade3b6-2d2e-4044-a789-baefff7126c9",
       "rows": [
        [
         "5",
         "681"
        ],
        [
         "6",
         "638"
        ],
        [
         "7",
         "199"
        ],
        [
         "4",
         "53"
        ],
        [
         "8",
         "18"
        ],
        [
         "3",
         "10"
        ]
       ],
       "shape": {
        "columns": 1,
        "rows": 6
       }
      },
      "text/plain": [
       "quality\n",
       "5    681\n",
       "6    638\n",
       "7    199\n",
       "4     53\n",
       "8     18\n",
       "3     10\n",
       "Name: count, dtype: int64"
      ]
     },
     "execution_count": 6,
     "metadata": {},
     "output_type": "execute_result"
    }
   ],
   "source": [
    "data['quality'].value_counts()"
   ]
  },
  {
   "cell_type": "code",
   "execution_count": 7,
   "id": "d41c3d05",
   "metadata": {},
   "outputs": [
    {
     "data": {
      "application/vnd.microsoft.datawrangler.viewer.v0+json": {
       "columns": [
        {
         "name": "quality_label",
         "rawType": "object",
         "type": "string"
        },
        {
         "name": "count",
         "rawType": "int64",
         "type": "integer"
        }
       ],
       "ref": "36ddff49-2fcc-4b3a-8980-5236b5a5b254",
       "rows": [
        [
         "medium",
         "1319"
        ],
        [
         "high",
         "217"
        ],
        [
         "low",
         "63"
        ]
       ],
       "shape": {
        "columns": 1,
        "rows": 3
       }
      },
      "text/plain": [
       "quality_label\n",
       "medium    1319\n",
       "high       217\n",
       "low         63\n",
       "Name: count, dtype: int64"
      ]
     },
     "execution_count": 7,
     "metadata": {},
     "output_type": "execute_result"
    }
   ],
   "source": [
    "data['quality_label'] = data['quality'].apply(lambda x: 'low' if x <=4 else 'medium' if x>=5 and x<=6   else 'high')\n",
    "data['quality_label'].value_counts()"
   ]
  },
  {
   "cell_type": "code",
   "execution_count": 8,
   "id": "84468bf3",
   "metadata": {},
   "outputs": [
    {
     "data": {
      "application/vnd.microsoft.datawrangler.viewer.v0+json": {
       "columns": [
        {
         "name": "quality_encoded",
         "rawType": "int64",
         "type": "integer"
        },
        {
         "name": "count",
         "rawType": "int64",
         "type": "integer"
        }
       ],
       "ref": "4a94dde3-6100-4bc5-98ed-29dff94e130d",
       "rows": [
        [
         "1",
         "1319"
        ],
        [
         "2",
         "217"
        ],
        [
         "0",
         "63"
        ]
       ],
       "shape": {
        "columns": 1,
        "rows": 3
       }
      },
      "text/plain": [
       "quality_encoded\n",
       "1    1319\n",
       "2     217\n",
       "0      63\n",
       "Name: count, dtype: int64"
      ]
     },
     "execution_count": 8,
     "metadata": {},
     "output_type": "execute_result"
    }
   ],
   "source": [
    "quality_map = {'low': 0, 'medium': 1, 'high': 2}\n",
    "data['quality_encoded'] = data['quality_label'].map(quality_map)\n",
    "data['quality_encoded'].value_counts()"
   ]
  },
  {
   "cell_type": "code",
   "execution_count": 9,
   "id": "6f93f163",
   "metadata": {},
   "outputs": [
    {
     "data": {
      "image/png": "[encoded data removed]",
      "text/plain": [
       "<Figure size 1000x600 with 2 Axes>"
      ]
     },
     "metadata": {},
     "output_type": "display_data"
    }
   ],
   "source": [
    "feature_correelation = data.drop(['quality_encoded'], axis=1)\n",
    "# Include the target in the correlation matrix\n",
    "corr = feature_correelation.corr(numeric_only=True)\n",
    "\n",
    "# Visualize correlation with target\n",
    "plt.figure(figsize=(10, 6))\n",
    "sns.heatmap(corr[['quality']].sort_values(by='quality', ascending=False), annot=True, cmap='coolwarm')\n",
    "plt.title(\"Feature Correlation with Wine Quality\")\n",
    "plt.show()"
   ]
  },
  {
   "cell_type": "code",
   "execution_count": 10,
   "id": "4aeaad51",
   "metadata": {},
   "outputs": [],
   "source": [
    "# # data\n",
    "# base_controller.feature_impact(data=data,label='quality')"
   ]
  },
  {
   "cell_type": "code",
   "execution_count": 11,
   "id": "51d910f5",
   "metadata": {},
   "outputs": [],
   "source": [
    "X   =   data.drop(['quality','quality_label','quality_encoded'],axis=1)\n",
    "y   =   data['quality_encoded']  # for classification\n",
    "y_reg = data['quality']  "
   ]
  },
  {
   "cell_type": "code",
   "execution_count": 12,
   "id": "6e594a15",
   "metadata": {},
   "outputs": [],
   "source": [
    "X_train, X_test, y_train, y_test = train_test_split(X, y, test_size=0.2, random_state=42)\n",
    "# Create a Random Forest Regressor\n",
    "_, _, y_train_reg, y_test_reg = train_test_split(X, y_reg, test_size=0.2, random_state=42)"
   ]
  },
  {
   "cell_type": "code",
   "execution_count": 13,
   "id": "aed029ef",
   "metadata": {},
   "outputs": [],
   "source": [
    "scaler = StandardScaler()\n",
    "X_train_scaled = scaler.fit_transform(X_train)\n",
    "X_test_scaled = scaler.transform(X_test)\n"
   ]
  },
  {
   "cell_type": "code",
   "execution_count": 14,
   "id": "53156204",
   "metadata": {},
   "outputs": [
    {
     "name": "stdout",
     "output_type": "stream",
     "text": [
      "Classification Accuracy: 86.88 %\n",
      "\n",
      "Classification Report:\n",
      "               precision    recall  f1-score   support\n",
      "\n",
      "           0       0.00      0.00      0.00        11\n",
      "           1       0.89      0.96      0.92       262\n",
      "           2       0.71      0.57      0.64        47\n",
      "\n",
      "    accuracy                           0.87       320\n",
      "   macro avg       0.53      0.51      0.52       320\n",
      "weighted avg       0.83      0.87      0.85       320\n",
      "\n"
     ]
    },
    {
     "name": "stderr",
     "output_type": "stream",
     "text": [
      "d:\\Code for tutorials\\.venv\\lib\\site-packages\\sklearn\\metrics\\_classification.py:1565: UndefinedMetricWarning: Precision is ill-defined and being set to 0.0 in labels with no predicted samples. Use `zero_division` parameter to control this behavior.\n",
      "  _warn_prf(average, modifier, f\"{metric.capitalize()} is\", len(result))\n",
      "d:\\Code for tutorials\\.venv\\lib\\site-packages\\sklearn\\metrics\\_classification.py:1565: UndefinedMetricWarning: Precision is ill-defined and being set to 0.0 in labels with no predicted samples. Use `zero_division` parameter to control this behavior.\n",
      "  _warn_prf(average, modifier, f\"{metric.capitalize()} is\", len(result))\n",
      "d:\\Code for tutorials\\.venv\\lib\\site-packages\\sklearn\\metrics\\_classification.py:1565: UndefinedMetricWarning: Precision is ill-defined and being set to 0.0 in labels with no predicted samples. Use `zero_division` parameter to control this behavior.\n",
      "  _warn_prf(average, modifier, f\"{metric.capitalize()} is\", len(result))\n"
     ]
    }
   ],
   "source": [
    "clf = RandomForestClassifier(random_state=42)\n",
    "reg = RandomForestRegressor(random_state=42)\n",
    "clf.fit(X_train_scaled, y_train)\n",
    "y_pred_class = clf.predict(X_test_scaled)\n",
    "reg.fit(X_train_scaled, y_train)\n",
    "y_pred_reg = reg.predict(X_test_scaled)\n",
    "print(\"Classification Accuracy:\", round(accuracy_score(y_test, y_pred_class)*100, 2), \"%\")\n",
    "print(\"\\nClassification Report:\\n\", classification_report(y_test, y_pred_class))\n",
    "\n",
    "# y_pred_class,clf,accuracy=base_controller.fit_model(RandomForestClassifier(random_state=42),X_train_scaled,y_train,X_test_scaled,y_test)\n",
    "\n",
    "# y_pred_reg,reg,accuracy=base_controller.fit_model(RandomForestRegressor(random_state=42),X_train_scaled,y_train,X_test_scaled,y_test)"
   ]
  },
  {
   "cell_type": "code",
   "execution_count": 15,
   "id": "54fdbb66",
   "metadata": {},
   "outputs": [
    {
     "data": {
      "image/png": "[encoded data removed]",
      "text/plain": [
       "<Figure size 1000x600 with 1 Axes>"
      ]
     },
     "metadata": {},
     "output_type": "display_data"
    }
   ],
   "source": [
    "# Get feature importances from the regressor\n",
    "importances = reg.feature_importances_\n",
    "feature_names = X.columns\n",
    "\n",
    "# Create a pandas Series for easy visualization\n",
    "feat_importances = pd.Series(importances, index=feature_names)\n",
    "feat_importances = feat_importances.sort_values(ascending=True)\n",
    "\n",
    "# Plot feature importance\n",
    "plt.figure(figsize=(10, 6))\n",
    "feat_importances.plot(kind='barh', color='skyblue')\n",
    "plt.title(\"Feature Importance (Regression)\")\n",
    "plt.xlabel(\"Importance\")\n",
    "plt.ylabel(\"Feature\")\n",
    "plt.tight_layout()\n",
    "plt.show()"
   ]
  },
  {
   "cell_type": "code",
   "execution_count": 16,
   "id": "3b8690c7",
   "metadata": {},
   "outputs": [
    {
     "data": {
      "image/png": "[encoded data removed]",
      "text/plain": [
       "<Figure size 1000x600 with 1 Axes>"
      ]
     },
     "metadata": {},
     "output_type": "display_data"
    }
   ],
   "source": [
    "importances = clf.feature_importances_\n",
    "feat_importances = pd.Series(importances, index=feature_names).sort_values(ascending=True)\n",
    "\n",
    "plt.figure(figsize=(10, 6))\n",
    "feat_importances.plot(kind='barh', color='salmon')\n",
    "plt.title(\"Feature Importance (Classification)\")\n",
    "plt.xlabel(\"Importance\")\n",
    "plt.ylabel(\"Feature\")\n",
    "plt.tight_layout()\n",
    "plt.show()\n"
   ]
  },
  {
   "cell_type": "code",
   "execution_count": 17,
   "id": "a441fb64",
   "metadata": {},
   "outputs": [
    {
     "name": "stderr",
     "output_type": "stream",
     "text": [
      "2025-06-11 05:46:49,627 - INFO - Evaluation - GenericModel\n",
      "2025-06-11 05:46:49,629 - INFO - type: Regressor\n",
      "2025-06-11 05:46:49,631 - INFO - r2_score: -0.4112266143411394\n",
      "2025-06-11 05:46:49,633 - INFO - mean_squared_error: 0.09567375\n",
      "2025-06-11 05:46:49,634 - INFO - mean_absolute_error: 0.18431250000000002\n"
     ]
    }
   ],
   "source": [
    "result_reg = base_controller.evaluate_model(y_pred_reg, y_test,reg,confusion_matrix_plot=True)\n"
   ]
  },
  {
   "cell_type": "code",
   "execution_count": 18,
   "id": "693e7eac",
   "metadata": {},
   "outputs": [
    {
     "name": "stderr",
     "output_type": "stream",
     "text": [
      "d:\\Code for tutorials\\.venv\\lib\\site-packages\\sklearn\\metrics\\_classification.py:1565: UndefinedMetricWarning: Recall is ill-defined and being set to 0.0 in labels with no true samples. Use `zero_division` parameter to control this behavior.\n",
      "  _warn_prf(average, modifier, f\"{metric.capitalize()} is\", len(result))\n",
      "d:\\Code for tutorials\\.venv\\lib\\site-packages\\sklearn\\metrics\\_classification.py:1565: UndefinedMetricWarning: Recall is ill-defined and being set to 0.0 in labels with no true samples. Use `zero_division` parameter to control this behavior.\n",
      "  _warn_prf(average, modifier, f\"{metric.capitalize()} is\", len(result))\n",
      "d:\\Code for tutorials\\.venv\\lib\\site-packages\\sklearn\\metrics\\_classification.py:1565: UndefinedMetricWarning: Recall is ill-defined and being set to 0.0 in labels with no true samples. Use `zero_division` parameter to control this behavior.\n",
      "  _warn_prf(average, modifier, f\"{metric.capitalize()} is\", len(result))\n",
      "d:\\Code for tutorials\\.venv\\lib\\site-packages\\sklearn\\metrics\\_classification.py:1565: UndefinedMetricWarning: Recall is ill-defined and being set to 0.0 in labels with no true samples. Use `zero_division` parameter to control this behavior.\n",
      "  _warn_prf(average, modifier, f\"{metric.capitalize()} is\", len(result))\n",
      "d:\\Code for tutorials\\.venv\\lib\\site-packages\\sklearn\\metrics\\_classification.py:1565: UndefinedMetricWarning: Recall is ill-defined and being set to 0.0 in labels with no true samples. Use `zero_division` parameter to control this behavior.\n",
      "  _warn_prf(average, modifier, f\"{metric.capitalize()} is\", len(result))\n",
      "d:\\Code for tutorials\\.venv\\lib\\site-packages\\sklearn\\metrics\\_classification.py:1565: UndefinedMetricWarning: Recall is ill-defined and being set to 0.0 in labels with no true samples. Use `zero_division` parameter to control this behavior.\n",
      "  _warn_prf(average, modifier, f\"{metric.capitalize()} is\", len(result))\n"
     ]
    },
    {
     "data": {
      "image/png": "[encoded data removed]",
      "text/plain": [
       "<Figure size 600x400 with 2 Axes>"
      ]
     },
     "metadata": {},
     "output_type": "display_data"
    },
    {
     "name": "stderr",
     "output_type": "stream",
     "text": [
      "2025-06-11 05:46:49,967 - INFO - Evaluation - GenericModel\n",
      "2025-06-11 05:46:49,968 - INFO - type: Classifier\n",
      "2025-06-11 05:46:49,969 - INFO - accuracy: 0.86875\n",
      "2025-06-11 05:46:49,970 - INFO - precision: 0.9124690393048562\n",
      "2025-06-11 05:46:49,971 - INFO - recall: 0.86875\n",
      "2025-06-11 05:46:49,971 - INFO - f1_score: 0.8886534926470588\n",
      "2025-06-11 05:46:49,973 - INFO - mean_squared_error: 0.13125\n",
      "2025-06-11 05:46:49,973 - INFO - mean_absolute_error: 0.13125\n",
      "2025-06-11 05:46:49,974 - INFO - classification_report:               precision    recall  f1-score   support\n",
      "\n",
      "           0       0.00      0.00      0.00         0\n",
      "           1       0.96      0.89      0.92       282\n",
      "           2       0.57      0.71      0.64        38\n",
      "\n",
      "    accuracy                           0.87       320\n",
      "   macro avg       0.51      0.53      0.52       320\n",
      "weighted avg       0.91      0.87      0.89       320\n",
      "\n"
     ]
    }
   ],
   "source": [
    "result_class = base_controller.evaluate_model(y_pred_class, y_test,clf,confusion_matrix_plot=True)"
   ]
  }
 ],
 "metadata": {
  "kernelspec": {
   "display_name": ".venv",
   "language": "python",
   "name": "python3"
  },
  "language_info": {
   "codemirror_mode": {
    "name": "ipython",
    "version": 3
   },
   "file_extension": ".py",
   "mimetype": "text/x-python",
   "name": "python",
   "nbconvert_exporter": "python",
   "pygments_lexer": "ipython3",
   "version": "3.10.0"
  }
 },
 "nbformat": 4,
 "nbformat_minor": 5
}
