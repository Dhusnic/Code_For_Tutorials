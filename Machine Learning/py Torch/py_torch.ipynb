{
 "cells": [
  {
   "cell_type": "markdown",
   "metadata": {},
   "source": [
    "### **Fundamentals of Py Tourch**\n",
    "- `Resource Note Book` : [Resource Notebook](https://www.learnpytorch.io/00_pytorch_fundamentals/)"
   ]
  },
  {
   "cell_type": "code",
   "execution_count": 54,
   "metadata": {},
   "outputs": [],
   "source": [
    "import torch\n",
    "import pandas as pd\n",
    "import numpy as np\n",
    "import matplotlib.pyplot as plt\n"
   ]
  },
  {
   "cell_type": "code",
   "execution_count": 55,
   "metadata": {},
   "outputs": [
    {
     "name": "stdout",
     "output_type": "stream",
     "text": [
      "2.6.0+cpu\n"
     ]
    }
   ],
   "source": [
    "print(torch.__version__)"
   ]
  },
  {
   "cell_type": "markdown",
   "metadata": {
    "notebookRunGroups": {
     "groupValue": "2"
    }
   },
   "source": [
    "### Introduction To Tensor\n",
    "\n",
    "#### Creating Tensor\n"
   ]
  },
  {
   "cell_type": "code",
   "execution_count": 56,
   "metadata": {},
   "outputs": [
    {
     "name": "stdout",
     "output_type": "stream",
     "text": [
      "tensor(7)\n"
     ]
    }
   ],
   "source": [
    "# scalar\n",
    "scalar = torch.tensor(7)\n",
    "print(scalar)"
   ]
  },
  {
   "cell_type": "code",
   "execution_count": 57,
   "metadata": {},
   "outputs": [
    {
     "name": "stdout",
     "output_type": "stream",
     "text": [
      "0\n"
     ]
    }
   ],
   "source": [
    "dimention_of_tensor=scalar.ndim\n",
    "print(dimention_of_tensor)"
   ]
  },
  {
   "cell_type": "code",
   "execution_count": 58,
   "metadata": {},
   "outputs": [
    {
     "name": "stdout",
     "output_type": "stream",
     "text": [
      "7\n"
     ]
    }
   ],
   "source": [
    "### Get tensor back as python Int\n",
    "item_in_tensor=scalar.item()\n",
    "print(item_in_tensor)"
   ]
  },
  {
   "cell_type": "code",
   "execution_count": 59,
   "metadata": {},
   "outputs": [
    {
     "name": "stdout",
     "output_type": "stream",
     "text": [
      "tensor([1, 2, 3])\n"
     ]
    }
   ],
   "source": [
    "### Vector\n",
    "vector = torch.tensor([1, 2, 3])\n",
    "print(vector)"
   ]
  },
  {
   "cell_type": "code",
   "execution_count": 60,
   "metadata": {},
   "outputs": [
    {
     "name": "stdout",
     "output_type": "stream",
     "text": [
      "1\n"
     ]
    }
   ],
   "source": [
    "### vector Dimension\n",
    "dimention_of_tensor=vector.ndim\n",
    "print(dimention_of_tensor)"
   ]
  },
  {
   "cell_type": "code",
   "execution_count": 61,
   "metadata": {},
   "outputs": [
    {
     "name": "stdout",
     "output_type": "stream",
     "text": [
      "torch.Size([3])\n"
     ]
    }
   ],
   "source": [
    "### shape of the tensor\n",
    "tensor_shape  = vector.shape\n",
    "print(tensor_shape)"
   ]
  },
  {
   "cell_type": "code",
   "execution_count": 62,
   "metadata": {},
   "outputs": [
    {
     "name": "stdout",
     "output_type": "stream",
     "text": [
      "tensor([[1, 2, 3],\n",
      "        [4, 5, 6]])\n"
     ]
    }
   ],
   "source": [
    "#   MATRIX\n",
    "MATRIX = torch.tensor([[1, 2, 3], [4, 5, 6]])\n",
    "print(MATRIX)"
   ]
  },
  {
   "cell_type": "code",
   "execution_count": 63,
   "metadata": {},
   "outputs": [
    {
     "name": "stdout",
     "output_type": "stream",
     "text": [
      "2\n"
     ]
    }
   ],
   "source": [
    "dimention_of_tensor = MATRIX.ndim\n",
    "print(dimention_of_tensor)"
   ]
  },
  {
   "cell_type": "code",
   "execution_count": 64,
   "metadata": {},
   "outputs": [
    {
     "name": "stdout",
     "output_type": "stream",
     "text": [
      "torch.Size([2, 3])\n"
     ]
    }
   ],
   "source": [
    "shape_of_tensor=MATRIX.shape\n",
    "print(shape_of_tensor)"
   ]
  },
  {
   "cell_type": "code",
   "execution_count": 65,
   "metadata": {},
   "outputs": [
    {
     "name": "stdout",
     "output_type": "stream",
     "text": [
      "tensor([4, 5, 6])\n"
     ]
    }
   ],
   "source": [
    "print(MATRIX[1])"
   ]
  },
  {
   "cell_type": "code",
   "execution_count": 66,
   "metadata": {},
   "outputs": [
    {
     "name": "stdout",
     "output_type": "stream",
     "text": [
      "tensor([[[1, 2, 3],\n",
      "         [4, 5, 6],\n",
      "         [7, 8, 9]],\n",
      "\n",
      "        [[1, 2, 3],\n",
      "         [4, 5, 6],\n",
      "         [7, 8, 9]],\n",
      "\n",
      "        [[1, 2, 3],\n",
      "         [4, 5, 6],\n",
      "         [7, 8, 9]]])\n"
     ]
    }
   ],
   "source": [
    "# TENSOR\n",
    "TENSOR = torch.tensor([[[1, 2, 3], [4, 5, 6], [7, 8, 9]], [[1, 2, 3], [4, 5, 6], [7, 8, 9]], [[1, 2, 3], [4, 5, 6], [7, 8, 9]]])\n",
    "print(TENSOR)"
   ]
  },
  {
   "cell_type": "code",
   "execution_count": 67,
   "metadata": {},
   "outputs": [
    {
     "name": "stdout",
     "output_type": "stream",
     "text": [
      "3\n"
     ]
    }
   ],
   "source": [
    "# dimension of the tensor\n",
    "dimention_of_tensor = TENSOR.ndim\n",
    "print(dimention_of_tensor)"
   ]
  },
  {
   "cell_type": "code",
   "execution_count": 68,
   "metadata": {},
   "outputs": [
    {
     "name": "stdout",
     "output_type": "stream",
     "text": [
      "torch.Size([3, 3, 3])\n"
     ]
    }
   ],
   "source": [
    "# shape of the tensor\n",
    "shape_of_tensor = TENSOR.shape\n",
    "print(shape_of_tensor)"
   ]
  },
  {
   "cell_type": "code",
   "execution_count": 69,
   "metadata": {},
   "outputs": [
    {
     "data": {
      "text/plain": [
       "tensor([[1, 2, 3],\n",
       "        [4, 5, 6],\n",
       "        [7, 8, 9]])"
      ]
     },
     "execution_count": 69,
     "metadata": {},
     "output_type": "execute_result"
    }
   ],
   "source": [
    "TENSOR[0]"
   ]
  },
  {
   "cell_type": "markdown",
   "metadata": {},
   "source": [
    "### Random Tensors\n",
    "- `why Random Tensors?`\n",
    "- `Random Tensors` are important because the way many neural networks learns is that they start with tensors full of random numbers and then adjust the numbers to get to better representations of the data.\n",
    "\n",
    "`start with random numbers -> look at the daat -> update the random numbers -> look at the data -> update the random numbers`"
   ]
  },
  {
   "cell_type": "code",
   "execution_count": 70,
   "metadata": {},
   "outputs": [
    {
     "name": "stdout",
     "output_type": "stream",
     "text": [
      "tensor([0.8694, 0.5677, 0.7411]) \n",
      "\n",
      "tensor([[0.4294, 0.8854, 0.5739, 0.2666],\n",
      "        [0.6274, 0.2696, 0.4414, 0.2969],\n",
      "        [0.8317, 0.1053, 0.2695, 0.3588]]) \n",
      "\n",
      "tensor([[[0.1994, 0.5472, 0.0062, 0.9516, 0.0753],\n",
      "         [0.8860, 0.5832, 0.3376, 0.8090, 0.5779],\n",
      "         [0.9040, 0.5547, 0.3423, 0.6343, 0.3644],\n",
      "         [0.7104, 0.9464, 0.7890, 0.2814, 0.7886]],\n",
      "\n",
      "        [[0.5895, 0.7539, 0.1952, 0.0050, 0.3068],\n",
      "         [0.1165, 0.9103, 0.6440, 0.7071, 0.6581],\n",
      "         [0.4913, 0.8913, 0.1447, 0.5315, 0.1587],\n",
      "         [0.6542, 0.3278, 0.6532, 0.3958, 0.9147]],\n",
      "\n",
      "        [[0.2036, 0.2018, 0.2018, 0.9497, 0.6666],\n",
      "         [0.9811, 0.0874, 0.0041, 0.1088, 0.1637],\n",
      "         [0.7025, 0.6790, 0.9155, 0.2418, 0.1591],\n",
      "         [0.7653, 0.2979, 0.8035, 0.3813, 0.7860]]]) \n",
      "\n",
      "tensor([[[[0.1115, 0.2477, 0.6524, 0.6057, 0.3725, 0.7980],\n",
      "          [0.8399, 0.1374, 0.2331, 0.9578, 0.3313, 0.3227],\n",
      "          [0.0162, 0.2137, 0.6249, 0.4340, 0.1371, 0.5117],\n",
      "          [0.1585, 0.0758, 0.2247, 0.0624, 0.1816, 0.9998],\n",
      "          [0.5944, 0.6541, 0.0337, 0.1716, 0.3336, 0.5782]],\n",
      "\n",
      "         [[0.0600, 0.2846, 0.2007, 0.5014, 0.3139, 0.4654],\n",
      "          [0.1612, 0.1568, 0.2083, 0.3289, 0.1054, 0.9192],\n",
      "          [0.4008, 0.9302, 0.6558, 0.0766, 0.8460, 0.3624],\n",
      "          [0.3083, 0.0850, 0.0029, 0.6431, 0.3908, 0.6947],\n",
      "          [0.0897, 0.8712, 0.1330, 0.4137, 0.6044, 0.7581]],\n",
      "\n",
      "         [[0.9037, 0.9555, 0.1035, 0.6258, 0.2849, 0.4452],\n",
      "          [0.1258, 0.9554, 0.1330, 0.7672, 0.6757, 0.6625],\n",
      "          [0.2297, 0.9545, 0.6099, 0.5643, 0.0594, 0.7099],\n",
      "          [0.4250, 0.2709, 0.9295, 0.6115, 0.2234, 0.2469],\n",
      "          [0.4761, 0.7792, 0.3722, 0.2147, 0.3288, 0.1265]],\n",
      "\n",
      "         [[0.6783, 0.8870, 0.0293, 0.6161, 0.7583, 0.5907],\n",
      "          [0.3219, 0.7610, 0.7628, 0.6870, 0.4121, 0.3676],\n",
      "          [0.5535, 0.4117, 0.3510, 0.8196, 0.9297, 0.4505],\n",
      "          [0.3881, 0.5073, 0.4701, 0.6202, 0.6401, 0.0459],\n",
      "          [0.3155, 0.9211, 0.6948, 0.4751, 0.1985, 0.1941]]],\n",
      "\n",
      "\n",
      "        [[[0.0521, 0.3370, 0.6689, 0.8188, 0.7308, 0.0580],\n",
      "          [0.1993, 0.4211, 0.9837, 0.5723, 0.3705, 0.7069],\n",
      "          [0.3096, 0.1764, 0.8649, 0.2726, 0.3998, 0.0026],\n",
      "          [0.8346, 0.8788, 0.6822, 0.1514, 0.0065, 0.0939],\n",
      "          [0.8729, 0.7401, 0.9208, 0.7619, 0.6265, 0.4951]],\n",
      "\n",
      "         [[0.1197, 0.0716, 0.0323, 0.7047, 0.2545, 0.3994],\n",
      "          [0.2122, 0.4089, 0.1481, 0.1733, 0.6659, 0.3514],\n",
      "          [0.8087, 0.3396, 0.1332, 0.4118, 0.2576, 0.3470],\n",
      "          [0.0240, 0.7797, 0.1519, 0.7513, 0.7269, 0.8572],\n",
      "          [0.1165, 0.8596, 0.2636, 0.6855, 0.9696, 0.4295]],\n",
      "\n",
      "         [[0.4961, 0.3849, 0.0825, 0.7400, 0.0036, 0.8104],\n",
      "          [0.8741, 0.9729, 0.3821, 0.0892, 0.6124, 0.7762],\n",
      "          [0.0023, 0.3865, 0.2003, 0.4563, 0.2539, 0.2956],\n",
      "          [0.3413, 0.0248, 0.9103, 0.9192, 0.4216, 0.4431],\n",
      "          [0.2959, 0.0485, 0.0134, 0.6858, 0.2255, 0.1786]],\n",
      "\n",
      "         [[0.4610, 0.3335, 0.3382, 0.5161, 0.3939, 0.3278],\n",
      "          [0.2606, 0.0931, 0.9193, 0.2999, 0.6325, 0.3265],\n",
      "          [0.5406, 0.9662, 0.7304, 0.0667, 0.6985, 0.9746],\n",
      "          [0.6315, 0.8352, 0.9929, 0.4234, 0.6038, 0.1525],\n",
      "          [0.3970, 0.8703, 0.7563, 0.1836, 0.0991, 0.1583]]],\n",
      "\n",
      "\n",
      "        [[[0.0066, 0.1142, 0.3764, 0.8374, 0.5837, 0.1197],\n",
      "          [0.0989, 0.7487, 0.1281, 0.4384, 0.7399, 0.2686],\n",
      "          [0.4455, 0.4565, 0.3817, 0.2465, 0.0543, 0.0958],\n",
      "          [0.2323, 0.9829, 0.2585, 0.1642, 0.6212, 0.6378],\n",
      "          [0.7740, 0.8801, 0.7784, 0.0042, 0.5443, 0.8029]],\n",
      "\n",
      "         [[0.4538, 0.2054, 0.9767, 0.3130, 0.2153, 0.0492],\n",
      "          [0.5223, 0.7216, 0.6107, 0.5989, 0.1208, 0.0331],\n",
      "          [0.5088, 0.9559, 0.7885, 0.2089, 0.4351, 0.1314],\n",
      "          [0.2588, 0.5905, 0.7723, 0.9142, 0.0409, 0.8343],\n",
      "          [0.1474, 0.6872, 0.9231, 0.5070, 0.9549, 0.0740]],\n",
      "\n",
      "         [[0.3090, 0.7916, 0.3911, 0.3976, 0.2916, 0.8447],\n",
      "          [0.7453, 0.6602, 0.2190, 0.0941, 0.5541, 0.6481],\n",
      "          [0.2691, 0.3601, 0.8377, 0.5398, 0.5226, 0.3769],\n",
      "          [0.0472, 0.0299, 0.2610, 0.2458, 0.6558, 0.3544],\n",
      "          [0.3044, 0.9767, 0.6742, 0.8565, 0.2579, 0.2958]],\n",
      "\n",
      "         [[0.6838, 0.1669, 0.1731, 0.4759, 0.3171, 0.1252],\n",
      "          [0.7966, 0.9021, 0.5811, 0.4129, 0.0369, 0.3179],\n",
      "          [0.6273, 0.7358, 0.4368, 0.3023, 0.7786, 0.1018],\n",
      "          [0.8160, 0.3060, 0.5077, 0.4012, 0.5606, 0.3489],\n",
      "          [0.8636, 0.4870, 0.8903, 0.9807, 0.2564, 0.1352]]]]) \n",
      "\n"
     ]
    }
   ],
   "source": [
    "# create a random tensor of size 3x4\n",
    "random_tensor = torch.rand(3)\n",
    "print(random_tensor,\"\\n\")\n",
    "random_tensor = torch.rand(3, 4)\n",
    "print(random_tensor,\"\\n\")\n",
    "random_tensor = torch.rand(3, 4, 5)\n",
    "print(random_tensor,\"\\n\")\n",
    "random_tensor = torch.rand(3, 4, 5, 6)\n",
    "print(random_tensor,\"\\n\")"
   ]
  },
  {
   "cell_type": "code",
   "execution_count": 71,
   "metadata": {},
   "outputs": [
    {
     "data": {
      "text/plain": [
       "(torch.Size([3, 224, 224]), 3)"
      ]
     },
     "execution_count": 71,
     "metadata": {},
     "output_type": "execute_result"
    }
   ],
   "source": [
    "# create a random tensor with similar shape to an image tensor\n",
    "random_tensor_image_size_tensor = torch.randn(size=(3,224, 224)) #height, width, color channels(R, G, B)\n",
    "# random_tensor_image_size_tensor = torch.randn(3,224, 224) #height, width, color channels(R, G, B)\n",
    "random_tensor_image_size_tensor.shape, random_tensor_image_size_tensor.ndim"
   ]
  },
  {
   "cell_type": "markdown",
   "metadata": {},
   "source": [
    "### Zeros and Ones\n"
   ]
  },
  {
   "cell_type": "code",
   "execution_count": 72,
   "metadata": {},
   "outputs": [
    {
     "name": "stdout",
     "output_type": "stream",
     "text": [
      "tensor([[0., 0., 0., 0.],\n",
      "        [0., 0., 0., 0.],\n",
      "        [0., 0., 0., 0.]])\n"
     ]
    }
   ],
   "source": [
    "# Create a ensors of all zeros\n",
    "zero = torch.zeros(3,4)\n",
    "print(zero)"
   ]
  },
  {
   "cell_type": "code",
   "execution_count": 73,
   "metadata": {},
   "outputs": [
    {
     "name": "stdout",
     "output_type": "stream",
     "text": [
      "tensor([[0., 0., 0., 0.],\n",
      "        [0., 0., 0., 0.],\n",
      "        [0., 0., 0., 0.]])\n"
     ]
    }
   ],
   "source": [
    "random_tensor = torch.rand(3,4)\n",
    "print(zero*random_tensor)"
   ]
  },
  {
   "cell_type": "code",
   "execution_count": 74,
   "metadata": {},
   "outputs": [
    {
     "name": "stdout",
     "output_type": "stream",
     "text": [
      "tensor([[1., 1., 1., 1.],\n",
      "        [1., 1., 1., 1.],\n",
      "        [1., 1., 1., 1.],\n",
      "        [1., 1., 1., 1.]])\n"
     ]
    }
   ],
   "source": [
    "ones = torch.ones(4, 4)\n",
    "print(ones)"
   ]
  },
  {
   "cell_type": "markdown",
   "metadata": {},
   "source": [
    "### Creating a Range of tensors and tensors-like objects"
   ]
  },
  {
   "cell_type": "code",
   "execution_count": 75,
   "metadata": {},
   "outputs": [
    {
     "name": "stdout",
     "output_type": "stream",
     "text": [
      "tensor([ 1.,  2.,  3.,  4.,  5.,  6.,  7.,  8.,  9., 10.])\n",
      "tensor([ 0, 11, 22, 33, 44, 55, 66, 77])\n"
     ]
    },
    {
     "name": "stderr",
     "output_type": "stream",
     "text": [
      "C:\\Users\\Dhusnic DM\\AppData\\Local\\Temp\\ipykernel_20344\\3818570455.py:2: UserWarning: torch.range is deprecated and will be removed in a future release because its behavior is inconsistent with Python's range builtin. Instead, use torch.arange, which produces values in [start, end).\n",
      "  one_to_ten = torch.range(1, 10)\n"
     ]
    }
   ],
   "source": [
    "# use torch.range()\n",
    "one_to_ten = torch.range(1, 10)\n",
    "print(one_to_ten)\n",
    "one_to_ten = torch.arange(start= 0, end=78, step=11)\n",
    "print(one_to_ten)"
   ]
  },
  {
   "cell_type": "code",
   "execution_count": 76,
   "metadata": {},
   "outputs": [
    {
     "name": "stdout",
     "output_type": "stream",
     "text": [
      "tensor([0, 0, 0, 0, 0, 0, 0, 0])\n"
     ]
    }
   ],
   "source": [
    "# Creating a tensor like\n",
    "ten_zeros = torch.zeros_like(input=one_to_ten)\n",
    "print(ten_zeros)"
   ]
  },
  {
   "cell_type": "markdown",
   "metadata": {},
   "source": [
    "### Tensor datatypes\n",
    "#### Defnitions\n",
    "\n",
    "There are many different [tensor datatypes available in PyTorch](https://pytorch.org/docs/stable/tensors.html#data-types).\n",
    "\n",
    "Some are specific for CPU and some are better for GPU.\n",
    "\n",
    "Getting to know which one can take some time.\n",
    "\n",
    "Generally if you see `torch.cuda` anywhere, the tensor is being used for GPU (since Nvidia GPUs use a computing toolkit called CUDA).\n",
    "\n",
    "The most common type (and generally the default) is `torch.float32` or `torch.float`.\n",
    "\n",
    "This is referred to as \"32-bit floating point\".\n",
    "\n",
    "But there's also 16-bit floating point (`torch.float16` or `torch.half`) and 64-bit floating point (`torch.float64` or `torch.double`).\n",
    "\n",
    "And to confuse things even more there's also 8-bit, 16-bit, 32-bit and 64-bit integers.\n",
    "\n",
    "Plus more!\n",
    "\n",
    "> **Note:** An integer is a flat round number like `7` whereas a float has a decimal `7.0`.\n",
    "1. **check For the correct datatype**\n",
    "2. **check for the correct shape**\n",
    "3. **check for the correct device**\n",
    "\n",
    "\n",
    "The reason for all of these is to do with **precision in computing**.\n",
    "\n",
    "Precision is the amount of detail used to describe a number.\n",
    "\n",
    "The higher the precision value (8, 16, 32), the more detail and hence data used to express a number.\n",
    "\n",
    "This matters in deep learning and numerical computing because you're making so many operations, the more detail you have to calculate on, the more compute you have to use.\n",
    "\n",
    "So lower precision datatypes are generally faster to compute on but sacrifice some performance on evaluation metrics like accuracy (faster to compute but less accurate).\n",
    "\n",
    "> **Resources:** \n",
    "  * See the [PyTorch documentation for a list of all available tensor datatypes](https://pytorch.org/docs/stable/tensors.html#data-types).\n",
    "  * Read the [Wikipedia page for an overview of what precision in computing](https://en.wikipedia.org/wiki/Precision_(computer_science)) is.\n",
    "\n",
    "Let's see how to create some tensors with specific datatypes. We can do so using the `dtype` parameter."
   ]
  },
  {
   "cell_type": "code",
   "execution_count": 77,
   "metadata": {},
   "outputs": [
    {
     "name": "stdout",
     "output_type": "stream",
     "text": [
      "torch.float32\n",
      "torch.float16\n",
      "torch.float64\n"
     ]
    }
   ],
   "source": [
    "### Float 32 tensor\n",
    "## Important paprameters as dtype, device, and requires_grad\n",
    "float_32_tensor = torch.tensor([1.0, 2.0, 3.0, 4.0],dtype=None)\n",
    "print(float_32_tensor.dtype)\n",
    "float_16_tensor = torch.tensor([1.0, 2.0, 3.0, 4.0],dtype=torch.float16)\n",
    "print(float_16_tensor.dtype)\n",
    "float_64_tensor = torch.tensor([1.0, 2.0, 3.0, 4.0],\n",
    "                               dtype=torch.float64, #What data type is the tensor (e.g. flaoat32, float16, float64, int8, int16, int32, int64, bool)\n",
    "                               device=\"cpu\",        #Where the tensor is stored (e.g. cpu, gpu)\n",
    "                               requires_grad=True   #Whether or not we need to track gradients with this tensor operations (e.g. True, False)\n",
    "                               )\n",
    "\n",
    "print(float_64_tensor.dtype)"
   ]
  },
  {
   "cell_type": "code",
   "execution_count": 78,
   "metadata": {},
   "outputs": [
    {
     "name": "stdout",
     "output_type": "stream",
     "text": [
      "torch.float16\n"
     ]
    }
   ],
   "source": [
    "float_16_tensor = float_64_tensor.type(torch.float16)\n",
    "print(float_16_tensor.dtype)"
   ]
  },
  {
   "cell_type": "code",
   "execution_count": 79,
   "metadata": {},
   "outputs": [
    {
     "name": "stdout",
     "output_type": "stream",
     "text": [
      "torch.float32\n"
     ]
    }
   ],
   "source": [
    "mult = float_16_tensor*float_32_tensor\n",
    "print(mult.dtype)"
   ]
  },
  {
   "cell_type": "code",
   "execution_count": 80,
   "metadata": {},
   "outputs": [
    {
     "name": "stdout",
     "output_type": "stream",
     "text": [
      "tensor([3, 6, 9], dtype=torch.int32)\n",
      "tensor([ 9., 36., 81.]) torch.float32\n"
     ]
    }
   ],
   "source": [
    "int_32_tensor = torch.tensor([3,6,9],dtype=torch.int32)\n",
    "float_32_tensor = torch.tensor([3.0,6.0,9.0],dtype=torch.float32)\n",
    "print(int_32_tensor)\n",
    "mult = int_32_tensor*float_32_tensor\n",
    "print(mult,mult.dtype)"
   ]
  },
  {
   "cell_type": "markdown",
   "metadata": {},
   "source": [
    "### Check for the Information of Tensor\n",
    "1. **check For the correct datatype**\n",
    "2. **check for the correct shape**\n",
    "3. **check for the correct device**"
   ]
  },
  {
   "cell_type": "code",
   "execution_count": 81,
   "metadata": {},
   "outputs": [
    {
     "name": "stdout",
     "output_type": "stream",
     "text": [
      "tensor([[0.7863, 0.8423, 0.7907, 0.1556],\n",
      "        [0.6705, 0.9710, 0.2350, 0.9649],\n",
      "        [0.4517, 0.2146, 0.8086, 0.8148]])\n",
      "Datatype of tensor  :   torch.float32\n",
      "Shape of tensor     :   torch.Size([3, 4])\n",
      "Device tensor is on :   cpu\n"
     ]
    }
   ],
   "source": [
    "# Create a tensor\n",
    "some_tensor = torch.rand(3,4)\n",
    "print(some_tensor)\n",
    "print(f\"Datatype of tensor  :   {some_tensor.dtype}\")\n",
    "print(f\"Shape of tensor     :   {some_tensor.shape}\")\n",
    "print(f\"Device tensor is on :   {some_tensor.device}\")"
   ]
  },
  {
   "cell_type": "markdown",
   "metadata": {},
   "source": [
    "### **Manuipulating Tensors (tensor manipulation)**\n",
    "\n",
    "**Tensors are Operations Including**:\n",
    "- Addtion\n",
    "- Subtraction\n",
    "- Multiplication\n",
    "- Division\n",
    "- Matrix Multiplication"
   ]
  },
  {
   "cell_type": "code",
   "execution_count": 82,
   "metadata": {},
   "outputs": [
    {
     "name": "stdout",
     "output_type": "stream",
     "text": [
      "tensor([1, 2, 3])\n",
      "tensor([11, 12, 13])\n",
      "tensor([-9, -8, -7])\n",
      "tensor([10, 20, 30])\n",
      "tensor([0.1000, 0.2000, 0.3000]) tensor([0, 0, 0])\n"
     ]
    }
   ],
   "source": [
    "# Create a tensor with a single dimension\n",
    "tensor  = torch.tensor([1, 2, 3])\n",
    "print(tensor)\n",
    "\n",
    "# Tesnsor with Addition, Subtraction, Multiplication\n",
    "print(tensor+10) # Add 10 to each element in the tensor\n",
    "# print(torch.add(tensor, 10)) # Add 10 to each element in the tensor\n",
    "print(tensor-10) # Subtract 10 from each element in the tensor\n",
    "# print(torch.sub(tensor, 10)) # Subtract 10 from each element in the tensor\n",
    "print(tensor*10) # Multiply each element in the tensor by 10\n",
    "# print(torch.mul(tensor, 10)) # Multiply each element in the tensor by 10\n",
    "print(tensor/10,tensor//10) # Divide each element in the tensor by 10\n",
    "# print(torch.div(tensor, 10)) # Divide each element in the tensor by 10"
   ]
  },
  {
   "cell_type": "code",
   "execution_count": 83,
   "metadata": {},
   "outputs": [
    {
     "name": "stdout",
     "output_type": "stream",
     "text": [
      "tensor([[1, 2, 3],\n",
      "        [4, 5, 6]]) \n",
      " torch.Size([2, 3]) \n",
      "\n",
      "\n",
      " tensor([[1, 4],\n",
      "        [2, 5],\n",
      "        [3, 6]]) \n",
      " torch.Size([3, 2])\n"
     ]
    }
   ],
   "source": [
    "### Transpose of a tensor\n",
    "Matrix = torch.tensor([[1,2,3],\n",
    "                       [4,5,6],])\n",
    "\n",
    "print(Matrix,\"\\n\",Matrix.shape,\"\\n\")\n",
    "print(\"\\n\",Matrix.T,\"\\n\",Matrix.T.shape)"
   ]
  },
  {
   "cell_type": "code",
   "execution_count": 84,
   "metadata": {},
   "outputs": [
    {
     "name": "stdout",
     "output_type": "stream",
     "text": [
      "tensor(14)\n",
      "CPU times: total: 0 ns\n",
      "Wall time: 8.31 ms\n"
     ]
    }
   ],
   "source": [
    "%%time\n",
    "tensor=torch.tensor([1,2,3])\n",
    "print(tensor @ tensor)"
   ]
  },
  {
   "cell_type": "code",
   "execution_count": 85,
   "metadata": {},
   "outputs": [
    {
     "name": "stdout",
     "output_type": "stream",
     "text": [
      "X   :   tensor([[0.1748, 0.9771, 0.0769]]) \n",
      "\n",
      "Y   :  tensor([[0.5986],\n",
      "        [0.1188],\n",
      "        [0.6889]]) \n",
      "\n",
      "X * X.T   :   tensor([[0.9911]]) torch.Size([1, 3]) \n",
      "\n",
      "Y * Y.T   :   tensor([[0.3583, 0.0711, 0.4124],\n",
      "        [0.0711, 0.0141, 0.0819],\n",
      "        [0.4124, 0.0819, 0.4745]]) torch.Size([3, 1]) \n",
      "\n",
      "X * Y   :   tensor([[0.2737]]) \n",
      "\n"
     ]
    }
   ],
   "source": [
    "# Tensor of Matrix Multiplication\n",
    "X = torch.rand(1,3)\n",
    "print(f\"X   :   {X}\",\"\\n\")\n",
    "Y = torch.rand(3, 1)\n",
    "print(f\"Y   :  {Y}\",\"\\n\")\n",
    "print(f\"X * X.T   :   {torch.matmul(X,X.T)}\",X.shape,\"\\n\") # Matrix Multiplication\n",
    "print(f\"Y * Y.T   :   {torch.matmul(Y,Y.T)}\",Y.shape,\"\\n\") # Matrix Multiplication\n",
    "print(f\"X * Y   :   {X.mm(Y)}\",\"\\n\") # Matrix Multiplication\n",
    "# print(f\"X * Y   :   {torch.mm(X, Y)}\",\"\\n\") # Matrix Multiplication\n",
    "# print(f\"X * Y   :   {X @ Y}\",\"\\n\") # Matrix Multiplication"
   ]
  },
  {
   "cell_type": "markdown",
   "metadata": {},
   "source": [
    "### One of the most Common errors in deep learning is the \"Shape Mismatch\" error."
   ]
  },
  {
   "cell_type": "code",
   "execution_count": 86,
   "metadata": {},
   "outputs": [
    {
     "name": "stdout",
     "output_type": "stream",
     "text": [
      "torch.Size([3, 2]) torch.Size([3, 2]) \n",
      "\n",
      "mat1 and mat2 shapes cannot be multiplied (3x2 and 3x2)\n",
      "tensor_A @ tensor_B.T :   \n",
      " tensor([[ 27,  30,  33],\n",
      "        [ 61,  68,  75],\n",
      "        [ 95, 106, 117]])\n"
     ]
    }
   ],
   "source": [
    "### Shapes for Matrix Multiplication\n",
    "tensor_A  = torch.tensor([[1,2],\n",
    "                          [3,4],\n",
    "                          [5,6]])\n",
    "tensor_B  = torch.tensor([[7,10],\n",
    "                          [8,11],\n",
    "                          [9,12]])\n",
    "print(tensor_A.shape, tensor_B.shape,\"\\n\")\n",
    "try:\n",
    "    print(f\"tensor_A @ tensor_B :  \",\"\\n\",tensor_A @ tensor_B)\n",
    "except Exception as e:\n",
    "    print(e)\n",
    "    print(f\"tensor_A @ tensor_B.T :  \",\"\\n\",tensor_A @ tensor_B.T)"
   ]
  },
  {
   "cell_type": "markdown",
   "metadata": {},
   "source": [
    "### Finding the Aggregation of Tensors\n",
    "- Min\n",
    "- Max\n",
    "- Mean\n",
    "- Sum"
   ]
  },
  {
   "cell_type": "code",
   "execution_count": 87,
   "metadata": {},
   "outputs": [
    {
     "name": "stdout",
     "output_type": "stream",
     "text": [
      "tensor([ 0, 10, 20, 30, 40, 50, 60, 70, 80, 90]) torch.Size([10])\n",
      "Min of tesnsor: 0\n",
      "Max of tesnsor: 90\n",
      "Sum of tesnsor: 450\n",
      "mean(): could not infer output dtype. Input dtype must be either a floating point or complex dtype. Got: Long \n",
      " But its  torch.int64 \n",
      "\n",
      "Mean of tesnsor: 45.0\n"
     ]
    }
   ],
   "source": [
    "tensor = torch.arange(0,100,10)\n",
    "print(tensor , tensor.shape)\n",
    "print(f\"Min of tesnsor: {tensor.min()}\")\n",
    "print(f\"Max of tesnsor: {tensor.max()}\")\n",
    "print(f\"Sum of tesnsor: {tensor.sum()}\")\n",
    "try:\n",
    "    print(f\"Mean of tesnsor: {tensor.mean()}\")\n",
    "except Exception as e:\n",
    "    print(e,\"\\n But its \",tensor.dtype,\"\\n\")\n",
    "    tensor = tensor.type(torch.float32)\n",
    "    print(f\"Mean of tesnsor: {tensor.mean()}\")"
   ]
  },
  {
   "cell_type": "markdown",
   "metadata": {},
   "source": [
    "### Finding the Positional Min and Max of a Tensor\n",
    "- Find the position of the maximum and minimum values in a tensor"
   ]
  },
  {
   "cell_type": "code",
   "execution_count": 88,
   "metadata": {},
   "outputs": [
    {
     "name": "stdout",
     "output_type": "stream",
     "text": [
      "tensor([[91, 41, 55, 21, 20, 44, 13,  6, 14, 81]])\n",
      "Position or Index of the Element which has Minimum Value :  7\n",
      "Position or Index of the Element which has Maximum Value :  0\n"
     ]
    }
   ],
   "source": [
    "tensor = torch.randint(1, 100,(1,10))\n",
    "print(tensor)\n",
    "print(f\"Position or Index of the Element which has Minimum Value :  {tensor.argmin()}\")\n",
    "print(f\"Position or Index of the Element which has Maximum Value :  {tensor.argmax()}\")\n"
   ]
  },
  {
   "cell_type": "markdown",
   "metadata": {},
   "source": [
    "### Reshaping, Stacking, Squeezing and Unsqueezing tensors\n",
    "* `Reshaping` - Changing the shape of the tensor to desired shape\n",
    "\n",
    "* `View` - Viewing the tensor as a new shape but keep the same memory as the original tensor\n",
    "\n",
    "* `Stacking` - Combining multiple tensors on top of each other (vstack) or side by side (hstack) or depth wise (dstack)\n",
    "\n",
    "* `Squeezing` - Removing all 1 dimensions from a tensor\n",
    "\n",
    "* `Unsqueezing` - Adding an extra dimension to a tensor\n",
    "\n",
    "* `Permute` - Return a view of the original tensor with its dimensions permuted (swapped) in a certain way"
   ]
  },
  {
   "cell_type": "code",
   "execution_count": 89,
   "metadata": {},
   "outputs": [
    {
     "name": "stdout",
     "output_type": "stream",
     "text": [
      "tensor([  1,  11,  21,  31,  41,  51,  61,  71,  81,  91, 101, 111, 121, 131,\n",
      "        141, 151, 161, 171, 181, 191]) \n",
      " torch.Size([20])\n"
     ]
    }
   ],
   "source": [
    "# Creation of a tensor\n",
    "tensor = torch.arange(1,200,10)\n",
    "print(tensor,\"\\n\",tensor.shape)\n"
   ]
  },
  {
   "cell_type": "code",
   "execution_count": 90,
   "metadata": {},
   "outputs": [
    {
     "name": "stdout",
     "output_type": "stream",
     "text": [
      "tensor([[  1,  11,  21,  31,  41,  51,  61,  71,  81,  91],\n",
      "        [101, 111, 121, 131, 141, 151, 161, 171, 181, 191]]) \n",
      " torch.Size([2, 10])\n",
      "tensor([  1,  11,  21,  31,  41,  51,  61,  71,  81,  91, 101, 111, 121, 131,\n",
      "        141, 151, 161, 171, 181, 191]) \n",
      " torch.Size([20]) \n",
      "\n",
      "tensor([  1,  11,  21,  31,  41,  51,  61,  71,  81,  91, 101, 111, 121, 131,\n",
      "        141, 151, 161, 171, 181, 191]) \n",
      " torch.Size([20]) \n",
      "\n"
     ]
    }
   ],
   "source": [
    "# Reshape the input data\n",
    "tensor_input_reshaped = torch.reshape(tensor, (2,10))\n",
    "print(tensor_input_reshaped, \"\\n\", tensor_input_reshaped.shape)\n",
    "print(tensor, \"\\n\", tensor.shape,\"\\n\")\n",
    "tensor.reshape(2,10)\n",
    "print(tensor, \"\\n\", tensor.shape,\"\\n\")"
   ]
  },
  {
   "cell_type": "code",
   "execution_count": 91,
   "metadata": {},
   "outputs": [
    {
     "name": "stdout",
     "output_type": "stream",
     "text": [
      "tensor([[  1,  11,  21,  31,  41,  51,  61,  71,  81,  91],\n",
      "        [101, 111, 121, 131, 141, 151, 161, 171, 181, 191]]) \n",
      " torch.Size([2, 10])\n"
     ]
    }
   ],
   "source": [
    "#Change the View\n",
    "View=tensor.view(2,10)\n",
    "print(View,\"\\n\",View.shape)"
   ]
  },
  {
   "cell_type": "code",
   "execution_count": 92,
   "metadata": {},
   "outputs": [
    {
     "name": "stdout",
     "output_type": "stream",
     "text": [
      "tensor([[  1,  11,  21,  31,  41,  51,  61,  71,  81,  91, 101, 111, 121, 131,\n",
      "         141, 151, 161, 171, 181, 191],\n",
      "        [  1,  11,  21,  31,  41,  51,  61,  71,  81,  91, 101, 111, 121, 131,\n",
      "         141, 151, 161, 171, 181, 191],\n",
      "        [  1,  11,  21,  31,  41,  51,  61,  71,  81,  91, 101, 111, 121, 131,\n",
      "         141, 151, 161, 171, 181, 191]]) \n",
      " torch.Size([3, 20])\n",
      "tensor([[  1,   1,   1],\n",
      "        [ 11,  11,  11],\n",
      "        [ 21,  21,  21],\n",
      "        [ 31,  31,  31],\n",
      "        [ 41,  41,  41],\n",
      "        [ 51,  51,  51],\n",
      "        [ 61,  61,  61],\n",
      "        [ 71,  71,  71],\n",
      "        [ 81,  81,  81],\n",
      "        [ 91,  91,  91],\n",
      "        [101, 101, 101],\n",
      "        [111, 111, 111],\n",
      "        [121, 121, 121],\n",
      "        [131, 131, 131],\n",
      "        [141, 141, 141],\n",
      "        [151, 151, 151],\n",
      "        [161, 161, 161],\n",
      "        [171, 171, 171],\n",
      "        [181, 181, 181],\n",
      "        [191, 191, 191]]) \n",
      " torch.Size([20, 3])\n",
      "Dimension out of range (expected to be in range of [-2, 1], but got 2)\n"
     ]
    }
   ],
   "source": [
    "### Stack tensors on top of each other, and create a new tensor of size 3x4\n",
    "# vstack=torch.vstack([tensor, tensor, tensor])\n",
    "vstack=torch.stack([tensor, tensor, tensor], dim=0)\n",
    "print(vstack, '\\n', vstack.shape)\n",
    "# vstack=torch.hstack([tensor, tensor, tensor])\n",
    "hstack=torch.stack([tensor, tensor, tensor], dim=1)\n",
    "print(hstack, '\\n', hstack.shape)\n",
    "try:\n",
    "    # vstack=torch.dstack([tensor, tensor, tensor])\n",
    "    dstack=torch.stack([tensor, tensor, tensor], dim=2)\n",
    "    print(dstack, '\\n', dstack.shape)\n",
    "except Exception as e:\n",
    "    print(e)"
   ]
  },
  {
   "cell_type": "code",
   "execution_count": 93,
   "metadata": {},
   "outputs": [
    {
     "name": "stdout",
     "output_type": "stream",
     "text": [
      "torch.Size([2, 1, 2, 1, 2]) \n",
      "\n",
      "torch.Size([2, 2, 2]) \n",
      "\n",
      "torch.Size([2, 1, 2, 1, 2]) \n",
      "\n",
      "torch.Size([2, 2, 1, 2]) \n",
      "\n",
      "Previous tensor: tensor([[4, 5, 8, 8, 5, 7, 2, 1, 3]])\n",
      "Shape Of X: torch.Size([1, 9]) \n",
      "\n",
      "Tensor after squeeze: tensor([4, 5, 8, 8, 5, 7, 2, 1, 3])\n",
      "Shape Of X after squeeze: torch.Size([9])\n"
     ]
    }
   ],
   "source": [
    "# tourch.squeeze() - removes all single dimensions from a target tensor\n",
    "X = torch.zeros(2, 1, 2, 1, 2)\n",
    "print(X.size(),\"\\n\")\n",
    "Y = torch.squeeze(X)\n",
    "print(Y.size(),\"\\n\")\n",
    "Y = torch.squeeze(X, 0)\n",
    "print(Y.size(),\"\\n\")\n",
    "Y = torch.squeeze(X, 1)\n",
    "print(Y.size(),\"\\n\")\n",
    "\n",
    "\n",
    "\n",
    "X = torch.randint(1, 10, (1,9))\n",
    "print(f\"Previous tensor: {X}\")\n",
    "print(f\"Shape Of X: {X.shape}\",\"\\n\")\n",
    "print(f\"Tensor after squeeze: {torch.squeeze(X)}\")\n",
    "print(f\"Shape Of X after squeeze: {torch.squeeze(X).shape}\")\n"
   ]
  },
  {
   "cell_type": "code",
   "execution_count": 94,
   "metadata": {},
   "outputs": [
    {
     "name": "stdout",
     "output_type": "stream",
     "text": [
      "Previous target: tensor([1, 2, 3, 4])\n",
      "Previous shape: torch.Size([4]) \n",
      "\n",
      "New target: tensor([[1, 2, 3, 4]])\n",
      "New shape: torch.Size([1, 4]) \n",
      "\n",
      "New target: tensor([[1],\n",
      "        [2],\n",
      "        [3],\n",
      "        [4]])\n",
      "New shape: torch.Size([4, 1])\n"
     ]
    }
   ],
   "source": [
    "# tourch.unsqueeze() - adds a single dimension to a tensor at a specified dimension\n",
    "X = torch.tensor([1,2,3,4])\n",
    "print(f\"Previous target: {X}\")\n",
    "print(f\"Previous shape: {X.shape}\",\"\\n\")\n",
    "# Add an extra dimension to X\n",
    "X_expanded = X.unsqueeze(dim=0)\n",
    "print(f\"New target: {X_expanded}\")\n",
    "print(f\"New shape: {X_expanded.shape}\",\"\\n\")\n",
    "\n",
    "X_expanded = X.unsqueeze(dim=1)\n",
    "print(f\"New target: {X_expanded}\")\n",
    "print(f\"New shape: {X_expanded.shape}\")\n"
   ]
  },
  {
   "cell_type": "code",
   "execution_count": 95,
   "metadata": {},
   "outputs": [
    {
     "name": "stdout",
     "output_type": "stream",
     "text": [
      "X : tensor([[[ 1.7159,  0.3278,  0.3810, -0.9655,  0.3247],\n",
      "         [ 0.3564, -0.6965, -1.0447,  0.7659,  0.9976],\n",
      "         [-0.1101, -0.9869, -0.8590, -1.1065,  0.2365]],\n",
      "\n",
      "        [[-1.0043, -0.1394,  0.0815,  0.9775,  0.0736],\n",
      "         [ 0.9898, -1.2798, -1.1252, -0.5871, -1.3253],\n",
      "         [ 1.7404, -0.3474,  1.0408,  0.0848, -1.3438]]])\n",
      "Shape of X : torch.Size([2, 3, 5]) \n",
      "\n",
      "X_permuted : tensor([[[ 1.7159,  0.3564, -0.1101],\n",
      "         [-1.0043,  0.9898,  1.7404]],\n",
      "\n",
      "        [[ 0.3278, -0.6965, -0.9869],\n",
      "         [-0.1394, -1.2798, -0.3474]],\n",
      "\n",
      "        [[ 0.3810, -1.0447, -0.8590],\n",
      "         [ 0.0815, -1.1252,  1.0408]],\n",
      "\n",
      "        [[-0.9655,  0.7659, -1.1065],\n",
      "         [ 0.9775, -0.5871,  0.0848]],\n",
      "\n",
      "        [[ 0.3247,  0.9976,  0.2365],\n",
      "         [ 0.0736, -1.3253, -1.3438]]])\n",
      "Shape X_permuted : torch.Size([5, 2, 3]) \n",
      "\n",
      "\n",
      "Previous shape: torch.Size([224, 224, 3])\n",
      "New shape: torch.Size([3, 224, 224])\n"
     ]
    }
   ],
   "source": [
    "# tourch.permute() - to change the order of the dimensions of a tensor\n",
    "X = torch.randn(2, 3, 5)\n",
    "print(f\"X : {X}\")\n",
    "print(f\"Shape of X : {X.shape}\",\"\\n\")\n",
    "X_permuted = X.permute(2, 0, 1)\n",
    "print(f\"X_permuted : {X_permuted}\")\n",
    "print(f\"Shape X_permuted : {X_permuted.shape}\",\"\\n\\n\")\n",
    "\n",
    "\n",
    "\n",
    "# torch-permute - rearranges the dimensions of a target tensor in a specified order\n",
    "x_original = torch.rand(size=(224, 224, 3)) # [height, width, colour_channels]\n",
    "# Permute the original tensor to rearrange the axis (or dim) order\n",
    "x_permuted = x_original.permute(2, 0, 1) # shifts axis 0->1, 1->2, 2->0\n",
    "print(f\"Previous shape: {x_original.shape}\")\n",
    "print(f\"New shape: {x_permuted.shape}\") # [colour channels, height, width]"
   ]
  },
  {
   "cell_type": "markdown",
   "metadata": {},
   "source": [
    "### Indexing\n",
    "- Indexing with PyTourch is similar to indexing with NumPy"
   ]
  },
  {
   "cell_type": "code",
   "execution_count": 96,
   "metadata": {},
   "outputs": [
    {
     "name": "stdout",
     "output_type": "stream",
     "text": [
      "x: tensor([[[1, 2, 3],\n",
      "         [4, 5, 6],\n",
      "         [7, 8, 9]]]), shape: torch.Size([1, 3, 3])\n"
     ]
    }
   ],
   "source": [
    "x = torch.arange(1, 10).reshape(1,3, 3)\n",
    "print(f\"x: {x}, shape: {x.shape}\")"
   ]
  },
  {
   "cell_type": "code",
   "execution_count": 97,
   "metadata": {},
   "outputs": [
    {
     "name": "stdout",
     "output_type": "stream",
     "text": [
      "x[0] = tensor([[1, 2, 3],\n",
      "        [4, 5, 6],\n",
      "        [7, 8, 9]]) \n",
      "\n",
      "x[0][0] = tensor([1, 2, 3]) \n",
      "\n",
      "x[0][0][0] = 1 \n",
      "\n"
     ]
    }
   ],
   "source": [
    "print(f\"x[0] = {x[0]}\",\"\\n\")\n",
    "print(f\"x[0][0] = {x[0][0]}\",\"\\n\")\n",
    "print(f\"x[0][0][0] = {x[0][0][0]}\",\"\\n\")"
   ]
  },
  {
   "cell_type": "code",
   "execution_count": 98,
   "metadata": {},
   "outputs": [
    {
     "name": "stdout",
     "output_type": "stream",
     "text": [
      "x[0, :] = tensor([[1, 2, 3],\n",
      "        [4, 5, 6],\n",
      "        [7, 8, 9]]) \n",
      "\n",
      "x[:, :, 1] = tensor([[2, 5, 8]])\n"
     ]
    }
   ],
   "source": [
    "# you can also use \":\" to select a all of target dimension\n",
    "print(f\"x[0, :] = {x[0, :]}\",\"\\n\")\n",
    "print(f\"x[:, :, 1] = {x[:,: ,1]}\")"
   ]
  },
  {
   "cell_type": "code",
   "execution_count": 99,
   "metadata": {},
   "outputs": [
    {
     "name": "stdout",
     "output_type": "stream",
     "text": [
      "tensor(6)\n",
      "tensor(9)\n",
      "tensor([[3, 6, 9]])\n"
     ]
    }
   ],
   "source": [
    "# Get all vlues of the 0 dimention but only the 1 index value of 1st and 2nd dimention\n",
    "print(x[0,1,2])\n",
    "print(x[0,2,2])\n",
    "print(x[:,:,2])"
   ]
  },
  {
   "cell_type": "markdown",
   "metadata": {},
   "source": [
    "### PyTorch tensors & Numpy\n",
    "Numpy is a popular library for scientific computing that uses multi-dimensional arrays and matrices.\n",
    "\n",
    "And because of this , PyTorch has functionality to intract with it.\n",
    "\n",
    "- Data in NumPy , Want in PyTorch tensor\n",
    "- NumPy array -> PyTorch Tensor -> `torch.from_numpy(ndarray)`\n",
    "\n",
    "- PyTorch Tensor -> NumPy array -> `tensor.numpy()`"
   ]
  },
  {
   "cell_type": "code",
   "execution_count": 100,
   "metadata": {},
   "outputs": [
    {
     "name": "stdout",
     "output_type": "stream",
     "text": [
      "Array: [1 2 3 4 5]\n",
      "Tensor: tensor([1, 2, 3, 4, 5])\n",
      "Converted Tensor type: torch.int64, Tensor type: torch.int64\n"
     ]
    }
   ],
   "source": [
    "# NumPy array to tensor\n",
    "\n",
    "array = np.array([1, 2, 3, 4, 5])\n",
    "converted_tensor = torch.from_numpy(array)\n",
    "tensor = torch.tensor([1, 2, 3, 4, 5])\n",
    "print(f\"Array: {array}\")\n",
    "print(f\"Tensor: {converted_tensor}\")\n",
    "print(f\"Converted Tensor type: {converted_tensor.dtype}, Tensor type: {tensor.dtype}\")"
   ]
  },
  {
   "cell_type": "code",
   "execution_count": 101,
   "metadata": {},
   "outputs": [
    {
     "name": "stdout",
     "output_type": "stream",
     "text": [
      "tensor: tensor([[1., 1., 1.],\n",
      "        [1., 1., 1.],\n",
      "        [1., 1., 1.],\n",
      "        [1., 1., 1.],\n",
      "        [1., 1., 1.]])\n",
      "numpy_tensor: [[1. 1. 1.]\n",
      " [1. 1. 1.]\n",
      " [1. 1. 1.]\n",
      " [1. 1. 1.]\n",
      " [1. 1. 1.]]\n"
     ]
    }
   ],
   "source": [
    "# Tensor to Numpy array\n",
    "tensor  = torch.ones(5, 3)\n",
    "numpy_tensor = tensor.numpy()\n",
    "print(f\"tensor: {tensor}\")\n",
    "print(f\"numpy_tensor: {numpy_tensor}\")"
   ]
  },
  {
   "cell_type": "markdown",
   "metadata": {},
   "source": [
    "### PyTorch Reproducbility\n",
    "In Short how neural networks are trained\n",
    "\n",
    "`start with a random number -> tensor  operatons -> random number to try and make them of the data -> repeat`\n",
    "\n",
    "- TO Reduce the randomness we can use the concept Called the  **random seed** `torch.manual_seed(seed)`\n",
    "\n",
    "Essentially What the random seed does it \"flavour\" the randomness\n"
   ]
  },
  {
   "cell_type": "code",
   "execution_count": 102,
   "metadata": {},
   "outputs": [
    {
     "name": "stdout",
     "output_type": "stream",
     "text": [
      "tensor([[0.5408, 0.8272, 0.9463, 0.9948],\n",
      "        [0.0658, 0.4530, 0.8747, 0.7106],\n",
      "        [0.8322, 0.9224, 0.7781, 0.5189]]) \n",
      "\n",
      "tensor([[0.6159, 0.1088, 0.8111, 0.3103],\n",
      "        [0.3410, 0.0430, 0.8347, 0.3913],\n",
      "        [0.5615, 0.4123, 0.6888, 0.1540]]) \n",
      "\n",
      "tensor([[False, False, False, False],\n",
      "        [False, False, False, False],\n",
      "        [False, False, False, False]])\n"
     ]
    }
   ],
   "source": [
    "random_tensor_A = torch.rand(3, 4)\n",
    "random_tensor_B = torch.rand(3, 4)\n",
    "print(random_tensor_A,\"\\n\")\n",
    "print(random_tensor_B,\"\\n\")\n",
    "print(random_tensor_A == random_tensor_B)"
   ]
  },
  {
   "cell_type": "code",
   "execution_count": 103,
   "metadata": {},
   "outputs": [
    {
     "name": "stdout",
     "output_type": "stream",
     "text": [
      "Random Tensor C:\n",
      " tensor([[0.8823, 0.9150, 0.3829, 0.9593],\n",
      "        [0.3904, 0.6009, 0.2566, 0.7936],\n",
      "        [0.9408, 0.1332, 0.9346, 0.5936]]) \n",
      "\n",
      "Random Tensor D:\n",
      " tensor([[0.8694, 0.5677, 0.7411, 0.4294],\n",
      "        [0.8854, 0.5739, 0.2666, 0.6274],\n",
      "        [0.2696, 0.4414, 0.2969, 0.8317]]) \n",
      "\n",
      "Random Tensor SEED :\n",
      " tensor([[False, False, False, False],\n",
      "        [False, False, False, False],\n",
      "        [False, False, False, False]]) \n",
      "\n"
     ]
    }
   ],
   "source": [
    "# Lets Make some Random but reproducible data\n",
    "RANDOM_SEED=42\n",
    "torch.manual_seed(RANDOM_SEED)\n",
    "\n",
    "random_tensor_C = torch.rand(3,4)\n",
    "random_tensor_D = torch.rand(3,4)\n",
    "print(f\"Random Tensor C:\\n {random_tensor_C} \\n\")\n",
    "print(f\"Random Tensor D:\\n {random_tensor_D} \\n\")\n",
    "print(f\"Random Tensor SEED :\\n {random_tensor_C == random_tensor_D} \\n\")\n"
   ]
  },
  {
   "cell_type": "code",
   "execution_count": 104,
   "metadata": {},
   "outputs": [
    {
     "name": "stdout",
     "output_type": "stream",
     "text": [
      "Random Tensor C:\n",
      " tensor([[0.8823, 0.9150, 0.3829, 0.9593],\n",
      "        [0.3904, 0.6009, 0.2566, 0.7936],\n",
      "        [0.9408, 0.1332, 0.9346, 0.5936]]) \n",
      "\n",
      "Random Tensor D:\n",
      " tensor([[0.8823, 0.9150, 0.3829, 0.9593],\n",
      "        [0.3904, 0.6009, 0.2566, 0.7936],\n",
      "        [0.9408, 0.1332, 0.9346, 0.5936]]) \n",
      "\n",
      "Random Tensor SEED :\n",
      " tensor([[True, True, True, True],\n",
      "        [True, True, True, True],\n",
      "        [True, True, True, True]]) \n",
      "\n"
     ]
    }
   ],
   "source": [
    "# Lets Make some Random but reproducible data\n",
    "RANDOM_SEED=42\n",
    "torch.manual_seed(RANDOM_SEED)\n",
    "random_tensor_C = torch.rand(3,4)\n",
    "\n",
    "torch.manual_seed(RANDOM_SEED)\n",
    "random_tensor_D = torch.rand(3,4)\n",
    "print(f\"Random Tensor C:\\n {random_tensor_C} \\n\")\n",
    "print(f\"Random Tensor D:\\n {random_tensor_D} \\n\")\n",
    "print(f\"Random Tensor SEED :\\n {random_tensor_C == random_tensor_D} \\n\")\n"
   ]
  },
  {
   "cell_type": "markdown",
   "metadata": {},
   "source": [
    "### Running tensors on GPUs (and making faster computations)\n",
    "\n",
    "- Deep learning algorithms require a lot of numerical operations.\n",
    "\n",
    "- And by default these operations are often done on a CPU (computer processing unit).\n",
    "\n",
    "- However, there's another common piece of hardware called a GPU (graphics processing unit), which is often much faster at performing the specific types of operations neural networks need (matrix multiplications) than CPUs.\n",
    "\n",
    "Your computer might have one.\n",
    "\n",
    "If so, you should look to use it whenever you can to train neural networks because chances are it'll speed up the training time dramatically.\n",
    "\n",
    "There are a few ways to first get access to a GPU and secondly get PyTorch to use the GPU.\n",
    "\n",
    "Note: When I reference \"GPU\" throughout this course, I'm referencing a Nvidia GPU with CUDA enabled (CUDA is a computing platform and API that helps allow GPUs be used for general purpose computing & not just graphics) unless otherwise specified."
   ]
  },
  {
   "cell_type": "code",
   "execution_count": 105,
   "metadata": {},
   "outputs": [
    {
     "data": {
      "text/plain": [
       "False"
      ]
     },
     "execution_count": 105,
     "metadata": {},
     "output_type": "execute_result"
    }
   ],
   "source": [
    "torch.cuda.is_available()"
   ]
  },
  {
   "cell_type": "code",
   "execution_count": 106,
   "metadata": {},
   "outputs": [
    {
     "data": {
      "text/plain": [
       "0"
      ]
     },
     "execution_count": 106,
     "metadata": {},
     "output_type": "execute_result"
    }
   ],
   "source": [
    "torch.cuda.device_count()"
   ]
  }
 ],
 "metadata": {
  "kernelspec": {
   "display_name": ".venv",
   "language": "python",
   "name": "python3"
  },
  "language_info": {
   "codemirror_mode": {
    "name": "ipython",
    "version": 3
   },
   "file_extension": ".py",
   "mimetype": "text/x-python",
   "name": "python",
   "nbconvert_exporter": "python",
   "pygments_lexer": "ipython3",
   "version": "3.9.13"
  }
 },
 "nbformat": 4,
 "nbformat_minor": 2
}
