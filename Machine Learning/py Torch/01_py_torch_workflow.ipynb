{
 "cells": [
  {
   "cell_type": "markdown",
   "id": "5e9c3741",
   "metadata": {},
   "source": [
    "# PyTorch Workflow\n",
    "Let's explore a an example PyTorch end-to-end workflow.\n",
    "Resources:\n",
    "* Ground truth notebook - https://github.com/mrdbourke/pytorch-deep-learning/blob/main/01_pytorch_workflow.ipynb\n",
    "\n",
    "* Book version - https://www.learnpytorch.io/01_pytorch_workflow/"
   ]
  },
  {
   "cell_type": "code",
   "execution_count": 299,
   "id": "aaa157bb",
   "metadata": {},
   "outputs": [],
   "source": [
    "what_were_covering = {1: \"data (prepare and load)\",\n",
    "    2: \"build model\",\n",
    "    3: \"fitting the model to data (training)\",\n",
    "    4: \"making predictions and evaluating a model (inference)\",\n",
    "    5: \"saving and loading a model\",\n",
    "    6: \"putting it all together\"\n",
    "}"
   ]
  },
  {
   "cell_type": "code",
   "execution_count": 300,
   "id": "cc364711",
   "metadata": {},
   "outputs": [
    {
     "name": "stdout",
     "output_type": "stream",
     "text": [
      "2.6.0+cpu\n"
     ]
    }
   ],
   "source": [
    "import torch\n",
    "import torch.nn as nn\n",
    "import matplotlib.pyplot as plt\n",
    "\n",
    "## Check pyTorch version\n",
    "print(torch.__version__)"
   ]
  },
  {
   "cell_type": "markdown",
   "id": "d3c4dde8",
   "metadata": {},
   "source": [
    "## 1. Data (preparing and loading)\n",
    "Data can be almost anything... in machine learning.\n",
    "* Excel speadsheet\n",
    "* Images of any kind\n",
    "* Videos (YouTube has lots of data...)\n",
    "* Audio like songs or podcasts\n",
    "* DNA\n",
    "* Text\n",
    "\n",
    "Machine Learning is a game of two parts:\n",
    "1. Get data into a numerical representation\n",
    "2. Build a model to learn patterns in that numerical representation\n",
    "\n",
    "To showcase this, let's create some *known* data using the linear regression formula."
   ]
  },
  {
   "cell_type": "code",
   "execution_count": 301,
   "id": "efa34c53",
   "metadata": {},
   "outputs": [
    {
     "name": "stdout",
     "output_type": "stream",
     "text": [
      "X[:10]  :   tensor([[0.0000],\n",
      "        [0.0200],\n",
      "        [0.0400],\n",
      "        [0.0600],\n",
      "        [0.0800],\n",
      "        [0.1000],\n",
      "        [0.1200],\n",
      "        [0.1400],\n",
      "        [0.1600],\n",
      "        [0.1800]]) \n",
      "\n",
      "Y[:10]  :   tensor([[0.3000],\n",
      "        [0.3140],\n",
      "        [0.3280],\n",
      "        [0.3420],\n",
      "        [0.3560],\n",
      "        [0.3700],\n",
      "        [0.3840],\n",
      "        [0.3980],\n",
      "        [0.4120],\n",
      "        [0.4260]]) \n",
      "\n",
      "len(X) :   50\n",
      "len(Y) :   50\n"
     ]
    }
   ],
   "source": [
    "# Creare Known Parameters\n",
    "weight = 0.7\n",
    "bias = 0.3\n",
    "# Create Data\n",
    "start = 0\n",
    "end = 1\n",
    "step = 0.02\n",
    "X = torch.arange(start, end, step).unsqueeze(dim=1)\n",
    "Y = weight * X + bias # linear regression formula y = mx+c\n",
    "print(f\"X[:10]  :   {X[:10]}\",\"\\n\")\n",
    "print(f\"Y[:10]  :   {Y[:10]}\",\"\\n\")\n",
    "print(f\"len(X) :   {len(X)}\")\n",
    "print(f\"len(Y) :   {len(Y)}\")\n",
    "\n"
   ]
  },
  {
   "cell_type": "code",
   "execution_count": 302,
   "id": "d87d864b",
   "metadata": {},
   "outputs": [
    {
     "name": "stdout",
     "output_type": "stream",
     "text": [
      "y = 0.7x + 0.3 = tensor([[0.3000],\n",
      "        [0.3140],\n",
      "        [0.3280],\n",
      "        [0.3420],\n",
      "        [0.3560],\n",
      "        [0.3700],\n",
      "        [0.3840],\n",
      "        [0.3980],\n",
      "        [0.4120],\n",
      "        [0.4260],\n",
      "        [0.4400],\n",
      "        [0.4540],\n",
      "        [0.4680],\n",
      "        [0.4820],\n",
      "        [0.4960],\n",
      "        [0.5100],\n",
      "        [0.5240],\n",
      "        [0.5380],\n",
      "        [0.5520],\n",
      "        [0.5660],\n",
      "        [0.5800],\n",
      "        [0.5940],\n",
      "        [0.6080],\n",
      "        [0.6220],\n",
      "        [0.6360],\n",
      "        [0.6500],\n",
      "        [0.6640],\n",
      "        [0.6780],\n",
      "        [0.6920],\n",
      "        [0.7060],\n",
      "        [0.7200],\n",
      "        [0.7340],\n",
      "        [0.7480],\n",
      "        [0.7620],\n",
      "        [0.7760],\n",
      "        [0.7900],\n",
      "        [0.8040],\n",
      "        [0.8180],\n",
      "        [0.8320],\n",
      "        [0.8460],\n",
      "        [0.8600],\n",
      "        [0.8740],\n",
      "        [0.8880],\n",
      "        [0.9020],\n",
      "        [0.9160],\n",
      "        [0.9300],\n",
      "        [0.9440],\n",
      "        [0.9580],\n",
      "        [0.9720],\n",
      "        [0.9860]])\n"
     ]
    }
   ],
   "source": [
    "y = weight * X + bias\n",
    "print(f\"y = {weight}x + {bias} = {y}\")"
   ]
  },
  {
   "cell_type": "markdown",
   "id": "65682865",
   "metadata": {},
   "source": [
    "### Splitting data into training and test sets (60% - 80% train, 10% - 20% test)\n",
    "\n",
    "Let's create a training and test data to use for our model."
   ]
  },
  {
   "cell_type": "code",
   "execution_count": 303,
   "id": "7b3ee53d",
   "metadata": {},
   "outputs": [
    {
     "name": "stdout",
     "output_type": "stream",
     "text": [
      "len(X) = 50 , len(y) = 50\n"
     ]
    }
   ],
   "source": [
    "print(f\"len(X) = {len(X)} , len(y) = {len(y)}\")"
   ]
  },
  {
   "cell_type": "code",
   "execution_count": 304,
   "id": "3a6b0984",
   "metadata": {},
   "outputs": [
    {
     "name": "stdout",
     "output_type": "stream",
     "text": [
      "train_split: 40\n",
      "x_train: 40, y_train: 40\n",
      "x_test: 10, y_test: 10\n"
     ]
    }
   ],
   "source": [
    "# create a train and test set\n",
    "train_split = int(0.8 * len(X))\n",
    "X_train, y_train = X[:train_split], y[:train_split]\n",
    "X_test, y_test = X[train_split:], y[train_split:]\n",
    "print(f\"train_split: {train_split}\")\n",
    "print(f\"x_train: {len(X_train)}, y_train: {len(y_train)}\")\n",
    "print(f\"x_test: {len(X_test)}, y_test: {len(y_test)}\")"
   ]
  },
  {
   "cell_type": "markdown",
   "id": "ef89560e",
   "metadata": {},
   "source": [
    "### How might we better visualize the data?\n",
    "This is where the data exporer's motto come in.\n",
    "\"Visualization is the soul of understanding.\""
   ]
  },
  {
   "cell_type": "code",
   "execution_count": 305,
   "id": "eee7d3a5",
   "metadata": {},
   "outputs": [
    {
     "data": {
      "image/png": "[encoded data removed]",
      "text/plain": [
       "<Figure size 1000x700 with 1 Axes>"
      ]
     },
     "metadata": {},
     "output_type": "display_data"
    }
   ],
   "source": [
    "def plot_prediction(train_data=X_train, \n",
    "                    train_labels=y_train, \n",
    "                    test_data=X_test, \n",
    "                    test_labels=y_test, \n",
    "                    predictions=None):\n",
    "    plt.figure(figsize=(10, 7))\n",
    "    # Plot training data in blue\n",
    "    plt.scatter(train_data, train_labels, c=\"b\", s=4, label=\"Training data\")\n",
    "    # Plot test data in green\n",
    "    plt.scatter(test_data, test_labels, c=\"g\", s=4, label=\"Testing data\")\n",
    "    # Are there predictions?\n",
    "    if predictions is not None:\n",
    "        # Plot the predictions if they exist\n",
    "        plt.scatter(test_data, predictions, c=\"r\", s=4, label=\"Predictions\")\n",
    "    # Show the legend\n",
    "    plt.legend(prop={\"size\": 14})\n",
    "    \n",
    "plot_prediction()"
   ]
  },
  {
   "cell_type": "markdown",
   "id": "a232876f",
   "metadata": {},
   "source": [
    "### 2. Build a First Py Torch Model\n",
    "Our first PyTorch model!\n",
    "\n",
    "This is very exciting.... let's get started!\n",
    "\n",
    "Because we're going to be building a classes throughout this course, let's start by building a class for our PyTorch model.\n",
    "\n",
    "#### What our model will do:\n",
    "* Start with a random values (weight & bias).\n",
    "* Look at training data and adjust the random values to better represent (or get closer to) the ideal values (the weight & bias values we used to create our training data).\n",
    "\n",
    "Through two main algorithms:\n",
    "* Gradient descent. - https://www.youtube.com/watch?v=IHZwWFHWa-w\n",
    "* Backpropagation. - https://www.youtube.com/watch?v=Ilg3gGewQ5U\n"
   ]
  },
  {
   "cell_type": "code",
   "execution_count": 306,
   "id": "ab1711b8",
   "metadata": {},
   "outputs": [],
   "source": [
    "class LinearRegressionModel(nn.Module): #<- almost everything in PyTorch is a nn.Module (think of this as neural network lego blocks)\n",
    "    def __init__(self):\n",
    "        super().__init__()\n",
    "        self.weights = nn.Parameter(torch.randn(1, #<- start with random weights (this will get adjusted as the model learns)\n",
    "            requires_grad=True,#<- can we update this value with gradient descent?)\n",
    "            dtype=torch.float))\n",
    "        self.bias = nn.Parameter(torch.randn(1,\n",
    "            requires_grad=True,\n",
    "            dtype=torch.float))\n",
    "        print(f\"Initial weights: {self.weights.data} , \\n Initial bias: {self.bias.data}\")\n",
    "        # Forward defines the computation in the model\n",
    "    def forward(self, x: torch.Tensor) -> torch.Tensor: # <- \"x\" is the input data (e.g. training/testing features)\n",
    "        return self.weights * x + self.bias # <- this is the linear regression formula (y = m*x + b)"
   ]
  },
  {
   "cell_type": "markdown",
   "id": "430091a4",
   "metadata": {},
   "source": [
    "### PyTorch model building essenntials\n",
    "\n",
    "* torch.nn - contains all of the building blocks for computational graphs (a neural network is a computational graph)\n",
    "* torch.nn.Parameter - what parameters should our model try and learn, often a PyTorch layer from torch.nn will set these for us\n",
    "* torch.nn.Module - The base class for all neural network modules, if you subclass it, you should overwrite forward()\n",
    "* torch.optim - this where the optimizers in PyTorch live, they will help with gradient descent\n",
    "* def forward() - All nn.Module subclasses require you to overwrite forward(), this method defines what happens in the forward computation"
   ]
  },
  {
   "cell_type": "markdown",
   "id": "167294ea",
   "metadata": {},
   "source": [
    "### Checking the contents of our PyTorch model\n",
    "\n",
    "Now we've created a model, let's see what's inside.\n",
    "So we can check our model parameters or what's inside our model using `.parameters()`."
   ]
  },
  {
   "cell_type": "code",
   "execution_count": 307,
   "id": "e6fb4ab8",
   "metadata": {},
   "outputs": [
    {
     "name": "stdout",
     "output_type": "stream",
     "text": [
      "Initial weights: tensor([0.3367]) , \n",
      " Initial bias: tensor([0.1288])\n"
     ]
    },
    {
     "data": {
      "text/plain": [
       "[Parameter containing:\n",
       " tensor([0.3367], requires_grad=True),\n",
       " Parameter containing:\n",
       " tensor([0.1288], requires_grad=True)]"
      ]
     },
     "execution_count": 307,
     "metadata": {},
     "output_type": "execute_result"
    }
   ],
   "source": [
    "### Create a random seed\n",
    "torch.manual_seed(42)\n",
    "\n",
    "# Create a instance of the model (this is a subclass of nn.Module that contains nn.parameter(s))\n",
    "model_0 = LinearRegressionModel()\n",
    "# Check the nn.parameter(s) within the nn.Module subclass we created\n",
    "list(model_0.parameters())"
   ]
  },
  {
   "cell_type": "code",
   "execution_count": 308,
   "id": "555cb1f4",
   "metadata": {},
   "outputs": [
    {
     "name": "stdout",
     "output_type": "stream",
     "text": [
      "OrderedDict([('weights', tensor([0.3367])), ('bias', tensor([0.1288]))])\n"
     ]
    }
   ],
   "source": [
    "### List named parameters\n",
    "print(model_0.state_dict())"
   ]
  },
  {
   "cell_type": "markdown",
   "id": "e8f47050",
   "metadata": {},
   "source": [
    "### Making predictions using 'torch.inference_mode()'\n",
    "\n",
    "To check our model's predictive power, let's see how well it predicts `y_test` based on `X_test`.\n",
    "when we pass data through our model, it's going to run it through the `forward()` method."
   ]
  },
  {
   "cell_type": "code",
   "execution_count": 309,
   "id": "61cee11f",
   "metadata": {},
   "outputs": [
    {
     "name": "stdout",
     "output_type": "stream",
     "text": [
      "y_preds    : tensor([[0.3982],\n",
      "        [0.4049],\n",
      "        [0.4116],\n",
      "        [0.4184],\n",
      "        [0.4251],\n",
      "        [0.4318],\n",
      "        [0.4386],\n",
      "        [0.4453],\n",
      "        [0.4520],\n",
      "        [0.4588]]) \n",
      "\n",
      "y_test     : tensor([[0.8600],\n",
      "        [0.8740],\n",
      "        [0.8880],\n",
      "        [0.9020],\n",
      "        [0.9160],\n",
      "        [0.9300],\n",
      "        [0.9440],\n",
      "        [0.9580],\n",
      "        [0.9720],\n",
      "        [0.9860]]) \n",
      "\n"
     ]
    }
   ],
   "source": [
    "# Make Prediction with Model\n",
    "with torch.inference_mode():\n",
    "    y_preds = model_0(X_test)\n",
    "    \n",
    "\n",
    "# with torch.no_grad(): # no_grad() is a context manager that disables gradient calculation But interface_mode is preferable\n",
    "#     y_preds = model_0(X_test)\n",
    "    \n",
    "print(f\"y_preds    : {y_preds} \\n\")\n",
    "print(f\"y_test     : {y_test} \\n\")"
   ]
  },
  {
   "cell_type": "code",
   "execution_count": 310,
   "id": "99e21318",
   "metadata": {},
   "outputs": [
    {
     "data": {
      "image/png": "[encoded data removed]",
      "text/plain": [
       "<Figure size 1000x700 with 1 Axes>"
      ]
     },
     "metadata": {},
     "output_type": "display_data"
    }
   ],
   "source": [
    "plot_prediction(predictions=y_preds)"
   ]
  },
  {
   "cell_type": "markdown",
   "id": "bc63e58d",
   "metadata": {},
   "source": [
    "## 3. Train your model\n",
    "the  whole idea of training is for a model to move from some *unknown* parameters (these may be random) to some known parameters.\n",
    "\n",
    "Or in other words from a poor representation of the data to a better representation of the data.\n",
    "\n",
    "ony way to measure how good or bad a model's predictions are is to use a loss function.\n",
    "\n",
    "* Note : loss function may also be called cost function or criterion in different areas. For our case we'll refer to it as loss function.\n",
    "\n",
    "Things we need to train/fit a model:\n",
    "\n",
    "*   **Loss function** - A function to measure how *wrong* your model's predictions are to the ideal outputs, lower is better.\n",
    "\n",
    "*   **Optimizer** - Takes into account the loss of a model and adjusts the model's parameters (e.g. weight & bias) to improve the loss function.\n",
    "\n",
    "And Specifically for PyTorch, we need:\n",
    "*   **Training loop** - A series of steps (iterations) for our model to go through to improve its predictions each time.\n",
    "*   **Testing loop** - A series of steps for our model to go through to test its predictions each time."
   ]
  },
  {
   "cell_type": "code",
   "execution_count": 311,
   "id": "36d26123",
   "metadata": {},
   "outputs": [
    {
     "data": {
      "text/plain": [
       "[Parameter containing:\n",
       " tensor([0.3367], requires_grad=True),\n",
       " Parameter containing:\n",
       " tensor([0.1288], requires_grad=True)]"
      ]
     },
     "execution_count": 311,
     "metadata": {},
     "output_type": "execute_result"
    }
   ],
   "source": [
    "list(model_0.parameters())"
   ]
  },
  {
   "cell_type": "code",
   "execution_count": 312,
   "id": "5e255129",
   "metadata": {},
   "outputs": [
    {
     "data": {
      "text/plain": [
       "OrderedDict([('weights', tensor([0.3367])), ('bias', tensor([0.1288]))])"
      ]
     },
     "execution_count": 312,
     "metadata": {},
     "output_type": "execute_result"
    }
   ],
   "source": [
    "model_0.state_dict()"
   ]
  },
  {
   "cell_type": "code",
   "execution_count": 313,
   "id": "17e3fee8",
   "metadata": {},
   "outputs": [
    {
     "name": "stdout",
     "output_type": "stream",
     "text": [
      "loss_fn: L1Loss()\n",
      "optimizer: SGD (\n",
      "Parameter Group 0\n",
      "    dampening: 0\n",
      "    differentiable: False\n",
      "    foreach: None\n",
      "    fused: None\n",
      "    lr: 0.01\n",
      "    maximize: False\n",
      "    momentum: 0\n",
      "    nesterov: False\n",
      "    weight_decay: 0\n",
      ")\n",
      "OrderedDict([('weights', tensor([0.3367])), ('bias', tensor([0.1288]))])\n"
     ]
    }
   ],
   "source": [
    "## Setup a loss function\n",
    "loss_fn = nn.L1Loss()\n",
    "print(f\"loss_fn: {loss_fn}\")\n",
    "\n",
    "## Setup an optimizer (stochastic gradient descent)\n",
    "optimizer = torch.optim.SGD(params=model_0.parameters(),\n",
    "                            lr=0.01 #learning rate = possibly the most important hyperparameter\n",
    "                            )\n",
    "print(f\"optimizer: {optimizer}\")\n",
    "print(model_0.state_dict())"
   ]
  },
  {
   "cell_type": "markdown",
   "id": "f10e2386",
   "metadata": {},
   "source": [
    "### Building a traing loop and a testing loop in PyTorch\n",
    "\n",
    "A couple of things we need in a training loop:\n",
    "0. Loop through data\n",
    "1. forward pass (this involves data moving through our model's forward() functions) to make predictions on data - also called forward propagation\n",
    "2. calculate the loss (compare forward pass predictions to ground truth labels)\n",
    "3. optimizer zero grad\n",
    "4. loss.backward() - move backwards through the network to calculate the gradients of each of the parameters of our model with respect to the loss (**backpropagation**)\n",
    "5. optimizer.step() - use the optimizer to adjust our model's parameters to try and improve the loss (**gradient descent**)\n"
   ]
  },
  {
   "cell_type": "code",
   "execution_count": 314,
   "id": "01190fcb",
   "metadata": {},
   "outputs": [
    {
     "name": "stdout",
     "output_type": "stream",
     "text": [
      "Epoch: 0 | Loss: 0.31288138031959534\n",
      "OrderedDict([('weights', tensor([0.3406])), ('bias', tensor([0.1388]))]) \n",
      "\n",
      "\n",
      "Epoch: 0|Loss: 0.31288138031959534| Test loss: 0.48106518387794495\n",
      "Epoch: 1 | Loss: 0.3013603389263153\n",
      "OrderedDict([('weights', tensor([0.3445])), ('bias', tensor([0.1488]))]) \n",
      "\n",
      "\n",
      "Epoch: 2 | Loss: 0.28983935713768005\n",
      "OrderedDict([('weights', tensor([0.3484])), ('bias', tensor([0.1588]))]) \n",
      "\n",
      "\n",
      "Epoch: 3 | Loss: 0.2783183455467224\n",
      "OrderedDict([('weights', tensor([0.3523])), ('bias', tensor([0.1688]))]) \n",
      "\n",
      "\n",
      "Epoch: 4 | Loss: 0.26679736375808716\n",
      "OrderedDict([('weights', tensor([0.3562])), ('bias', tensor([0.1788]))]) \n",
      "\n",
      "\n",
      "Epoch: 5 | Loss: 0.2552763521671295\n",
      "OrderedDict([('weights', tensor([0.3601])), ('bias', tensor([0.1888]))]) \n",
      "\n",
      "\n",
      "Epoch: 6 | Loss: 0.24375534057617188\n",
      "OrderedDict([('weights', tensor([0.3640])), ('bias', tensor([0.1988]))]) \n",
      "\n",
      "\n",
      "Epoch: 7 | Loss: 0.23223432898521423\n",
      "OrderedDict([('weights', tensor([0.3679])), ('bias', tensor([0.2088]))]) \n",
      "\n",
      "\n",
      "Epoch: 8 | Loss: 0.22071333229541779\n",
      "OrderedDict([('weights', tensor([0.3718])), ('bias', tensor([0.2188]))]) \n",
      "\n",
      "\n",
      "Epoch: 9 | Loss: 0.20919232070446014\n",
      "OrderedDict([('weights', tensor([0.3757])), ('bias', tensor([0.2288]))]) \n",
      "\n",
      "\n",
      "Epoch: 10 | Loss: 0.1976713240146637\n",
      "OrderedDict([('weights', tensor([0.3796])), ('bias', tensor([0.2388]))]) \n",
      "\n",
      "\n",
      "Epoch: 10|Loss: 0.1976713240146637| Test loss: 0.3463551998138428\n",
      "Epoch: 11 | Loss: 0.18615034222602844\n",
      "OrderedDict([('weights', tensor([0.3835])), ('bias', tensor([0.2488]))]) \n",
      "\n",
      "\n",
      "Epoch: 12 | Loss: 0.1746293306350708\n",
      "OrderedDict([('weights', tensor([0.3874])), ('bias', tensor([0.2588]))]) \n",
      "\n",
      "\n",
      "Epoch: 13 | Loss: 0.16310831904411316\n",
      "OrderedDict([('weights', tensor([0.3913])), ('bias', tensor([0.2688]))]) \n",
      "\n",
      "\n",
      "Epoch: 14 | Loss: 0.1515873372554779\n",
      "OrderedDict([('weights', tensor([0.3952])), ('bias', tensor([0.2788]))]) \n",
      "\n",
      "\n",
      "Epoch: 15 | Loss: 0.14006635546684265\n",
      "OrderedDict([('weights', tensor([0.3991])), ('bias', tensor([0.2888]))]) \n",
      "\n",
      "\n",
      "Epoch: 16 | Loss: 0.1285453587770462\n",
      "OrderedDict([('weights', tensor([0.4030])), ('bias', tensor([0.2988]))]) \n",
      "\n",
      "\n",
      "Epoch: 17 | Loss: 0.11702437698841095\n",
      "OrderedDict([('weights', tensor([0.4069])), ('bias', tensor([0.3088]))]) \n",
      "\n",
      "\n",
      "Epoch: 18 | Loss: 0.1060912236571312\n",
      "OrderedDict([('weights', tensor([0.4108])), ('bias', tensor([0.3178]))]) \n",
      "\n",
      "\n",
      "Epoch: 19 | Loss: 0.09681284427642822\n",
      "OrderedDict([('weights', tensor([0.4146])), ('bias', tensor([0.3258]))]) \n",
      "\n",
      "\n",
      "Epoch: 20 | Loss: 0.08908725529909134\n",
      "OrderedDict([('weights', tensor([0.4184])), ('bias', tensor([0.3333]))]) \n",
      "\n",
      "\n",
      "Epoch: 20|Loss: 0.08908725529909134| Test loss: 0.21729660034179688\n",
      "Epoch: 21 | Loss: 0.08227583020925522\n",
      "OrderedDict([('weights', tensor([0.4222])), ('bias', tensor([0.3403]))]) \n",
      "\n",
      "\n",
      "Epoch: 22 | Loss: 0.07638873159885406\n",
      "OrderedDict([('weights', tensor([0.4258])), ('bias', tensor([0.3463]))]) \n",
      "\n",
      "\n",
      "Epoch: 23 | Loss: 0.07160007208585739\n",
      "OrderedDict([('weights', tensor([0.4293])), ('bias', tensor([0.3518]))]) \n",
      "\n",
      "\n",
      "Epoch: 24 | Loss: 0.06747635453939438\n",
      "OrderedDict([('weights', tensor([0.4328])), ('bias', tensor([0.3568]))]) \n",
      "\n",
      "\n",
      "Epoch: 25 | Loss: 0.06395438313484192\n",
      "OrderedDict([('weights', tensor([0.4361])), ('bias', tensor([0.3613]))]) \n",
      "\n",
      "\n",
      "Epoch: 26 | Loss: 0.06097004935145378\n",
      "OrderedDict([('weights', tensor([0.4394])), ('bias', tensor([0.3653]))]) \n",
      "\n",
      "\n",
      "Epoch: 27 | Loss: 0.05845819041132927\n",
      "OrderedDict([('weights', tensor([0.4425])), ('bias', tensor([0.3688]))]) \n",
      "\n",
      "\n",
      "Epoch: 28 | Loss: 0.05635259300470352\n",
      "OrderedDict([('weights', tensor([0.4455])), ('bias', tensor([0.3718]))]) \n",
      "\n",
      "\n",
      "Epoch: 29 | Loss: 0.0545857772231102\n",
      "OrderedDict([('weights', tensor([0.4483])), ('bias', tensor([0.3743]))]) \n",
      "\n",
      "\n",
      "Epoch: 30 | Loss: 0.053148526698350906\n",
      "OrderedDict([('weights', tensor([0.4512])), ('bias', tensor([0.3768]))]) \n",
      "\n",
      "\n",
      "Epoch: 30|Loss: 0.053148526698350906| Test loss: 0.14464017748832703\n",
      "Epoch: 31 | Loss: 0.05181945487856865\n",
      "OrderedDict([('weights', tensor([0.4539])), ('bias', tensor([0.3788]))]) \n",
      "\n",
      "\n",
      "Epoch: 32 | Loss: 0.05069301277399063\n",
      "OrderedDict([('weights', tensor([0.4564])), ('bias', tensor([0.3803]))]) \n",
      "\n",
      "\n",
      "Epoch: 33 | Loss: 0.0498228520154953\n",
      "OrderedDict([('weights', tensor([0.4590])), ('bias', tensor([0.3818]))]) \n",
      "\n",
      "\n",
      "Epoch: 34 | Loss: 0.04895269125699997\n",
      "OrderedDict([('weights', tensor([0.4615])), ('bias', tensor([0.3833]))]) \n",
      "\n",
      "\n",
      "Epoch: 35 | Loss: 0.04819351062178612\n",
      "OrderedDict([('weights', tensor([0.4639])), ('bias', tensor([0.3843]))]) \n",
      "\n",
      "\n",
      "Epoch: 36 | Loss: 0.047531817108392715\n",
      "OrderedDict([('weights', tensor([0.4662])), ('bias', tensor([0.3853]))]) \n",
      "\n",
      "\n",
      "Epoch: 37 | Loss: 0.04692792519927025\n",
      "OrderedDict([('weights', tensor([0.4684])), ('bias', tensor([0.3858]))]) \n",
      "\n",
      "\n",
      "Epoch: 38 | Loss: 0.04642331600189209\n",
      "OrderedDict([('weights', tensor([0.4706])), ('bias', tensor([0.3863]))]) \n",
      "\n",
      "\n",
      "Epoch: 39 | Loss: 0.04591871052980423\n",
      "OrderedDict([('weights', tensor([0.4728])), ('bias', tensor([0.3868]))]) \n",
      "\n",
      "\n",
      "Epoch: 40 | Loss: 0.04543796554207802\n",
      "OrderedDict([('weights', tensor([0.4748])), ('bias', tensor([0.3868]))]) \n",
      "\n",
      "\n",
      "Epoch: 40|Loss: 0.04543796554207802| Test loss: 0.11360953003168106\n",
      "Epoch: 41 | Loss: 0.04503796249628067\n",
      "OrderedDict([('weights', tensor([0.4768])), ('bias', tensor([0.3868]))]) \n",
      "\n",
      "\n",
      "Epoch: 42 | Loss: 0.04463795945048332\n",
      "OrderedDict([('weights', tensor([0.4788])), ('bias', tensor([0.3868]))]) \n",
      "\n",
      "\n",
      "Epoch: 43 | Loss: 0.04423796385526657\n",
      "OrderedDict([('weights', tensor([0.4808])), ('bias', tensor([0.3868]))]) \n",
      "\n",
      "\n",
      "Epoch: 44 | Loss: 0.04383796453475952\n",
      "OrderedDict([('weights', tensor([0.4828])), ('bias', tensor([0.3868]))]) \n",
      "\n",
      "\n",
      "Epoch: 45 | Loss: 0.04343796148896217\n",
      "OrderedDict([('weights', tensor([0.4848])), ('bias', tensor([0.3868]))]) \n",
      "\n",
      "\n",
      "Epoch: 46 | Loss: 0.043074630200862885\n",
      "OrderedDict([('weights', tensor([0.4866])), ('bias', tensor([0.3863]))]) \n",
      "\n",
      "\n",
      "Epoch: 47 | Loss: 0.04272563382983208\n",
      "OrderedDict([('weights', tensor([0.4884])), ('bias', tensor([0.3858]))]) \n",
      "\n",
      "\n",
      "Epoch: 48 | Loss: 0.04237663000822067\n",
      "OrderedDict([('weights', tensor([0.4902])), ('bias', tensor([0.3853]))]) \n",
      "\n",
      "\n",
      "Epoch: 49 | Loss: 0.04202762991189957\n",
      "OrderedDict([('weights', tensor([0.4920])), ('bias', tensor([0.3848]))]) \n",
      "\n",
      "\n",
      "Epoch: 50 | Loss: 0.04167863354086876\n",
      "OrderedDict([('weights', tensor([0.4938])), ('bias', tensor([0.3843]))]) \n",
      "\n",
      "\n",
      "Epoch: 50|Loss: 0.04167863354086876| Test loss: 0.09919948130846024\n",
      "Epoch: 51 | Loss: 0.04132963344454765\n",
      "OrderedDict([('weights', tensor([0.4956])), ('bias', tensor([0.3838]))]) \n",
      "\n",
      "\n",
      "Epoch: 52 | Loss: 0.04098063334822655\n",
      "OrderedDict([('weights', tensor([0.4974])), ('bias', tensor([0.3833]))]) \n",
      "\n",
      "\n",
      "Epoch: 53 | Loss: 0.04063162952661514\n",
      "OrderedDict([('weights', tensor([0.4992])), ('bias', tensor([0.3828]))]) \n",
      "\n",
      "\n",
      "Epoch: 54 | Loss: 0.040282636880874634\n",
      "OrderedDict([('weights', tensor([0.5010])), ('bias', tensor([0.3823]))]) \n",
      "\n",
      "\n",
      "Epoch: 55 | Loss: 0.039933640509843826\n",
      "OrderedDict([('weights', tensor([0.5028])), ('bias', tensor([0.3818]))]) \n",
      "\n",
      "\n",
      "Epoch: 56 | Loss: 0.03958464413881302\n",
      "OrderedDict([('weights', tensor([0.5046])), ('bias', tensor([0.3813]))]) \n",
      "\n",
      "\n",
      "Epoch: 57 | Loss: 0.03923564404249191\n",
      "OrderedDict([('weights', tensor([0.5064])), ('bias', tensor([0.3808]))]) \n",
      "\n",
      "\n",
      "Epoch: 58 | Loss: 0.03888664394617081\n",
      "OrderedDict([('weights', tensor([0.5082])), ('bias', tensor([0.3803]))]) \n",
      "\n",
      "\n",
      "Epoch: 59 | Loss: 0.0385376438498497\n",
      "OrderedDict([('weights', tensor([0.5100])), ('bias', tensor([0.3798]))]) \n",
      "\n",
      "\n",
      "Epoch: 60 | Loss: 0.03818932920694351\n",
      "OrderedDict([('weights', tensor([0.5116])), ('bias', tensor([0.3788]))]) \n",
      "\n",
      "\n",
      "Epoch: 60|Loss: 0.03818932920694351| Test loss: 0.08886633068323135\n",
      "Epoch: 61 | Loss: 0.03785243630409241\n",
      "OrderedDict([('weights', tensor([0.5134])), ('bias', tensor([0.3783]))]) \n",
      "\n",
      "\n",
      "Epoch: 62 | Loss: 0.0375034399330616\n",
      "OrderedDict([('weights', tensor([0.5152])), ('bias', tensor([0.3778]))]) \n",
      "\n",
      "\n",
      "Epoch: 63 | Loss: 0.037164121866226196\n",
      "OrderedDict([('weights', tensor([0.5168])), ('bias', tensor([0.3768]))]) \n",
      "\n",
      "\n",
      "Epoch: 64 | Loss: 0.03681822493672371\n",
      "OrderedDict([('weights', tensor([0.5186])), ('bias', tensor([0.3763]))]) \n",
      "\n",
      "\n",
      "Epoch: 65 | Loss: 0.03647511452436447\n",
      "OrderedDict([('weights', tensor([0.5202])), ('bias', tensor([0.3753]))]) \n",
      "\n",
      "\n",
      "Epoch: 66 | Loss: 0.03613303601741791\n",
      "OrderedDict([('weights', tensor([0.5220])), ('bias', tensor([0.3748]))]) \n",
      "\n",
      "\n",
      "Epoch: 67 | Loss: 0.03578609973192215\n",
      "OrderedDict([('weights', tensor([0.5236])), ('bias', tensor([0.3738]))]) \n",
      "\n",
      "\n",
      "Epoch: 68 | Loss: 0.03544783592224121\n",
      "OrderedDict([('weights', tensor([0.5254])), ('bias', tensor([0.3733]))]) \n",
      "\n",
      "\n",
      "Epoch: 69 | Loss: 0.035098835825920105\n",
      "OrderedDict([('weights', tensor([0.5272])), ('bias', tensor([0.3728]))]) \n",
      "\n",
      "\n",
      "Epoch: 70 | Loss: 0.03476089984178543\n",
      "OrderedDict([('weights', tensor([0.5288])), ('bias', tensor([0.3718]))]) \n",
      "\n",
      "\n",
      "Epoch: 70|Loss: 0.03476089984178543| Test loss: 0.0805937647819519\n",
      "Epoch: 71 | Loss: 0.03441363573074341\n",
      "OrderedDict([('weights', tensor([0.5306])), ('bias', tensor([0.3713]))]) \n",
      "\n",
      "\n",
      "Epoch: 72 | Loss: 0.03407188132405281\n",
      "OrderedDict([('weights', tensor([0.5322])), ('bias', tensor([0.3703]))]) \n",
      "\n",
      "\n",
      "Epoch: 73 | Loss: 0.03372843936085701\n",
      "OrderedDict([('weights', tensor([0.5340])), ('bias', tensor([0.3698]))]) \n",
      "\n",
      "\n",
      "Epoch: 74 | Loss: 0.03338287025690079\n",
      "OrderedDict([('weights', tensor([0.5355])), ('bias', tensor([0.3688]))]) \n",
      "\n",
      "\n",
      "Epoch: 75 | Loss: 0.033043231815099716\n",
      "OrderedDict([('weights', tensor([0.5373])), ('bias', tensor([0.3683]))]) \n",
      "\n",
      "\n",
      "Epoch: 76 | Loss: 0.03269423171877861\n",
      "OrderedDict([('weights', tensor([0.5391])), ('bias', tensor([0.3678]))]) \n",
      "\n",
      "\n",
      "Epoch: 77 | Loss: 0.032357655465602875\n",
      "OrderedDict([('weights', tensor([0.5407])), ('bias', tensor([0.3668]))]) \n",
      "\n",
      "\n",
      "Epoch: 78 | Loss: 0.03200903534889221\n",
      "OrderedDict([('weights', tensor([0.5425])), ('bias', tensor([0.3663]))]) \n",
      "\n",
      "\n",
      "Epoch: 79 | Loss: 0.03166864812374115\n",
      "OrderedDict([('weights', tensor([0.5441])), ('bias', tensor([0.3653]))]) \n",
      "\n",
      "\n",
      "Epoch: 80 | Loss: 0.03132382780313492\n",
      "OrderedDict([('weights', tensor([0.5459])), ('bias', tensor([0.3648]))]) \n",
      "\n",
      "\n",
      "Epoch: 80|Loss: 0.03132382780313492| Test loss: 0.07232122868299484\n",
      "Epoch: 81 | Loss: 0.030979642644524574\n",
      "OrderedDict([('weights', tensor([0.5475])), ('bias', tensor([0.3638]))]) \n",
      "\n",
      "\n",
      "Epoch: 82 | Loss: 0.030638623982667923\n",
      "OrderedDict([('weights', tensor([0.5493])), ('bias', tensor([0.3633]))]) \n",
      "\n",
      "\n",
      "Epoch: 83 | Loss: 0.0302906334400177\n",
      "OrderedDict([('weights', tensor([0.5509])), ('bias', tensor([0.3623]))]) \n",
      "\n",
      "\n",
      "Epoch: 84 | Loss: 0.029953425750136375\n",
      "OrderedDict([('weights', tensor([0.5527])), ('bias', tensor([0.3618]))]) \n",
      "\n",
      "\n",
      "Epoch: 85 | Loss: 0.02960442565381527\n",
      "OrderedDict([('weights', tensor([0.5545])), ('bias', tensor([0.3613]))]) \n",
      "\n",
      "\n",
      "Epoch: 86 | Loss: 0.029265418648719788\n",
      "OrderedDict([('weights', tensor([0.5561])), ('bias', tensor([0.3603]))]) \n",
      "\n",
      "\n",
      "Epoch: 87 | Loss: 0.028919223695993423\n",
      "OrderedDict([('weights', tensor([0.5579])), ('bias', tensor([0.3598]))]) \n",
      "\n",
      "\n",
      "Epoch: 88 | Loss: 0.028576409444212914\n",
      "OrderedDict([('weights', tensor([0.5595])), ('bias', tensor([0.3588]))]) \n",
      "\n",
      "\n",
      "Epoch: 89 | Loss: 0.028234025463461876\n",
      "OrderedDict([('weights', tensor([0.5613])), ('bias', tensor([0.3583]))]) \n",
      "\n",
      "\n",
      "Epoch: 90 | Loss: 0.02788739837706089\n",
      "OrderedDict([('weights', tensor([0.5629])), ('bias', tensor([0.3573]))]) \n",
      "\n",
      "\n",
      "Epoch: 90|Loss: 0.02788739837706089| Test loss: 0.06473556160926819\n",
      "Epoch: 91 | Loss: 0.02754882536828518\n",
      "OrderedDict([('weights', tensor([0.5647])), ('bias', tensor([0.3568]))]) \n",
      "\n",
      "\n",
      "Epoch: 92 | Loss: 0.027199819684028625\n",
      "OrderedDict([('weights', tensor([0.5665])), ('bias', tensor([0.3563]))]) \n",
      "\n",
      "\n",
      "Epoch: 93 | Loss: 0.026862185448408127\n",
      "OrderedDict([('weights', tensor([0.5681])), ('bias', tensor([0.3553]))]) \n",
      "\n",
      "\n",
      "Epoch: 94 | Loss: 0.02651461586356163\n",
      "OrderedDict([('weights', tensor([0.5699])), ('bias', tensor([0.3548]))]) \n",
      "\n",
      "\n",
      "Epoch: 95 | Loss: 0.026173178106546402\n",
      "OrderedDict([('weights', tensor([0.5715])), ('bias', tensor([0.3538]))]) \n",
      "\n",
      "\n",
      "Epoch: 96 | Loss: 0.025829419493675232\n",
      "OrderedDict([('weights', tensor([0.5733])), ('bias', tensor([0.3533]))]) \n",
      "\n",
      "\n",
      "Epoch: 97 | Loss: 0.02548416517674923\n",
      "OrderedDict([('weights', tensor([0.5748])), ('bias', tensor([0.3523]))]) \n",
      "\n",
      "\n",
      "Epoch: 98 | Loss: 0.025144213810563087\n",
      "OrderedDict([('weights', tensor([0.5766])), ('bias', tensor([0.3518]))]) \n",
      "\n",
      "\n",
      "Epoch: 99 | Loss: 0.02479521557688713\n",
      "OrderedDict([('weights', tensor([0.5784])), ('bias', tensor([0.3513]))]) \n",
      "\n",
      "\n",
      "Epoch: 100 | Loss: 0.024458957836031914\n",
      "OrderedDict([('weights', tensor([0.5800])), ('bias', tensor([0.3503]))]) \n",
      "\n",
      "\n",
      "Epoch: 100|Loss: 0.024458957836031914| Test loss: 0.05646304413676262\n",
      "Epoch: 101 | Loss: 0.024110013619065285\n",
      "OrderedDict([('weights', tensor([0.5818])), ('bias', tensor([0.3498]))]) \n",
      "\n",
      "\n",
      "Epoch: 102 | Loss: 0.02376994863152504\n",
      "OrderedDict([('weights', tensor([0.5834])), ('bias', tensor([0.3488]))]) \n",
      "\n",
      "\n",
      "Epoch: 103 | Loss: 0.02342480979859829\n",
      "OrderedDict([('weights', tensor([0.5852])), ('bias', tensor([0.3483]))]) \n",
      "\n",
      "\n",
      "Epoch: 104 | Loss: 0.023080935701727867\n",
      "OrderedDict([('weights', tensor([0.5868])), ('bias', tensor([0.3473]))]) \n",
      "\n",
      "\n",
      "Epoch: 105 | Loss: 0.022739607840776443\n",
      "OrderedDict([('weights', tensor([0.5886])), ('bias', tensor([0.3468]))]) \n",
      "\n",
      "\n",
      "Epoch: 106 | Loss: 0.022391926497220993\n",
      "OrderedDict([('weights', tensor([0.5902])), ('bias', tensor([0.3458]))]) \n",
      "\n",
      "\n",
      "Epoch: 107 | Loss: 0.022054409608244896\n",
      "OrderedDict([('weights', tensor([0.5920])), ('bias', tensor([0.3453]))]) \n",
      "\n",
      "\n",
      "Epoch: 108 | Loss: 0.02170540764927864\n",
      "OrderedDict([('weights', tensor([0.5938])), ('bias', tensor([0.3448]))]) \n",
      "\n",
      "\n",
      "Epoch: 109 | Loss: 0.021366719156503677\n",
      "OrderedDict([('weights', tensor([0.5954])), ('bias', tensor([0.3438]))]) \n",
      "\n",
      "\n",
      "Epoch: 110 | Loss: 0.021020207554101944\n",
      "OrderedDict([('weights', tensor([0.5972])), ('bias', tensor([0.3433]))]) \n",
      "\n",
      "\n",
      "Epoch: 110|Loss: 0.021020207554101944| Test loss: 0.04819049686193466\n",
      "Epoch: 111 | Loss: 0.020677709951996803\n",
      "OrderedDict([('weights', tensor([0.5988])), ('bias', tensor([0.3423]))]) \n",
      "\n",
      "\n",
      "Epoch: 112 | Loss: 0.02033500373363495\n",
      "OrderedDict([('weights', tensor([0.6006])), ('bias', tensor([0.3418]))]) \n",
      "\n",
      "\n",
      "Epoch: 113 | Loss: 0.01998869702219963\n",
      "OrderedDict([('weights', tensor([0.6022])), ('bias', tensor([0.3408]))]) \n",
      "\n",
      "\n",
      "Epoch: 114 | Loss: 0.019649803638458252\n",
      "OrderedDict([('weights', tensor([0.6040])), ('bias', tensor([0.3403]))]) \n",
      "\n",
      "\n",
      "Epoch: 115 | Loss: 0.019300809130072594\n",
      "OrderedDict([('weights', tensor([0.6058])), ('bias', tensor([0.3398]))]) \n",
      "\n",
      "\n",
      "Epoch: 116 | Loss: 0.018963487818837166\n",
      "OrderedDict([('weights', tensor([0.6074])), ('bias', tensor([0.3388]))]) \n",
      "\n",
      "\n",
      "Epoch: 117 | Loss: 0.01861560344696045\n",
      "OrderedDict([('weights', tensor([0.6092])), ('bias', tensor([0.3383]))]) \n",
      "\n",
      "\n",
      "Epoch: 118 | Loss: 0.018274478614330292\n",
      "OrderedDict([('weights', tensor([0.6108])), ('bias', tensor([0.3373]))]) \n",
      "\n",
      "\n",
      "Epoch: 119 | Loss: 0.017930403351783752\n",
      "OrderedDict([('weights', tensor([0.6126])), ('bias', tensor([0.3368]))]) \n",
      "\n",
      "\n",
      "Epoch: 120 | Loss: 0.01758546568453312\n",
      "OrderedDict([('weights', tensor([0.6141])), ('bias', tensor([0.3358]))]) \n",
      "\n",
      "\n",
      "Epoch: 120|Loss: 0.01758546568453312| Test loss: 0.04060482233762741\n",
      "Epoch: 121 | Loss: 0.017245199531316757\n",
      "OrderedDict([('weights', tensor([0.6159])), ('bias', tensor([0.3353]))]) \n",
      "\n",
      "\n",
      "Epoch: 122 | Loss: 0.016896454617381096\n",
      "OrderedDict([('weights', tensor([0.6175])), ('bias', tensor([0.3343]))]) \n",
      "\n",
      "\n",
      "Epoch: 123 | Loss: 0.01656000316143036\n",
      "OrderedDict([('weights', tensor([0.6193])), ('bias', tensor([0.3338]))]) \n",
      "\n",
      "\n",
      "Epoch: 124 | Loss: 0.016210997477173805\n",
      "OrderedDict([('weights', tensor([0.6211])), ('bias', tensor([0.3333]))]) \n",
      "\n",
      "\n",
      "Epoch: 125 | Loss: 0.01587124727666378\n",
      "OrderedDict([('weights', tensor([0.6227])), ('bias', tensor([0.3323]))]) \n",
      "\n",
      "\n",
      "Epoch: 126 | Loss: 0.015525798313319683\n",
      "OrderedDict([('weights', tensor([0.6245])), ('bias', tensor([0.3318]))]) \n",
      "\n",
      "\n",
      "Epoch: 127 | Loss: 0.015182236209511757\n",
      "OrderedDict([('weights', tensor([0.6261])), ('bias', tensor([0.3308]))]) \n",
      "\n",
      "\n",
      "Epoch: 128 | Loss: 0.014840595424175262\n",
      "OrderedDict([('weights', tensor([0.6279])), ('bias', tensor([0.3303]))]) \n",
      "\n",
      "\n",
      "Epoch: 129 | Loss: 0.01449323259294033\n",
      "OrderedDict([('weights', tensor([0.6295])), ('bias', tensor([0.3293]))]) \n",
      "\n",
      "\n",
      "Epoch: 130 | Loss: 0.014155393466353416\n",
      "OrderedDict([('weights', tensor([0.6313])), ('bias', tensor([0.3288]))]) \n",
      "\n",
      "\n",
      "Epoch: 130|Loss: 0.014155393466353416| Test loss: 0.03233227878808975\n",
      "Epoch: 131 | Loss: 0.013806397095322609\n",
      "OrderedDict([('weights', tensor([0.6331])), ('bias', tensor([0.3283]))]) \n",
      "\n",
      "\n",
      "Epoch: 132 | Loss: 0.013468016870319843\n",
      "OrderedDict([('weights', tensor([0.6347])), ('bias', tensor([0.3273]))]) \n",
      "\n",
      "\n",
      "Epoch: 133 | Loss: 0.013121193274855614\n",
      "OrderedDict([('weights', tensor([0.6365])), ('bias', tensor([0.3268]))]) \n",
      "\n",
      "\n",
      "Epoch: 134 | Loss: 0.01277900766581297\n",
      "OrderedDict([('weights', tensor([0.6381])), ('bias', tensor([0.3258]))]) \n",
      "\n",
      "\n",
      "Epoch: 135 | Loss: 0.012435992248356342\n",
      "OrderedDict([('weights', tensor([0.6399])), ('bias', tensor([0.3253]))]) \n",
      "\n",
      "\n",
      "Epoch: 136 | Loss: 0.01208999752998352\n",
      "OrderedDict([('weights', tensor([0.6415])), ('bias', tensor([0.3243]))]) \n",
      "\n",
      "\n",
      "Epoch: 137 | Loss: 0.011750795878469944\n",
      "OrderedDict([('weights', tensor([0.6433])), ('bias', tensor([0.3238]))]) \n",
      "\n",
      "\n",
      "Epoch: 138 | Loss: 0.011401787400245667\n",
      "OrderedDict([('weights', tensor([0.6451])), ('bias', tensor([0.3233]))]) \n",
      "\n",
      "\n",
      "Epoch: 139 | Loss: 0.011064787395298481\n",
      "OrderedDict([('weights', tensor([0.6467])), ('bias', tensor([0.3223]))]) \n",
      "\n",
      "\n",
      "Epoch: 140 | Loss: 0.010716589167714119\n",
      "OrderedDict([('weights', tensor([0.6485])), ('bias', tensor([0.3218]))]) \n",
      "\n",
      "\n",
      "Epoch: 140|Loss: 0.010716589167714119| Test loss: 0.024059748277068138\n",
      "Epoch: 141 | Loss: 0.010375778190791607\n",
      "OrderedDict([('weights', tensor([0.6501])), ('bias', tensor([0.3208]))]) \n",
      "\n",
      "\n",
      "Epoch: 142 | Loss: 0.010031387209892273\n",
      "OrderedDict([('weights', tensor([0.6519])), ('bias', tensor([0.3203]))]) \n",
      "\n",
      "\n",
      "Epoch: 143 | Loss: 0.009686763398349285\n",
      "OrderedDict([('weights', tensor([0.6534])), ('bias', tensor([0.3193]))]) \n",
      "\n",
      "\n",
      "Epoch: 144 | Loss: 0.009346187114715576\n",
      "OrderedDict([('weights', tensor([0.6552])), ('bias', tensor([0.3188]))]) \n",
      "\n",
      "\n",
      "Epoch: 145 | Loss: 0.008997755125164986\n",
      "OrderedDict([('weights', tensor([0.6568])), ('bias', tensor([0.3178]))]) \n",
      "\n",
      "\n",
      "Epoch: 146 | Loss: 0.008660981431603432\n",
      "OrderedDict([('weights', tensor([0.6586])), ('bias', tensor([0.3173]))]) \n",
      "\n",
      "\n",
      "Epoch: 147 | Loss: 0.008311985060572624\n",
      "OrderedDict([('weights', tensor([0.6604])), ('bias', tensor([0.3168]))]) \n",
      "\n",
      "\n",
      "Epoch: 148 | Loss: 0.007972544990479946\n",
      "OrderedDict([('weights', tensor([0.6620])), ('bias', tensor([0.3158]))]) \n",
      "\n",
      "\n",
      "Epoch: 149 | Loss: 0.007626785431057215\n",
      "OrderedDict([('weights', tensor([0.6638])), ('bias', tensor([0.3153]))]) \n",
      "\n",
      "\n",
      "Epoch: 150 | Loss: 0.0072835334576666355\n",
      "OrderedDict([('weights', tensor([0.6654])), ('bias', tensor([0.3143]))]) \n",
      "\n",
      "\n",
      "Epoch: 150|Loss: 0.0072835334576666355| Test loss: 0.016474086791276932\n",
      "Epoch: 151 | Loss: 0.006941580679267645\n",
      "OrderedDict([('weights', tensor([0.6672])), ('bias', tensor([0.3138]))]) \n",
      "\n",
      "\n",
      "Epoch: 152 | Loss: 0.006594526115804911\n",
      "OrderedDict([('weights', tensor([0.6688])), ('bias', tensor([0.3128]))]) \n",
      "\n",
      "\n",
      "Epoch: 153 | Loss: 0.006256377790123224\n",
      "OrderedDict([('weights', tensor([0.6706])), ('bias', tensor([0.3123]))]) \n",
      "\n",
      "\n",
      "Epoch: 154 | Loss: 0.005907376762479544\n",
      "OrderedDict([('weights', tensor([0.6724])), ('bias', tensor([0.3118]))]) \n",
      "\n",
      "\n",
      "Epoch: 155 | Loss: 0.005569315515458584\n",
      "OrderedDict([('weights', tensor([0.6740])), ('bias', tensor([0.3108]))]) \n",
      "\n",
      "\n",
      "Epoch: 156 | Loss: 0.005222178064286709\n",
      "OrderedDict([('weights', tensor([0.6758])), ('bias', tensor([0.3103]))]) \n",
      "\n",
      "\n",
      "Epoch: 157 | Loss: 0.004880306776612997\n",
      "OrderedDict([('weights', tensor([0.6774])), ('bias', tensor([0.3093]))]) \n",
      "\n",
      "\n",
      "Epoch: 158 | Loss: 0.004536976106464863\n",
      "OrderedDict([('weights', tensor([0.6792])), ('bias', tensor([0.3088]))]) \n",
      "\n",
      "\n",
      "Epoch: 159 | Loss: 0.00419129803776741\n",
      "OrderedDict([('weights', tensor([0.6808])), ('bias', tensor([0.3078]))]) \n",
      "\n",
      "\n",
      "Epoch: 160 | Loss: 0.0038517764769494534\n",
      "OrderedDict([('weights', tensor([0.6826])), ('bias', tensor([0.3073]))]) \n",
      "\n",
      "\n",
      "Epoch: 160|Loss: 0.0038517764769494534| Test loss: 0.008201557211577892\n",
      "Epoch: 161 | Loss: 0.0035027749836444855\n",
      "OrderedDict([('weights', tensor([0.6844])), ('bias', tensor([0.3068]))]) \n",
      "\n",
      "\n",
      "Epoch: 162 | Loss: 0.0031660839449614286\n",
      "OrderedDict([('weights', tensor([0.6860])), ('bias', tensor([0.3058]))]) \n",
      "\n",
      "\n",
      "Epoch: 163 | Loss: 0.002817571861669421\n",
      "OrderedDict([('weights', tensor([0.6878])), ('bias', tensor([0.3053]))]) \n",
      "\n",
      "\n",
      "Epoch: 164 | Loss: 0.0024770735763013363\n",
      "OrderedDict([('weights', tensor([0.6894])), ('bias', tensor([0.3043]))]) \n",
      "\n",
      "\n",
      "Epoch: 165 | Loss: 0.0021323717664927244\n",
      "OrderedDict([('weights', tensor([0.6912])), ('bias', tensor([0.3038]))]) \n",
      "\n",
      "\n",
      "Epoch: 166 | Loss: 0.0017880648374557495\n",
      "OrderedDict([('weights', tensor([0.6927])), ('bias', tensor([0.3028]))]) \n",
      "\n",
      "\n",
      "Epoch: 167 | Loss: 0.0014518328243866563\n",
      "OrderedDict([('weights', tensor([0.6947])), ('bias', tensor([0.3028]))]) \n",
      "\n",
      "\n",
      "Epoch: 168 | Loss: 0.0011887758737429976\n",
      "OrderedDict([('weights', tensor([0.6951])), ('bias', tensor([0.2993]))]) \n",
      "\n",
      "\n"
     ]
    }
   ],
   "source": [
    "# An epoch is one loop through the data\n",
    "epochs = 169\n",
    "# epochs = 1000\n",
    "#Track diffrent values\n",
    "epoch_count=[]\n",
    "loss_list=[]\n",
    "test_loss_list=[]\n",
    "\n",
    "# 0. Loop through data\n",
    "for epoch in range(epochs):\n",
    "    model_0.train() # train mode in pytorch sets all parameters that require gradients to require gradients\n",
    "    \n",
    "    # 1. Forward pass\n",
    "    y_preds = model_0(X_train)\n",
    "    \n",
    "    # 2. Calculate loss (per batch)\n",
    "    loss = loss_fn(y_preds, y_train)\n",
    "    \n",
    "    \n",
    "    # 3. Optimizer zero grad\n",
    "    optimizer.zero_grad()\n",
    "    \n",
    "    # 4. Perform backpropagation on the loss with respect to the parameters of the model\n",
    "    loss.backward()\n",
    "    \n",
    "    # 5. Step the optimizer (perform gradient descent)\n",
    "    optimizer.step()\n",
    "    \n",
    "    print(f\"Epoch: {epoch} | Loss: {loss}\")\n",
    "    print(model_0.state_dict(),\"\\n\\n\")\n",
    "    \n",
    "    ### Test the model\n",
    "    model_0.eval() # eval mode in pytorch sets all parameters that require gradients to not require gradients\n",
    "    with torch.inference_mode(): # turns off gradient tracking & uses much less memory\n",
    "        # 1. Forward pass\n",
    "        test_pred = model_0(X_test)\n",
    "        \n",
    "        # 2. Calculate loss\n",
    "        test_loss = loss_fn(test_pred, y_test)\n",
    "        \n",
    "        # Print out what's happening\n",
    "        if epoch % 10 == 0:\n",
    "            epoch_count.append(epoch)\n",
    "            test_loss_list.append(test_loss.detach().numpy())\n",
    "            loss_list.append(loss.detach().numpy())\n",
    "            print(f\"Epoch: {epoch}|Loss: {loss}| Test loss: {test_loss}\")\n",
    "        "
   ]
  },
  {
   "cell_type": "code",
   "execution_count": 315,
   "id": "48153c97",
   "metadata": {},
   "outputs": [
    {
     "data": {
      "image/png": "[encoded data removed]",
      "text/plain": [
       "<Figure size 1000x700 with 1 Axes>"
      ]
     },
     "metadata": {},
     "output_type": "display_data"
    }
   ],
   "source": [
    "with torch.inference_mode():\n",
    "    y_preds_new = model_0(X_test)\n",
    "\n",
    "\n",
    "plot_prediction(predictions=y_preds_new)"
   ]
  },
  {
   "cell_type": "code",
   "execution_count": 316,
   "id": "394ea959",
   "metadata": {},
   "outputs": [
    {
     "data": {
      "image/png": "[encoded data removed]",
      "text/plain": [
       "<Figure size 1000x700 with 1 Axes>"
      ]
     },
     "metadata": {},
     "output_type": "display_data"
    }
   ],
   "source": [
    "plt.figure(figsize=(10, 7))\n",
    "# Plot training data in blue\n",
    "plt.plot(epoch_count,loss_list,'-o', label=\"Loss Movement due to epochs cycles\")\n",
    "plt.plot(epoch_count,test_loss_list,'-or', label=\"Test Loss Movement due to epochs cycles\")\n",
    "# Show the legend\n",
    "plt.legend(prop={\"size\": 14})\n",
    "# Label the axes\n",
    "plt.xlabel(\"Epochs\")\n",
    "plt.ylabel(\"Loss\")\n",
    "plt.title(\"Training and test loss curves\")\n",
    "plt.show()"
   ]
  },
  {
   "cell_type": "markdown",
   "id": "ba2bb376",
   "metadata": {},
   "source": [
    "## Saving a model in PyTorch\n",
    "\n",
    "There are three main methods for saving and loading models in PyTorch:\n",
    "1. `torch.save()` - allows you to save a PyTorch object in Python's pickle format.\n",
    "2. `torch.load()` - allows you to load a saved PyTorch object.\n",
    "3. `torch.nn.Module.load_state_dict()` - allows to load a model's saved state dictionary.\n",
    "\n",
    "PyTorch's `torch.save()` function allows us to save any kind of Python object to disk."
   ]
  },
  {
   "cell_type": "code",
   "execution_count": 317,
   "id": "e34f9cbd",
   "metadata": {},
   "outputs": [
    {
     "name": "stdout",
     "output_type": "stream",
     "text": [
      "Saving model to: models\\01_pytorch_workflow_model_1.pth\n"
     ]
    }
   ],
   "source": [
    "# Saving our PyTorch mode\n",
    "from pathlib import Path\n",
    "\n",
    "# 1. Create models directory\n",
    "MODEL_PATH = Path(\"models\")\n",
    "MODEL_PATH.mkdir(parents=True, exist_ok=True)\n",
    "\n",
    "# 2. Create model save path\n",
    "MODEL_NAME = \"01_pytorch_workflow_model_1.pth\"\n",
    "MODEL_SAVE_PATH = MODEL_PATH / MODEL_NAME\n",
    "\n",
    "# 3. Save the model state dict\n",
    "print(f\"Saving model to: {MODEL_SAVE_PATH}\")\n",
    "\n",
    "torch.save(obj=model_0.state_dict(), # only saving the state_dict() only saves the models learned parameters\n",
    "           f=MODEL_SAVE_PATH)"
   ]
  },
  {
   "cell_type": "markdown",
   "id": "48679dba",
   "metadata": {},
   "source": [
    "### Loading a PyTorch model\n",
    "\n",
    "Since we saved our model's state_dict() rather the entire model, we'll create a new instance of our model class and load the saved state_dict() into that."
   ]
  },
  {
   "cell_type": "code",
   "execution_count": 318,
   "id": "ce068a76",
   "metadata": {},
   "outputs": [
    {
     "data": {
      "text/plain": [
       "OrderedDict([('weights', tensor([0.6951])), ('bias', tensor([0.2993]))])"
      ]
     },
     "execution_count": 318,
     "metadata": {},
     "output_type": "execute_result"
    }
   ],
   "source": [
    "model_0.state_dict()"
   ]
  },
  {
   "cell_type": "code",
   "execution_count": 319,
   "id": "beece831",
   "metadata": {},
   "outputs": [
    {
     "name": "stdout",
     "output_type": "stream",
     "text": [
      "Initial weights: tensor([0.2345]) , \n",
      " Initial bias: tensor([0.2303])\n"
     ]
    },
    {
     "data": {
      "text/plain": [
       "<All keys matched successfully>"
      ]
     },
     "execution_count": 319,
     "metadata": {},
     "output_type": "execute_result"
    }
   ],
   "source": [
    "# To load in a saved state_dict we have to instantiate a new instance of our model class\n",
    "loaded_model = LinearRegressionModel()\n",
    "# Load the state_dict of our saved model (this will update the new instance with updated parameters)\n",
    "loaded_model.load_state_dict(torch.load(MODEL_SAVE_PATH))    "
   ]
  },
  {
   "cell_type": "code",
   "execution_count": 320,
   "id": "dab90d4b",
   "metadata": {},
   "outputs": [
    {
     "data": {
      "text/plain": [
       "OrderedDict([('weights', tensor([0.6951])), ('bias', tensor([0.2993]))])"
      ]
     },
     "execution_count": 320,
     "metadata": {},
     "output_type": "execute_result"
    }
   ],
   "source": [
    "loaded_model.state_dict()"
   ]
  },
  {
   "cell_type": "code",
   "execution_count": 321,
   "id": "e3ce7a01",
   "metadata": {},
   "outputs": [
    {
     "data": {
      "text/plain": [
       "tensor([[0.8554],\n",
       "        [0.8693],\n",
       "        [0.8832],\n",
       "        [0.8971],\n",
       "        [0.9110],\n",
       "        [0.9249],\n",
       "        [0.9388],\n",
       "        [0.9527],\n",
       "        [0.9666],\n",
       "        [0.9805]])"
      ]
     },
     "execution_count": 321,
     "metadata": {},
     "output_type": "execute_result"
    }
   ],
   "source": [
    "# Make some predictions with our loaded model\n",
    "loaded_model.eval()\n",
    "with torch.inference_mode():\n",
    "    loaded_model_preds = loaded_model(X_test)\n",
    "    \n",
    "loaded_model_preds"
   ]
  },
  {
   "cell_type": "code",
   "execution_count": 322,
   "id": "2e754edc",
   "metadata": {},
   "outputs": [
    {
     "data": {
      "text/plain": [
       "tensor([[0.8554],\n",
       "        [0.8693],\n",
       "        [0.8832],\n",
       "        [0.8971],\n",
       "        [0.9110],\n",
       "        [0.9249],\n",
       "        [0.9388],\n",
       "        [0.9527],\n",
       "        [0.9666],\n",
       "        [0.9805]])"
      ]
     },
     "execution_count": 322,
     "metadata": {},
     "output_type": "execute_result"
    }
   ],
   "source": [
    "model_0.eval()\n",
    "with torch.inference_mode():\n",
    "    y_preds = model_0(X_test)\n",
    "    \n",
    "y_preds"
   ]
  },
  {
   "cell_type": "code",
   "execution_count": 323,
   "id": "1d0f1869",
   "metadata": {},
   "outputs": [
    {
     "data": {
      "text/plain": [
       "tensor([[True],\n",
       "        [True],\n",
       "        [True],\n",
       "        [True],\n",
       "        [True],\n",
       "        [True],\n",
       "        [True],\n",
       "        [True],\n",
       "        [True],\n",
       "        [True]])"
      ]
     },
     "execution_count": 323,
     "metadata": {},
     "output_type": "execute_result"
    }
   ],
   "source": [
    "y_preds == loaded_model_preds"
   ]
  },
  {
   "cell_type": "markdown",
   "id": "1920f8f9",
   "metadata": {},
   "source": [
    "### **6. Putting All Together**"
   ]
  },
  {
   "cell_type": "code",
   "execution_count": 324,
   "id": "de6d4793",
   "metadata": {},
   "outputs": [
    {
     "data": {
      "text/plain": [
       "'2.6.0+cpu'"
      ]
     },
     "execution_count": 324,
     "metadata": {},
     "output_type": "execute_result"
    }
   ],
   "source": [
    "import torch\n",
    "from torch import nn # nn contains all of PyTorch's building blocks for neural networks\n",
    "import matplotlib.pyplot as plt\n",
    "# Check PyTorch version\n",
    "torch.__version__"
   ]
  },
  {
   "cell_type": "markdown",
   "id": "bf588954",
   "metadata": {},
   "source": [
    "### Create  a device-agnostic code\n",
    "This means if we have a GPU, we'll use it, but if we don't we'll use the CPU."
   ]
  },
  {
   "cell_type": "code",
   "execution_count": 325,
   "id": "aaab9353",
   "metadata": {},
   "outputs": [
    {
     "name": "stdout",
     "output_type": "stream",
     "text": [
      "Using device: cpu\n"
     ]
    }
   ],
   "source": [
    "### Setup for device agnostic code\n",
    "device = \"cuda\" if torch.cuda.is_available() else \"cpu\"\n",
    "print(f\"Using device: {device}\")"
   ]
  },
  {
   "cell_type": "markdown",
   "id": "3cebabed",
   "metadata": {},
   "source": [
    "### 6.1 Data"
   ]
  },
  {
   "cell_type": "code",
   "execution_count": 326,
   "id": "6794b248",
   "metadata": {},
   "outputs": [
    {
     "name": "stdout",
     "output_type": "stream",
     "text": [
      "X[:10]  :   tensor([[0.0000],\n",
      "        [0.0200],\n",
      "        [0.0400],\n",
      "        [0.0600],\n",
      "        [0.0800],\n",
      "        [0.1000],\n",
      "        [0.1200],\n",
      "        [0.1400],\n",
      "        [0.1600],\n",
      "        [0.1800]]) \n",
      "\n",
      "y[:10]  :   tensor([[0.3000],\n",
      "        [0.3140],\n",
      "        [0.3280],\n",
      "        [0.3420],\n",
      "        [0.3560],\n",
      "        [0.3700],\n",
      "        [0.3840],\n",
      "        [0.3980],\n",
      "        [0.4120],\n",
      "        [0.4260]]) \n",
      "\n",
      "len(X) :   50\n",
      "len(y) :   50\n",
      "y = 0.7x + 0.3 = tensor([[0.3000],\n",
      "        [0.3140],\n",
      "        [0.3280],\n",
      "        [0.3420],\n",
      "        [0.3560],\n",
      "        [0.3700],\n",
      "        [0.3840],\n",
      "        [0.3980],\n",
      "        [0.4120],\n",
      "        [0.4260],\n",
      "        [0.4400],\n",
      "        [0.4540],\n",
      "        [0.4680],\n",
      "        [0.4820],\n",
      "        [0.4960],\n",
      "        [0.5100],\n",
      "        [0.5240],\n",
      "        [0.5380],\n",
      "        [0.5520],\n",
      "        [0.5660],\n",
      "        [0.5800],\n",
      "        [0.5940],\n",
      "        [0.6080],\n",
      "        [0.6220],\n",
      "        [0.6360],\n",
      "        [0.6500],\n",
      "        [0.6640],\n",
      "        [0.6780],\n",
      "        [0.6920],\n",
      "        [0.7060],\n",
      "        [0.7200],\n",
      "        [0.7340],\n",
      "        [0.7480],\n",
      "        [0.7620],\n",
      "        [0.7760],\n",
      "        [0.7900],\n",
      "        [0.8040],\n",
      "        [0.8180],\n",
      "        [0.8320],\n",
      "        [0.8460],\n",
      "        [0.8600],\n",
      "        [0.8740],\n",
      "        [0.8880],\n",
      "        [0.9020],\n",
      "        [0.9160],\n",
      "        [0.9300],\n",
      "        [0.9440],\n",
      "        [0.9580],\n",
      "        [0.9720],\n",
      "        [0.9860]])\n"
     ]
    }
   ],
   "source": [
    "### Create some data using the linear regression formula of y = weight * X + bias\n",
    "weight = 0.7\n",
    "bias = 0.3\n",
    "# Create data\n",
    "start = 0\n",
    "end = 1\n",
    "step = 0.02\n",
    "X = torch.arange(start, end, step).unsqueeze(dim=1)\n",
    "y = weight * X + bias\n",
    "print(f\"X[:10]  :   {X[:10]}\",\"\\n\")\n",
    "print(f\"y[:10]  :   {y[:10]}\",\"\\n\")\n",
    "print(f\"len(X) :   {len(X)}\")\n",
    "print(f\"len(y) :   {len(y)}\")\n",
    "print(f\"y = {weight}x + {bias} = {y}\")\n"
   ]
  },
  {
   "cell_type": "code",
   "execution_count": 327,
   "id": "66d1067d",
   "metadata": {},
   "outputs": [
    {
     "name": "stdout",
     "output_type": "stream",
     "text": [
      "train_split: 40\n",
      "x_train: 40, y_train: 40\n",
      "x_test: 10, y_test: 10\n"
     ]
    }
   ],
   "source": [
    "### Split the data into training and test sets\n",
    "train_split = int(0.8 * len(X))\n",
    "X_train, y_train = X[:train_split], y[:train_split]\n",
    "X_test, y_test = X[train_split:], y[train_split:]\n",
    "print(f\"train_split: {train_split}\")\n",
    "print(f\"x_train: {len(X_train)}, y_train: {len(y_train)}\")\n",
    "print(f\"x_test: {len(X_test)}, y_test: {len(y_test)}\")"
   ]
  },
  {
   "cell_type": "code",
   "execution_count": 328,
   "id": "25718c26",
   "metadata": {},
   "outputs": [
    {
     "data": {
      "image/png": "[encoded data removed]",
      "text/plain": [
       "<Figure size 1000x700 with 1 Axes>"
      ]
     },
     "metadata": {},
     "output_type": "display_data"
    }
   ],
   "source": [
    "#plot theb data\n",
    "plot_prediction(train_data=X_train,\n",
    "                    train_labels=y_train,\n",
    "                    test_data=X_test,\n",
    "                    test_labels=y_test)"
   ]
  },
  {
   "cell_type": "markdown",
   "id": "770f418b",
   "metadata": {},
   "source": [
    "### building the pytorch linear regression model"
   ]
  },
  {
   "cell_type": "code",
   "execution_count": 329,
   "id": "c9f26b7f",
   "metadata": {},
   "outputs": [
    {
     "name": "stdout",
     "output_type": "stream",
     "text": [
      "model1: LinearRegressionModelV2(\n",
      "  (linear_layer): Linear(in_features=1, out_features=1, bias=True)\n",
      ")\n",
      "Model_1 state_dict: OrderedDict([('linear_layer.weight', tensor([[0.7645]])), ('linear_layer.bias', tensor([0.8300]))])\n"
     ]
    }
   ],
   "source": [
    "### building the pytorch linear regression model\n",
    "### Create a subclass of nn.Module (this is a base class for all neural network modules in PyTorch)\n",
    "class LinearRegressionModelV2(nn.Module):\n",
    "    def __init__(self):\n",
    "        super().__init__()\n",
    "        # Use nn.Linear() for creating the model parameters / also called linear transform, probing layer or linear layer \n",
    "        self.linear_layer = nn.Linear(in_features=1, out_features=1) #<- this is a linear layer (y = mx + b) with 1 input and 1 output feature\n",
    "        # Forward method to define the computation in the model\n",
    "    def forward(self, x: torch.Tensor) -> torch.Tensor:\n",
    "        return self.linear_layer(x)\n",
    "    \n",
    "# Setup a random seed for reproducibility\n",
    "torch.manual_seed(42)\n",
    "model_1 = LinearRegressionModelV2()\n",
    "print(f\"model1: {model_1}\")\n",
    "print(f\"Model_1 state_dict: {model_1.state_dict()}\") # check the device of the model parameters"
   ]
  },
  {
   "cell_type": "code",
   "execution_count": 330,
   "id": "0f70e911",
   "metadata": {},
   "outputs": [
    {
     "data": {
      "text/plain": [
       "device(type='cpu')"
      ]
     },
     "execution_count": 330,
     "metadata": {},
     "output_type": "execute_result"
    }
   ],
   "source": [
    "### Check the model current device\n",
    "next(model_1.parameters()).device"
   ]
  },
  {
   "cell_type": "code",
   "execution_count": 331,
   "id": "d0a6a48d",
   "metadata": {},
   "outputs": [
    {
     "data": {
      "text/plain": [
       "device(type='cpu')"
      ]
     },
     "execution_count": 331,
     "metadata": {},
     "output_type": "execute_result"
    }
   ],
   "source": [
    "### Set the model to use the target device\n",
    "model_1.to(device)\n",
    "next(model_1.parameters()).device # check the device of the model parameters again"
   ]
  },
  {
   "cell_type": "markdown",
   "id": "256956e0",
   "metadata": {},
   "source": [
    "### 6.3 Training and Validation Data\n",
    "For traning we need:\n",
    "- Loss function\n",
    "- Optimizer\n",
    "- Training loop\n",
    "- Validation loop\n"
   ]
  },
  {
   "cell_type": "code",
   "execution_count": 332,
   "id": "1c64c9f4",
   "metadata": {},
   "outputs": [
    {
     "name": "stdout",
     "output_type": "stream",
     "text": [
      "loss_fn: L1Loss()\n",
      "optimizer: SGD (\n",
      "Parameter Group 0\n",
      "    dampening: 0\n",
      "    differentiable: False\n",
      "    foreach: None\n",
      "    fused: None\n",
      "    lr: 0.01\n",
      "    maximize: False\n",
      "    momentum: 0\n",
      "    nesterov: False\n",
      "    weight_decay: 0\n",
      ")\n"
     ]
    }
   ],
   "source": [
    "# Setup a loss function (L1 loss)\n",
    "loss_fn = nn.L1Loss()\n",
    "print(f\"loss_fn: {loss_fn}\")\n",
    "# Setup an optimizer (stochastic gradient descent)\n",
    "optimizer = torch.optim.SGD(params=model_1.parameters(), lr=0.01) # learning rate = possibly the most important hyperparameter\n",
    "print(f\"optimizer: {optimizer}\")"
   ]
  },
  {
   "cell_type": "code",
   "execution_count": null,
   "id": "9b644e68",
   "metadata": {},
   "outputs": [
    {
     "name": "stdout",
     "output_type": "stream",
     "text": [
      "Epoch: 0 | Loss: 0.5551779866218567 | Test loss: 0.5739762187004089\n",
      "Epoch: 10 | Loss: 0.4399680495262146 | Test loss: 0.4392663538455963\n",
      "Epoch: 20 | Loss: 0.3247582018375397 | Test loss: 0.30455657839775085\n",
      "Epoch: 30 | Loss: 0.20954827964305878 | Test loss: 0.16984674334526062\n",
      "Epoch: 40 | Loss: 0.09433844685554504 | Test loss: 0.03513689711689949\n",
      "Epoch: 50 | Loss: 0.023886386305093765 | Test loss: 0.04784906655550003\n",
      "Epoch: 60 | Loss: 0.0199567973613739 | Test loss: 0.04580312222242355\n",
      "Epoch: 70 | Loss: 0.016517987474799156 | Test loss: 0.0375305712223053\n",
      "Epoch: 80 | Loss: 0.013089170679450035 | Test loss: 0.029944902285933495\n",
      "Epoch: 90 | Loss: 0.009653178043663502 | Test loss: 0.02167237363755703\n"
     ]
    }
   ],
   "source": [
    "# Let's train the model\n",
    "torch.manual_seed(42)\n",
    "\n",
    "epochs = 100\n",
    "# Put data to target device\n",
    "X_train = X_train.to(device)\n",
    "y_train = y_train.to(device)\n",
    "X_test = X_test.to(device)\n",
    "y_test = y_test.to(device)\n",
    "\n",
    "for epoch in range(epochs):\n",
    "    model_1.train() # train mode in pytorch sets all parameters that require gradients to require gradients\n",
    "    \n",
    "    # 1. Forward pass\n",
    "    y_preds = model_1(X_train) #<- move the data to the target device\n",
    "    \n",
    "    # 2. Calculate loss (per batch)\n",
    "    loss = loss_fn(y_preds, y_train) #<- move the data to the target device\n",
    "    \n",
    "    # 3. Optimizer zero grad\n",
    "    optimizer.zero_grad()\n",
    "    \n",
    "    # 4. Perform backpropagation on the loss with respect to the parameters of the model\n",
    "    loss.backward()\n",
    "    \n",
    "    # 5. Step the optimizer (perform gradient descent)\n",
    "    optimizer.step()\n",
    "    \n",
    "    # print(f\"Epoch: {epoch} | Loss: {loss}\")\n",
    "    \n",
    "    ### Testing\n",
    "    model_1.eval() # turns off different settings in the model not needed for evaluation/testing (dropout/batch norm)\n",
    "    with torch.inference_mode():\n",
    "        # 1. Forward pass\n",
    "        test_pred = model_1(X_test) #<- move the data to the target device\n",
    "        # 2. Calculate loss (per batch)\n",
    "        test_loss = loss_fn(test_pred, y_test) #<- move the data to the target device\n",
    "        if epoch % 10 == 0:\n",
    "            print(f\"Epoch: {epoch} | Loss: {loss} | Test loss: {test_loss}\")\n"
   ]
  },
  {
   "cell_type": "markdown",
   "id": "f85eab97",
   "metadata": {},
   "source": [
    "### 6.4 Check Out the Model Prediction\n"
   ]
  },
  {
   "cell_type": "code",
   "execution_count": 334,
   "id": "628a9d15",
   "metadata": {},
   "outputs": [
    {
     "data": {
      "image/png": "[encoded data removed]",
      "text/plain": [
       "<Figure size 1000x700 with 1 Axes>"
      ]
     },
     "metadata": {},
     "output_type": "display_data"
    }
   ],
   "source": [
    "plot_prediction(predictions=test_pred.cpu()) #<- move the data to the CPU for plotting"
   ]
  },
  {
   "cell_type": "markdown",
   "id": "1430be93",
   "metadata": {},
   "source": [
    "### 6.5 Save and load the model"
   ]
  },
  {
   "cell_type": "code",
   "execution_count": 335,
   "id": "077c32c4",
   "metadata": {},
   "outputs": [
    {
     "name": "stdout",
     "output_type": "stream",
     "text": [
      "Saving model to: models\\01_pytorch_workflow_model_1_V2.pth\n"
     ]
    },
    {
     "data": {
      "text/plain": [
       "WindowsPath('models/01_pytorch_workflow_model_1_V2.pth')"
      ]
     },
     "execution_count": 335,
     "metadata": {},
     "output_type": "execute_result"
    }
   ],
   "source": [
    "from pathlib import Path\n",
    "\n",
    "# 1. Create models directory\n",
    "MODEL_PATH = Path(\"models\")\n",
    "MODEL_PATH.mkdir(parents=True, exist_ok=True)\n",
    "# 2. Create model save path\n",
    "MODEL_NAME = \"01_pytorch_workflow_model_1_V2.pth\"\n",
    "MODEL_SAVE_PATH = MODEL_PATH / MODEL_NAME\n",
    "# 3. Save the model state dict\n",
    "print(f\"Saving model to: {MODEL_SAVE_PATH}\")\n",
    "torch.save(obj=model_1.state_dict(), # only saving the state_dict() only saves the models learned parameters\n",
    "           f=MODEL_SAVE_PATH)\n",
    "\n",
    "MODEL_SAVE_PATH"
   ]
  },
  {
   "cell_type": "code",
   "execution_count": 336,
   "id": "e42eb3ba",
   "metadata": {},
   "outputs": [
    {
     "data": {
      "text/plain": [
       "OrderedDict([('linear_layer.weight', tensor([[0.6691]])),\n",
       "             ('linear_layer.bias', tensor([0.3130]))])"
      ]
     },
     "execution_count": 336,
     "metadata": {},
     "output_type": "execute_result"
    }
   ],
   "source": [
    "# Load a PyTorch model\n",
    "\n",
    "# Create a new instance of linear regression model V2\n",
    "loaded_model_1 = LinearRegressionModelV2() \n",
    "\n",
    "# Load the saved model_1 state_dict\n",
    "loaded_model_1.load_state_dict(torch.load(f=MODEL_SAVE_PATH))\n",
    "loaded_model_1.state_dict() #<- check the loaded model state dict\n"
   ]
  },
  {
   "cell_type": "code",
   "execution_count": 337,
   "id": "c3e59cb2",
   "metadata": {},
   "outputs": [
    {
     "data": {
      "text/plain": [
       "LinearRegressionModelV2(\n",
       "  (linear_layer): Linear(in_features=1, out_features=1, bias=True)\n",
       ")"
      ]
     },
     "execution_count": 337,
     "metadata": {},
     "output_type": "execute_result"
    }
   ],
   "source": [
    "# Check the loaded model device\n",
    "next(loaded_model_1.parameters()).device #<- check the device of the loaded model parameters\n",
    "# Move the loaded model to the target device\n",
    "loaded_model_1.to(device) #<- move the loaded model to the target device"
   ]
  },
  {
   "cell_type": "code",
   "execution_count": 347,
   "id": "500d735b",
   "metadata": {},
   "outputs": [
    {
     "data": {
      "text/plain": [
       "tensor([[True],\n",
       "        [True],\n",
       "        [True],\n",
       "        [True],\n",
       "        [True],\n",
       "        [True],\n",
       "        [True],\n",
       "        [True],\n",
       "        [True],\n",
       "        [True]])"
      ]
     },
     "execution_count": 347,
     "metadata": {},
     "output_type": "execute_result"
    }
   ],
   "source": [
    "# Evaluate the loaded model\n",
    "loaded_model_1.eval() #<- set the model to evaluation mode\n",
    "with torch.inference_mode():\n",
    "    loaded_model_1_preds = loaded_model_1(X_test) #<- move the data to the target device\n",
    "len(loaded_model_1_preds), len(test_pred) #<- check the length of the predictions\n",
    "test_pred == loaded_model_1_preds #<- check if the predictions are the same as the original model predictions"
   ]
  }
 ],
 "metadata": {
  "kernelspec": {
   "display_name": ".venv",
   "language": "python",
   "name": "python3"
  },
  "language_info": {
   "codemirror_mode": {
    "name": "ipython",
    "version": 3
   },
   "file_extension": ".py",
   "mimetype": "text/x-python",
   "name": "python",
   "nbconvert_exporter": "python",
   "pygments_lexer": "ipython3",
   "version": "3.13.1"
  }
 },
 "nbformat": 4,
 "nbformat_minor": 5
}
