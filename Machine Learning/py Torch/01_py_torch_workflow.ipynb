{
 "cells": [
  {
   "cell_type": "markdown",
   "id": "5e9c3741",
   "metadata": {},
   "source": [
    "# PyTorch Workflow\n",
    "Let's explore a an example PyTorch end-to-end workflow.\n",
    "Resources:\n",
    "* Ground truth notebook - https://github.com/mrdbourke/pytorch-deep-learning/blob/main/01_pytorch_workflow.ipynb\n",
    "\n",
    "* Book version "
   ]
  }
 ],
 "metadata": {
  "language_info": {
   "name": "python"
  }
 },
 "nbformat": 4,
 "nbformat_minor": 5
}
