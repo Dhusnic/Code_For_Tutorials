{
 "cells": [
  {
   "cell_type": "markdown",
   "id": "ef32ff7b",
   "metadata": {},
   "source": [
    "# **02. Neural Network Classification With PyTorch**"
   ]
  },
  {
   "cell_type": "markdown",
   "id": "866e4bfb",
   "metadata": {},
   "source": [
    "## 1. Make Classification Dataset and get it ready\n"
   ]
  },
  {
   "cell_type": "code",
   "execution_count": 24,
   "id": "12e089a4",
   "metadata": {},
   "outputs": [],
   "source": [
    "from sklearn.datasets import make_circles\n",
    "import pandas as pd\n",
    "\n",
    "# Make 1000 examples\n",
    "n_samples = 1000\n",
    "\n",
    "# Create circles\n",
    "X, y = make_circles(n_samples,\n",
    "                    noise=0.03,\n",
    "                    factor=0.5,\n",
    "                    random_state=42)"
   ]
  },
  {
   "cell_type": "code",
   "execution_count": 25,
   "id": "b1c9e103",
   "metadata": {},
   "outputs": [
    {
     "name": "stdout",
     "output_type": "stream",
     "text": [
      "The 5 samples of X are:\n",
      "[[ 0.46463176  0.15322829]\n",
      " [-0.4601531   0.10446773]\n",
      " [-0.51775752  0.13568206]\n",
      " [-0.26599694  0.42143465]\n",
      " [ 0.44220765 -0.89672343]]\n",
      "\n",
      "The 5 samples of y are:\n",
      "[1 1 1 1 0]\n",
      "\n",
      "The shape of X is: (1000, 2)\n",
      "\n",
      "The shape of y is: (1000,)\n",
      "\n"
     ]
    }
   ],
   "source": [
    "print(f\"The 5 samples of X are:\\n{X[:5]}\\n\")\n",
    "print(f\"The 5 samples of y are:\\n{y[:5]}\\n\")\n",
    "print(f\"The shape of X is: {X.shape}\\n\")\n",
    "print(f\"The shape of y is: {y.shape}\\n\")"
   ]
  },
  {
   "cell_type": "code",
   "execution_count": 26,
   "id": "ddfc753d",
   "metadata": {},
   "outputs": [
    {
     "data": {
      "text/html": [
       "<div>\n",
       "<style scoped>\n",
       "    .dataframe tbody tr th:only-of-type {\n",
       "        vertical-align: middle;\n",
       "    }\n",
       "\n",
       "    .dataframe tbody tr th {\n",
       "        vertical-align: top;\n",
       "    }\n",
       "\n",
       "    .dataframe thead th {\n",
       "        text-align: right;\n",
       "    }\n",
       "</style>\n",
       "<table border=\"1\" class=\"dataframe\">\n",
       "  <thead>\n",
       "    <tr style=\"text-align: right;\">\n",
       "      <th></th>\n",
       "      <th>X1</th>\n",
       "      <th>X2</th>\n",
       "      <th>label</th>\n",
       "    </tr>\n",
       "  </thead>\n",
       "  <tbody>\n",
       "    <tr>\n",
       "      <th>0</th>\n",
       "      <td>0.464632</td>\n",
       "      <td>0.153228</td>\n",
       "      <td>1</td>\n",
       "    </tr>\n",
       "    <tr>\n",
       "      <th>1</th>\n",
       "      <td>-0.460153</td>\n",
       "      <td>0.104468</td>\n",
       "      <td>1</td>\n",
       "    </tr>\n",
       "    <tr>\n",
       "      <th>2</th>\n",
       "      <td>-0.517758</td>\n",
       "      <td>0.135682</td>\n",
       "      <td>1</td>\n",
       "    </tr>\n",
       "    <tr>\n",
       "      <th>3</th>\n",
       "      <td>-0.265997</td>\n",
       "      <td>0.421435</td>\n",
       "      <td>1</td>\n",
       "    </tr>\n",
       "    <tr>\n",
       "      <th>4</th>\n",
       "      <td>0.442208</td>\n",
       "      <td>-0.896723</td>\n",
       "      <td>0</td>\n",
       "    </tr>\n",
       "    <tr>\n",
       "      <th>5</th>\n",
       "      <td>-0.294288</td>\n",
       "      <td>0.440548</td>\n",
       "      <td>1</td>\n",
       "    </tr>\n",
       "    <tr>\n",
       "      <th>6</th>\n",
       "      <td>-0.009879</td>\n",
       "      <td>0.503372</td>\n",
       "      <td>1</td>\n",
       "    </tr>\n",
       "    <tr>\n",
       "      <th>7</th>\n",
       "      <td>0.475507</td>\n",
       "      <td>0.098968</td>\n",
       "      <td>1</td>\n",
       "    </tr>\n",
       "    <tr>\n",
       "      <th>8</th>\n",
       "      <td>-0.109409</td>\n",
       "      <td>-0.499499</td>\n",
       "      <td>1</td>\n",
       "    </tr>\n",
       "    <tr>\n",
       "      <th>9</th>\n",
       "      <td>-0.121486</td>\n",
       "      <td>1.021509</td>\n",
       "      <td>0</td>\n",
       "    </tr>\n",
       "  </tbody>\n",
       "</table>\n",
       "</div>"
      ],
      "text/plain": [
       "         X1        X2  label\n",
       "0  0.464632  0.153228      1\n",
       "1 -0.460153  0.104468      1\n",
       "2 -0.517758  0.135682      1\n",
       "3 -0.265997  0.421435      1\n",
       "4  0.442208 -0.896723      0\n",
       "5 -0.294288  0.440548      1\n",
       "6 -0.009879  0.503372      1\n",
       "7  0.475507  0.098968      1\n",
       "8 -0.109409 -0.499499      1\n",
       "9 -0.121486  1.021509      0"
      ]
     },
     "execution_count": 26,
     "metadata": {},
     "output_type": "execute_result"
    }
   ],
   "source": [
    "# Make a DataFrame of circle Data\n",
    "circles = pd.DataFrame({\"X1\" : X[:, 0],\n",
    "                       \"X2\": X[:, 1],\n",
    "                       \"label\": y})\n",
    "\n",
    "# Check the result\n",
    "circles.head(10)\n"
   ]
  },
  {
   "cell_type": "code",
   "execution_count": 27,
   "id": "a8c28d3c",
   "metadata": {},
   "outputs": [
    {
     "data": {
      "text/plain": [
       "<matplotlib.collections.PathCollection at 0x24711f37a90>"
      ]
     },
     "execution_count": 27,
     "metadata": {},
     "output_type": "execute_result"
    },
    {
     "data": {
      "image/png": "[encoded data removed]",
      "text/plain": [
       "<Figure size 640x480 with 1 Axes>"
      ]
     },
     "metadata": {},
     "output_type": "display_data"
    }
   ],
   "source": [
    "# Visualize the data\n",
    "import matplotlib.pyplot as plt\n",
    "import seaborn as sns\n",
    "\n",
    "plt.scatter(x = X[:, 0], \n",
    "            y = X[:, 1], \n",
    "            c=y,\n",
    "            cmap=plt.cm.RdYlBu)"
   ]
  },
  {
   "cell_type": "markdown",
   "id": "5855ddcb",
   "metadata": {},
   "source": [
    "Note: the data we are working with is often referenced as  a toy dataset, a dataset that is small enough to experiment with but still sizeable enough to apply machine learning techniques to."
   ]
  },
  {
   "cell_type": "markdown",
   "id": "fa20050d",
   "metadata": {},
   "source": [
    "### 1.1 **Check Input and Output Shapes**"
   ]
  },
  {
   "cell_type": "code",
   "execution_count": 28,
   "id": "065ee7ef",
   "metadata": {},
   "outputs": [
    {
     "name": "stdout",
     "output_type": "stream",
     "text": [
      "The type of X is: <class 'numpy.ndarray'>\n",
      "\n",
      "The type of y is: <class 'numpy.ndarray'>\n",
      "\n",
      "The type of circles is: <class 'pandas.core.frame.DataFrame'>\n",
      "\n"
     ]
    }
   ],
   "source": [
    "print(f\"The type of X is: {type(X)}\\n\")\n",
    "print(f\"The type of y is: {type(y)}\\n\")\n",
    "print(f\"The type of circles is: {type(circles)}\\n\")"
   ]
  },
  {
   "cell_type": "code",
   "execution_count": 29,
   "id": "f365a1d3",
   "metadata": {},
   "outputs": [
    {
     "name": "stdout",
     "output_type": "stream",
     "text": [
      "Values for one sample of X: [0.46463176 0.15322829] and the same for y: 1\n",
      "Shapes for one sample of X: (2,) and the same for y: ()\n"
     ]
    }
   ],
   "source": [
    "# View the first example of featuews and labels\n",
    "X_sample = X[0]\n",
    "y_sample = y[0]\n",
    "print(f\"Values for one sample of X: {X_sample} and the same for y: {y_sample}\")\n",
    "print(f\"Shapes for one sample of X: {X_sample.shape} and the same for y: {y_sample.shape}\")"
   ]
  },
  {
   "cell_type": "markdown",
   "id": "a7f71112",
   "metadata": {},
   "source": [
    "### 1.2 **Turn data into tensors and create train/test split**"
   ]
  },
  {
   "cell_type": "code",
   "execution_count": 30,
   "id": "190ecca8",
   "metadata": {},
   "outputs": [
    {
     "data": {
      "text/plain": [
       "'2.6.0+cpu'"
      ]
     },
     "execution_count": 30,
     "metadata": {},
     "output_type": "execute_result"
    }
   ],
   "source": [
    "import torch\n",
    "torch.__version__"
   ]
  },
  {
   "cell_type": "code",
   "execution_count": 31,
   "id": "28d2fefb",
   "metadata": {},
   "outputs": [
    {
     "data": {
      "text/plain": [
       "(tensor([[ 0.4646,  0.1532],\n",
       "         [-0.4602,  0.1045],\n",
       "         [-0.5178,  0.1357],\n",
       "         [-0.2660,  0.4214],\n",
       "         [ 0.4422, -0.8967]]),\n",
       " tensor([1., 1., 1., 1., 0.]))"
      ]
     },
     "execution_count": 31,
     "metadata": {},
     "output_type": "execute_result"
    }
   ],
   "source": [
    "### Turn data into tensors\n",
    "X = torch.from_numpy(X).type(torch.float)\n",
    "y = torch.from_numpy(y).type(torch.float)\n",
    "# Split data\n",
    "X[:5], y[:5]"
   ]
  },
  {
   "cell_type": "code",
   "execution_count": 32,
   "id": "b79e9444",
   "metadata": {},
   "outputs": [
    {
     "name": "stdout",
     "output_type": "stream",
     "text": [
      "type of X: <class 'torch.Tensor'>\n",
      "\n",
      "type of y: <class 'torch.Tensor'>\n",
      "\n",
      "shape of X: torch.Size([1000, 2]) shape of y: torch.Size([1000])\n",
      "\n"
     ]
    }
   ],
   "source": [
    "# Spit data into train and test sets\n",
    "print(f\"type of X: {type(X)}\\n\")\n",
    "print(f\"type of y: {type(y)}\\n\")\n",
    "print(f\"shape of X: {X.shape}\", f\"shape of y: {y.shape}\\n\")\n"
   ]
  },
  {
   "cell_type": "code",
   "execution_count": 33,
   "id": "57e813b1",
   "metadata": {},
   "outputs": [
    {
     "data": {
      "text/plain": [
       "<torch._C.Generator at 0x2470dcebed0>"
      ]
     },
     "execution_count": 33,
     "metadata": {},
     "output_type": "execute_result"
    }
   ],
   "source": [
    "torch.manual_seed(42)"
   ]
  },
  {
   "cell_type": "code",
   "execution_count": 34,
   "id": "bbb70f86",
   "metadata": {},
   "outputs": [
    {
     "name": "stdout",
     "output_type": "stream",
     "text": [
      "X_train shape: torch.Size([800, 2])\n",
      "\n",
      "X_test shape: torch.Size([200, 2])\n",
      "\n",
      "y_train shape: torch.Size([800])\n",
      "\n",
      "y_test shape: torch.Size([200])\n",
      "\n"
     ]
    }
   ],
   "source": [
    "from sklearn.model_selection import train_test_split\n",
    "# Split the data into train and test sets\n",
    "X_train, X_test, y_train, y_test = train_test_split(X, y, \n",
    "                                                    test_size=0.2, #0.2 means 20% test, 80% train\n",
    "                                                    random_state=42)\n",
    "print(f\"X_train shape: {X_train.shape}\\n\")\n",
    "print(f\"X_test shape: {X_test.shape}\\n\")\n",
    "print(f\"y_train shape: {y_train.shape}\\n\")\n",
    "print(f\"y_test shape: {y_test.shape}\\n\")\n"
   ]
  },
  {
   "cell_type": "markdown",
   "id": "873e9170",
   "metadata": {},
   "source": [
    "## 2. Buiding a model\n",
    "Let's build a model to classify our blue and red dots.\n",
    "\n",
    "To Do so, we want to:\n",
    "1. Setup device agnostic code (so our model can run on CPU or GPU if it's available).\n",
    "2. Construct a model (by subclassing `nn.Module`)\n",
    "3. Define a loss function and optimizer\n",
    "4. Create a training and test loop\n"
   ]
  },
  {
   "cell_type": "code",
   "execution_count": 35,
   "id": "7699042c",
   "metadata": {},
   "outputs": [
    {
     "name": "stdout",
     "output_type": "stream",
     "text": [
      "Using cpu device\n",
      "\n"
     ]
    }
   ],
   "source": [
    "# Import PyTorch and nn\n",
    "import torch\n",
    "import torch.nn as nn\n",
    "\n",
    "# Make a device-agnostic code\n",
    "device = \"cuda\" if torch.cuda.is_available() else \"cpu\"\n",
    "print(f\"Using {device} device\\n\")"
   ]
  },
  {
   "cell_type": "code",
   "execution_count": 36,
   "id": "05c5a609",
   "metadata": {},
   "outputs": [
    {
     "data": {
      "text/plain": [
       "tensor([[ 0.4221, -0.2797],\n",
       "        [ 0.6319, -0.7347],\n",
       "        [-1.0086, -0.1240],\n",
       "        ...,\n",
       "        [ 0.0157, -1.0300],\n",
       "        [ 1.0110,  0.1680],\n",
       "        [ 0.3497, -0.3548]])"
      ]
     },
     "execution_count": 36,
     "metadata": {},
     "output_type": "execute_result"
    }
   ],
   "source": [
    "X_train"
   ]
  },
  {
   "cell_type": "markdown",
   "id": "4cb52a10",
   "metadata": {},
   "source": [
    "Now we've setup device agnostic code, let's create a model that:  \n",
    "\n",
    "1. Subclasses nn.Module (almost all PyTorch models are subclasses of nn.Module)\n",
    "2. Create 2 nn.Linear layers in the __init__() method (these will be our features (X) and output (y))\n",
    "3. Defines a forward() method that outlines the forward pass (or forward computation) of the model\n",
    "4. Instantiates the model class and sends it to the target device\n"
   ]
  },
  {
   "cell_type": "code",
   "execution_count": 37,
   "id": "92b25950",
   "metadata": {},
   "outputs": [
    {
     "name": "stdout",
     "output_type": "stream",
     "text": [
      "Model : CircleModel(\n",
      "  (layer1): Linear(in_features=2, out_features=5, bias=True)\n",
      "  (layer2): Linear(in_features=5, out_features=1, bias=True)\n",
      "  (activation): Sigmoid()\n",
      ")\n",
      "\n",
      "State Dicts : OrderedDict([('layer1.weight', tensor([[ 0.5406,  0.5869],\n",
      "        [-0.1657,  0.6496],\n",
      "        [-0.1549,  0.1427],\n",
      "        [-0.3443,  0.4153],\n",
      "        [ 0.6233, -0.5188]])), ('layer1.bias', tensor([0.6146, 0.1323, 0.5224, 0.0958, 0.3410])), ('layer2.weight', tensor([[-0.0631,  0.3448,  0.0661, -0.2088,  0.1140]])), ('layer2.bias', tensor([-0.2060]))])\n",
      "\n"
     ]
    }
   ],
   "source": [
    "# 1. construct a model that subclass nn.Module\n",
    "class CircleModel(nn.Module):\n",
    "    def __init__(self, input_features, output_features):\n",
    "        super().__init__()\n",
    "        self.layer1 = nn.Linear(in_features=input_features, #input_features=2\n",
    "                                out_features=output_features #output_features=5\n",
    "                                )\n",
    "        # 2. add a second layer to the model\n",
    "        self.layer2 = nn.Linear(in_features=output_features, #input_features=5\n",
    "                                out_features=1 #output_features=1\n",
    "                                )\n",
    "        # 3. add an activation function to the model\n",
    "        self.activation = nn.Sigmoid()\n",
    "    \n",
    "    def forward(self, x):\n",
    "        return self.activation(\n",
    "            self.layer2(         \n",
    "                self.layer1(x) #    x -> layer1 -> layer2 -> activation function\n",
    "                ))\n",
    "        \n",
    "# 4. create an instance of the model and send it to the device\n",
    "model = CircleModel(input_features=2, #input_features=2\n",
    "                    output_features=5) #output_features=5\n",
    "model.to(device) #send the model to the device\n",
    "print(f\"Model : {model}\\n\") #view the model\n",
    "print(f\"State Dicts : {model.state_dict()}\\n\")#view the model's state dict"
   ]
  },
  {
   "cell_type": "code",
   "execution_count": 40,
   "id": "972a7e4c",
   "metadata": {},
   "outputs": [
    {
     "name": "stdout",
     "output_type": "stream",
     "text": [
      "Untrained model predictions: tensor([[0.4666],\n",
      "        [0.4758],\n",
      "        [0.4568],\n",
      "        [0.4728],\n",
      "        [0.4599],\n",
      "        [0.4630],\n",
      "        [0.4794],\n",
      "        [0.4764],\n",
      "        [0.4562],\n",
      "        [0.4764]], grad_fn=<SliceBackward0>)\n",
      "\n",
      "Length of untrained model predictions: 200\n",
      "\n",
      "length of test samples: 200,Shape of test samples: torch.Size([200, 2])\n",
      "\n",
      "First 10 predictions    :\n",
      "tensor([[0.4666],\n",
      "        [0.4758],\n",
      "        [0.4568],\n",
      "        [0.4728],\n",
      "        [0.4599],\n",
      "        [0.4630],\n",
      "        [0.4794],\n",
      "        [0.4764],\n",
      "        [0.4562],\n",
      "        [0.4764]], grad_fn=<SliceBackward0>)\n",
      "First 10 Labels :\n",
      "tensor([[-0.2274,  0.4216],\n",
      "        [ 0.0154,  0.9600],\n",
      "        [-0.4298, -0.1904],\n",
      "        [-0.2853,  0.9664],\n",
      "        [ 0.2417, -0.4905],\n",
      "        [ 0.4011, -0.3799],\n",
      "        [ 0.8561,  0.5499],\n",
      "        [ 1.0034,  0.1903],\n",
      "        [-0.4603, -0.2132],\n",
      "        [ 0.0538,  0.9739]])\n"
     ]
    }
   ],
   "source": [
    "# Make predictions with the model\n",
    "untrained_preds = model(X_test.to(device)) #send the test data to the device\n",
    "# View the first 10 predictions\n",
    "untrained_preds[:10]\n",
    "\n",
    "print(f\"Untrained model predictions: {untrained_preds[:10]}\\n\")\n",
    "print(f\"Length of untrained model predictions: {len(untrained_preds)}\\n\")\n",
    "print(f\"length of test samples: {len(X_test)},Shape of test samples: {X_test.shape}\\n\")\n",
    "print(f\"First 10 predictions    :\\n{untrained_preds[:10]}\")\n",
    "print(f\"First 10 Labels :\\n{X_test[:10]}\")\n"
   ]
  },
  {
   "cell_type": "markdown",
   "id": "072b6467",
   "metadata": {},
   "source": [
    "### 2.1 Setup loss function and optimizer\n",
    "\n",
    "which loss function and optimizer to use?\n",
    "\n",
    "Again this is problem specific.\n",
    "\n",
    "For example, for regression, you might want MAE or MSE (mean absolute error or mean squared error).\n",
    "\n",
    "For classification, you might want binary cross entropy or categorical cross entropy.  "
   ]
  },
  {
   "cell_type": "code",
   "execution_count": null,
   "id": "698e18cb",
   "metadata": {},
   "outputs": [],
   "source": []
  }
 ],
 "metadata": {
  "kernelspec": {
   "display_name": ".venv",
   "language": "python",
   "name": "python3"
  },
  "language_info": {
   "codemirror_mode": {
    "name": "ipython",
    "version": 3
   },
   "file_extension": ".py",
   "mimetype": "text/x-python",
   "name": "python",
   "nbconvert_exporter": "python",
   "pygments_lexer": "ipython3",
   "version": "3.9.13"
  }
 },
 "nbformat": 4,
 "nbformat_minor": 5
}
