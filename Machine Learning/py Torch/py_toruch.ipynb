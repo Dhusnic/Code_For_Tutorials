{
 "cells": [
  {
   "cell_type": "markdown",
   "metadata": {},
   "source": [
    "### **Fundamentals of Py Tourch**\n",
    "- `Resource Note Book` : [Resource Notebook](https://www.learnpytorch.io/00_pytorch_fundamentals/)"
   ]
  },
  {
   "cell_type": "code",
   "execution_count": 123,
   "metadata": {},
   "outputs": [],
   "source": [
    "import torch\n",
    "import pandas as pd\n",
    "import numpy as np\n",
    "import matplotlib.pyplot as plt\n"
   ]
  },
  {
   "cell_type": "code",
   "execution_count": 124,
   "metadata": {},
   "outputs": [
    {
     "name": "stdout",
     "output_type": "stream",
     "text": [
      "2.6.0+cpu\n"
     ]
    }
   ],
   "source": [
    "print(torch.__version__)"
   ]
  },
  {
   "cell_type": "markdown",
   "metadata": {
    "notebookRunGroups": {
     "groupValue": "2"
    }
   },
   "source": [
    "### Introduction To Tensor\n",
    "\n",
    "#### Creating Tensor\n"
   ]
  },
  {
   "cell_type": "code",
   "execution_count": 125,
   "metadata": {},
   "outputs": [
    {
     "name": "stdout",
     "output_type": "stream",
     "text": [
      "tensor(7)\n"
     ]
    }
   ],
   "source": [
    "# scalar\n",
    "scalar = torch.tensor(7)\n",
    "print(scalar)"
   ]
  },
  {
   "cell_type": "code",
   "execution_count": 126,
   "metadata": {},
   "outputs": [
    {
     "name": "stdout",
     "output_type": "stream",
     "text": [
      "0\n"
     ]
    }
   ],
   "source": [
    "dimention_of_tensor=scalar.ndim\n",
    "print(dimention_of_tensor)"
   ]
  },
  {
   "cell_type": "code",
   "execution_count": 127,
   "metadata": {},
   "outputs": [
    {
     "name": "stdout",
     "output_type": "stream",
     "text": [
      "7\n"
     ]
    }
   ],
   "source": [
    "### Get tensor back as python Int\n",
    "item_in_tensor=scalar.item()\n",
    "print(item_in_tensor)"
   ]
  },
  {
   "cell_type": "code",
   "execution_count": 128,
   "metadata": {},
   "outputs": [
    {
     "name": "stdout",
     "output_type": "stream",
     "text": [
      "tensor([1, 2, 3])\n"
     ]
    }
   ],
   "source": [
    "### Vector\n",
    "vector = torch.tensor([1, 2, 3])\n",
    "print(vector)"
   ]
  },
  {
   "cell_type": "code",
   "execution_count": 129,
   "metadata": {},
   "outputs": [
    {
     "name": "stdout",
     "output_type": "stream",
     "text": [
      "1\n"
     ]
    }
   ],
   "source": [
    "### vector Dimension\n",
    "dimention_of_tensor=vector.ndim\n",
    "print(dimention_of_tensor)"
   ]
  },
  {
   "cell_type": "code",
   "execution_count": 130,
   "metadata": {},
   "outputs": [
    {
     "name": "stdout",
     "output_type": "stream",
     "text": [
      "torch.Size([3])\n"
     ]
    }
   ],
   "source": [
    "### shape of the tensor\n",
    "tensor_shape  = vector.shape\n",
    "print(tensor_shape)"
   ]
  },
  {
   "cell_type": "code",
   "execution_count": 131,
   "metadata": {},
   "outputs": [
    {
     "name": "stdout",
     "output_type": "stream",
     "text": [
      "tensor([[1, 2, 3],\n",
      "        [4, 5, 6]])\n"
     ]
    }
   ],
   "source": [
    "#   MATRIX\n",
    "MATRIX = torch.tensor([[1, 2, 3], [4, 5, 6]])\n",
    "print(MATRIX)"
   ]
  },
  {
   "cell_type": "code",
   "execution_count": 132,
   "metadata": {},
   "outputs": [
    {
     "name": "stdout",
     "output_type": "stream",
     "text": [
      "2\n"
     ]
    }
   ],
   "source": [
    "dimention_of_tensor = MATRIX.ndim\n",
    "print(dimention_of_tensor)"
   ]
  },
  {
   "cell_type": "code",
   "execution_count": 133,
   "metadata": {},
   "outputs": [
    {
     "name": "stdout",
     "output_type": "stream",
     "text": [
      "torch.Size([2, 3])\n"
     ]
    }
   ],
   "source": [
    "shape_of_tensor=MATRIX.shape\n",
    "print(shape_of_tensor)"
   ]
  },
  {
   "cell_type": "code",
   "execution_count": 134,
   "metadata": {},
   "outputs": [
    {
     "name": "stdout",
     "output_type": "stream",
     "text": [
      "tensor([4, 5, 6])\n"
     ]
    }
   ],
   "source": [
    "print(MATRIX[1])"
   ]
  },
  {
   "cell_type": "code",
   "execution_count": 135,
   "metadata": {},
   "outputs": [
    {
     "name": "stdout",
     "output_type": "stream",
     "text": [
      "tensor([[[1, 2, 3],\n",
      "         [4, 5, 6],\n",
      "         [7, 8, 9]],\n",
      "\n",
      "        [[1, 2, 3],\n",
      "         [4, 5, 6],\n",
      "         [7, 8, 9]],\n",
      "\n",
      "        [[1, 2, 3],\n",
      "         [4, 5, 6],\n",
      "         [7, 8, 9]]])\n"
     ]
    }
   ],
   "source": [
    "# TENSOR\n",
    "TENSOR = torch.tensor([[[1, 2, 3], [4, 5, 6], [7, 8, 9]], [[1, 2, 3], [4, 5, 6], [7, 8, 9]], [[1, 2, 3], [4, 5, 6], [7, 8, 9]]])\n",
    "print(TENSOR)"
   ]
  },
  {
   "cell_type": "code",
   "execution_count": 136,
   "metadata": {},
   "outputs": [
    {
     "name": "stdout",
     "output_type": "stream",
     "text": [
      "3\n"
     ]
    }
   ],
   "source": [
    "# dimension of the tensor\n",
    "dimention_of_tensor = TENSOR.ndim\n",
    "print(dimention_of_tensor)"
   ]
  },
  {
   "cell_type": "code",
   "execution_count": 137,
   "metadata": {},
   "outputs": [
    {
     "name": "stdout",
     "output_type": "stream",
     "text": [
      "torch.Size([3, 3, 3])\n"
     ]
    }
   ],
   "source": [
    "# shape of the tensor\n",
    "shape_of_tensor = TENSOR.shape\n",
    "print(shape_of_tensor)"
   ]
  },
  {
   "cell_type": "code",
   "execution_count": 138,
   "metadata": {},
   "outputs": [
    {
     "data": {
      "text/plain": [
       "tensor([[1, 2, 3],\n",
       "        [4, 5, 6],\n",
       "        [7, 8, 9]])"
      ]
     },
     "execution_count": 138,
     "metadata": {},
     "output_type": "execute_result"
    }
   ],
   "source": [
    "TENSOR[0]"
   ]
  },
  {
   "cell_type": "markdown",
   "metadata": {},
   "source": [
    "### Random Tensors\n",
    "- `why Random Tensors?`\n",
    "- `Random Tensors` are important because the way many neural networks learns is that they start with tensors full of random numbers and then adjust the numbers to get to better representations of the data.\n",
    "\n",
    "`start with random numbers -> look at the daat -> update the random numbers -> look at the data -> update the random numbers`"
   ]
  },
  {
   "cell_type": "code",
   "execution_count": 139,
   "metadata": {},
   "outputs": [
    {
     "name": "stdout",
     "output_type": "stream",
     "text": [
      "tensor([0.9634, 0.3308, 0.4765]) \n",
      "\n",
      "tensor([[0.7991, 0.0266, 0.7598, 0.8452],\n",
      "        [0.3241, 0.2486, 0.9242, 0.0346],\n",
      "        [0.0950, 0.3053, 0.2937, 0.4281]]) \n",
      "\n"
     ]
    },
    {
     "name": "stdout",
     "output_type": "stream",
     "text": [
      "tensor([[[0.7644, 0.9355, 0.3790, 0.8273, 0.5843],\n",
      "         [0.9313, 0.8647, 0.0773, 0.0648, 0.2910],\n",
      "         [0.6214, 0.3627, 0.2522, 0.9251, 0.5422],\n",
      "         [0.1934, 0.3393, 0.9784, 0.4427, 0.2298]],\n",
      "\n",
      "        [[0.5311, 0.7109, 0.5757, 0.3472, 0.3057],\n",
      "         [0.3667, 0.0857, 0.7713, 0.2030, 0.6681],\n",
      "         [0.1207, 0.6677, 0.0043, 0.1243, 0.1808],\n",
      "         [0.6428, 0.8721, 0.2453, 0.1911, 0.3580]],\n",
      "\n",
      "        [[0.5587, 0.6700, 0.2301, 0.5289, 0.7726],\n",
      "         [0.1227, 0.5683, 0.8849, 0.0738, 0.4899],\n",
      "         [0.1413, 0.1096, 0.2738, 0.4034, 0.3395],\n",
      "         [0.7497, 0.2066, 0.2459, 0.7123, 0.2069]]]) \n",
      "\n",
      "tensor([[[[1.3688e-01, 4.2908e-01, 3.0124e-01, 4.7997e-01, 7.8040e-01,\n",
      "           6.6925e-01],\n",
      "          [2.8878e-01, 5.6571e-01, 6.9942e-01, 5.4226e-01, 5.6897e-01,\n",
      "           9.1254e-01],\n",
      "          [7.7844e-01, 8.6141e-01, 3.0411e-01, 8.8946e-01, 4.7485e-01,\n",
      "           7.8311e-01],\n",
      "          [4.4500e-01, 7.0673e-01, 9.5547e-02, 4.1246e-01, 3.0960e-01,\n",
      "           6.3868e-01],\n",
      "          [4.2538e-01, 3.3703e-01, 8.2326e-01, 4.7462e-01, 3.6438e-01,\n",
      "           6.3745e-01]],\n",
      "\n",
      "         [[1.4905e-01, 8.7088e-01, 1.6426e-01, 1.1845e-01, 3.0877e-01,\n",
      "           3.2547e-01],\n",
      "          [8.8719e-01, 7.9486e-01, 2.6029e-01, 9.6873e-01, 5.0037e-01,\n",
      "           4.9941e-01],\n",
      "          [8.6866e-01, 6.3033e-01, 8.5577e-01, 1.8327e-01, 6.4174e-01,\n",
      "           9.3103e-01],\n",
      "          [1.0270e-01, 8.4920e-01, 4.2906e-01, 2.5893e-01, 4.7273e-01,\n",
      "           2.9868e-01],\n",
      "          [2.5154e-01, 2.6483e-01, 2.9200e-02, 8.1462e-01, 1.0658e-01,\n",
      "           1.1353e-01]],\n",
      "\n",
      "         [[7.0649e-01, 6.7537e-01, 9.9541e-02, 2.7805e-01, 9.0222e-01,\n",
      "           3.6308e-01],\n",
      "          [1.6042e-01, 5.6872e-01, 5.9991e-01, 7.0600e-01, 7.0295e-02,\n",
      "           8.4387e-01],\n",
      "          [1.6255e-01, 6.9032e-01, 3.5128e-01, 9.5322e-02, 5.4777e-01,\n",
      "           3.6488e-02],\n",
      "          [4.1345e-01, 6.3299e-02, 8.3425e-02, 6.2704e-01, 6.8792e-01,\n",
      "           2.0029e-01],\n",
      "          [6.1505e-01, 8.3433e-01, 2.7310e-01, 1.3151e-01, 8.3901e-01,\n",
      "           3.1371e-01]],\n",
      "\n",
      "         [[7.0907e-01, 6.9230e-02, 9.7850e-01, 4.0059e-02, 6.4787e-02,\n",
      "           2.4907e-01],\n",
      "          [5.8303e-01, 7.2051e-01, 9.7412e-01, 9.6569e-01, 8.7920e-01,\n",
      "           9.5925e-01],\n",
      "          [4.1496e-01, 6.8802e-01, 1.4432e-01, 4.0412e-01, 5.8689e-01,\n",
      "           9.6022e-01],\n",
      "          [5.2182e-01, 8.7542e-01, 2.9457e-01, 8.6420e-02, 7.0298e-01,\n",
      "           5.2351e-02],\n",
      "          [5.1528e-01, 6.9460e-02, 3.3928e-01, 9.6390e-01, 1.9239e-01,\n",
      "           4.6648e-01]]],\n",
      "\n",
      "\n",
      "        [[[6.8807e-01, 9.1766e-01, 5.9029e-01, 3.9508e-01, 2.6498e-01,\n",
      "           3.9256e-01],\n",
      "          [9.9500e-01, 3.7622e-01, 3.7294e-01, 6.5046e-01, 1.7514e-01,\n",
      "           9.7353e-01],\n",
      "          [4.0109e-01, 8.9688e-01, 8.7266e-02, 9.1432e-01, 3.2811e-02,\n",
      "           5.5476e-01],\n",
      "          [1.8462e-01, 9.2467e-01, 4.0388e-01, 6.0157e-01, 9.8153e-01,\n",
      "           5.4140e-01],\n",
      "          [5.1016e-02, 8.7067e-01, 2.4764e-01, 4.1661e-01, 4.7610e-01,\n",
      "           8.8749e-01]],\n",
      "\n",
      "         [[7.1635e-01, 4.9247e-01, 7.7687e-01, 1.9995e-01, 5.6114e-01,\n",
      "           4.9221e-01],\n",
      "          [1.8980e-01, 2.6984e-02, 2.4785e-01, 2.0100e-01, 6.4038e-01,\n",
      "           9.8586e-01],\n",
      "          [2.9818e-01, 9.4757e-02, 5.1060e-01, 1.7097e-01, 4.5694e-01,\n",
      "           2.0561e-01],\n",
      "          [2.1779e-02, 1.0025e-02, 3.2059e-01, 7.7079e-01, 8.9492e-01,\n",
      "           2.3097e-01],\n",
      "          [1.7332e-01, 3.1983e-01, 8.4853e-01, 1.6899e-01, 8.0906e-01,\n",
      "           1.1661e-01]],\n",
      "\n",
      "         [[3.4397e-01, 8.5192e-01, 8.8575e-01, 8.6848e-01, 6.5796e-01,\n",
      "           3.3338e-01],\n",
      "          [1.1620e-01, 4.7083e-01, 6.7519e-01, 6.6638e-01, 2.8391e-01,\n",
      "           9.5245e-01],\n",
      "          [1.8897e-01, 8.6262e-01, 8.3211e-01, 7.0640e-01, 8.2614e-01,\n",
      "           5.2996e-01],\n",
      "          [7.4880e-02, 6.5557e-01, 2.4500e-01, 7.1031e-01, 1.3588e-01,\n",
      "           7.8770e-01],\n",
      "          [2.1166e-01, 7.1567e-01, 2.5625e-02, 2.7892e-01, 2.3731e-01,\n",
      "           9.4825e-01]],\n",
      "\n",
      "         [[7.2766e-01, 6.2939e-01, 5.3334e-01, 4.1899e-01, 2.7611e-01,\n",
      "           7.4347e-01],\n",
      "          [4.9946e-01, 3.0555e-01, 6.4404e-01, 3.6134e-01, 5.4222e-01,\n",
      "           3.5830e-01],\n",
      "          [6.4733e-01, 6.2565e-01, 4.8313e-01, 2.8633e-01, 9.1496e-01,\n",
      "           9.6531e-02],\n",
      "          [4.6261e-01, 6.5738e-01, 3.5341e-01, 5.4820e-01, 4.9974e-01,\n",
      "           1.6057e-01],\n",
      "          [5.9673e-01, 5.3967e-01, 8.3789e-01, 5.0289e-01, 6.9046e-01,\n",
      "           8.4541e-01]]],\n",
      "\n",
      "\n",
      "        [[[3.1153e-01, 1.6868e-01, 8.2999e-01, 7.1342e-01, 3.5865e-01,\n",
      "           9.6250e-01],\n",
      "          [4.1369e-01, 9.3615e-01, 6.8441e-01, 6.1705e-01, 6.9075e-01,\n",
      "           9.2198e-01],\n",
      "          [7.9761e-01, 8.1897e-01, 5.0300e-01, 4.9389e-01, 5.6682e-01,\n",
      "           4.4302e-01],\n",
      "          [9.9221e-02, 8.1605e-01, 3.5517e-01, 4.7201e-01, 2.2653e-01,\n",
      "           8.8573e-01],\n",
      "          [9.9252e-01, 7.2697e-01, 6.8579e-01, 2.2157e-01, 4.3059e-01,\n",
      "           8.7815e-01]],\n",
      "\n",
      "         [[8.8688e-01, 5.3768e-01, 4.0586e-01, 4.6661e-01, 6.4945e-01,\n",
      "           9.1649e-01],\n",
      "          [2.9496e-02, 2.4474e-01, 1.4764e-01, 4.8376e-01, 5.4485e-04,\n",
      "           9.1103e-01],\n",
      "          [2.5807e-01, 9.5536e-01, 8.2729e-01, 1.4205e-01, 4.7398e-01,\n",
      "           7.1656e-01],\n",
      "          [9.9632e-01, 2.2166e-02, 9.5397e-01, 2.6022e-01, 4.3962e-01,\n",
      "           6.2178e-01],\n",
      "          [9.4017e-01, 9.1459e-01, 7.1959e-01, 6.9696e-01, 1.2915e-01,\n",
      "           2.5403e-01]],\n",
      "\n",
      "         [[3.1885e-01, 5.8416e-01, 9.2338e-01, 4.2019e-01, 5.0682e-02,\n",
      "           4.6582e-01],\n",
      "          [6.6408e-01, 3.1917e-01, 5.7213e-01, 9.7046e-01, 6.9466e-01,\n",
      "           3.2428e-01],\n",
      "          [4.5184e-01, 1.2979e-01, 8.2808e-01, 7.6095e-01, 8.3266e-01,\n",
      "           5.3013e-01],\n",
      "          [1.9326e-02, 5.8520e-01, 9.9080e-01, 8.9384e-01, 5.1054e-01,\n",
      "           5.8531e-01],\n",
      "          [8.1608e-03, 6.9212e-01, 1.7275e-01, 2.4264e-01, 5.2163e-01,\n",
      "           7.2561e-01]],\n",
      "\n",
      "         [[1.8060e-01, 3.7414e-02, 9.0502e-01, 5.9878e-02, 3.0139e-01,\n",
      "           1.8578e-01],\n",
      "          [1.8617e-01, 3.7152e-01, 6.5940e-01, 5.1542e-01, 4.4393e-01,\n",
      "           7.9110e-01],\n",
      "          [6.9251e-01, 2.4922e-01, 5.1587e-02, 9.8449e-01, 2.6993e-01,\n",
      "           2.2474e-01],\n",
      "          [1.4535e-01, 5.4611e-01, 8.9611e-01, 4.5788e-01, 1.2189e-01,\n",
      "           3.2036e-01],\n",
      "          [7.8414e-01, 2.7252e-01, 1.0909e-02, 8.3049e-01, 7.7655e-01,\n",
      "           6.3361e-01]]]]) \n",
      "\n"
     ]
    }
   ],
   "source": [
    "# create a random tensor of size 3x4\n",
    "random_tensor = torch.rand(3)\n",
    "print(random_tensor,\"\\n\")\n",
    "random_tensor = torch.rand(3, 4)\n",
    "print(random_tensor,\"\\n\")\n",
    "random_tensor = torch.rand(3, 4, 5)\n",
    "print(random_tensor,\"\\n\")\n",
    "random_tensor = torch.rand(3, 4, 5, 6)\n",
    "print(random_tensor,\"\\n\")"
   ]
  },
  {
   "cell_type": "code",
   "execution_count": 140,
   "metadata": {},
   "outputs": [
    {
     "data": {
      "text/plain": [
       "(torch.Size([3, 224, 224]), 3)"
      ]
     },
     "execution_count": 140,
     "metadata": {},
     "output_type": "execute_result"
    }
   ],
   "source": [
    "# create a random tensor with similar shape to an image tensor\n",
    "random_tensor_image_size_tensor = torch.randn(size=(3,224, 224)) #height, width, color channels(R, G, B)\n",
    "# random_tensor_image_size_tensor = torch.randn(3,224, 224) #height, width, color channels(R, G, B)\n",
    "random_tensor_image_size_tensor.shape, random_tensor_image_size_tensor.ndim"
   ]
  },
  {
   "cell_type": "markdown",
   "metadata": {},
   "source": [
    "### Zeros and Ones\n"
   ]
  },
  {
   "cell_type": "code",
   "execution_count": 141,
   "metadata": {},
   "outputs": [
    {
     "name": "stdout",
     "output_type": "stream",
     "text": [
      "tensor([[0., 0., 0., 0.],\n",
      "        [0., 0., 0., 0.],\n",
      "        [0., 0., 0., 0.]])\n"
     ]
    }
   ],
   "source": [
    "# Create a ensors of all zeros\n",
    "zero = torch.zeros(3,4)\n",
    "print(zero)"
   ]
  },
  {
   "cell_type": "code",
   "execution_count": 142,
   "metadata": {},
   "outputs": [
    {
     "name": "stdout",
     "output_type": "stream",
     "text": [
      "tensor([[0., 0., 0., 0.],\n",
      "        [0., 0., 0., 0.],\n",
      "        [0., 0., 0., 0.]])\n"
     ]
    }
   ],
   "source": [
    "random_tensor = torch.rand(3,4)\n",
    "print(zero*random_tensor)"
   ]
  },
  {
   "cell_type": "code",
   "execution_count": 143,
   "metadata": {},
   "outputs": [
    {
     "name": "stdout",
     "output_type": "stream",
     "text": [
      "tensor([[1., 1., 1., 1.],\n",
      "        [1., 1., 1., 1.],\n",
      "        [1., 1., 1., 1.],\n",
      "        [1., 1., 1., 1.]])\n"
     ]
    }
   ],
   "source": [
    "ones = torch.ones(4, 4)\n",
    "print(ones)"
   ]
  },
  {
   "cell_type": "markdown",
   "metadata": {},
   "source": [
    "### Creating a Range of tensors and tensors-like objects"
   ]
  },
  {
   "cell_type": "code",
   "execution_count": 144,
   "metadata": {},
   "outputs": [
    {
     "name": "stdout",
     "output_type": "stream",
     "text": [
      "tensor([ 1.,  2.,  3.,  4.,  5.,  6.,  7.,  8.,  9., 10.])\n",
      "tensor([ 0, 11, 22, 33, 44, 55, 66, 77])\n"
     ]
    },
    {
     "name": "stderr",
     "output_type": "stream",
     "text": [
      "C:\\Users\\DHUSNIC INFANT DM\\AppData\\Local\\Temp\\ipykernel_3500\\3818570455.py:2: UserWarning: torch.range is deprecated and will be removed in a future release because its behavior is inconsistent with Python's range builtin. Instead, use torch.arange, which produces values in [start, end).\n",
      "  one_to_ten = torch.range(1, 10)\n"
     ]
    }
   ],
   "source": [
    "# use torch.range()\n",
    "one_to_ten = torch.range(1, 10)\n",
    "print(one_to_ten)\n",
    "one_to_ten = torch.arange(start= 0, end=78, step=11)\n",
    "print(one_to_ten)"
   ]
  },
  {
   "cell_type": "code",
   "execution_count": 145,
   "metadata": {},
   "outputs": [
    {
     "name": "stdout",
     "output_type": "stream",
     "text": [
      "tensor([0, 0, 0, 0, 0, 0, 0, 0])\n"
     ]
    }
   ],
   "source": [
    "# Creating a tensor like\n",
    "ten_zeros = torch.zeros_like(input=one_to_ten)\n",
    "print(ten_zeros)"
   ]
  },
  {
   "cell_type": "markdown",
   "metadata": {},
   "source": [
    "### Tensor datatypes\n",
    "#### Defnitions\n",
    "\n",
    "There are many different [tensor datatypes available in PyTorch](https://pytorch.org/docs/stable/tensors.html#data-types).\n",
    "\n",
    "Some are specific for CPU and some are better for GPU.\n",
    "\n",
    "Getting to know which one can take some time.\n",
    "\n",
    "Generally if you see `torch.cuda` anywhere, the tensor is being used for GPU (since Nvidia GPUs use a computing toolkit called CUDA).\n",
    "\n",
    "The most common type (and generally the default) is `torch.float32` or `torch.float`.\n",
    "\n",
    "This is referred to as \"32-bit floating point\".\n",
    "\n",
    "But there's also 16-bit floating point (`torch.float16` or `torch.half`) and 64-bit floating point (`torch.float64` or `torch.double`).\n",
    "\n",
    "And to confuse things even more there's also 8-bit, 16-bit, 32-bit and 64-bit integers.\n",
    "\n",
    "Plus more!\n",
    "\n",
    "> **Note:** An integer is a flat round number like `7` whereas a float has a decimal `7.0`.\n",
    "1. **check For the correct datatype**\n",
    "2. **check for the correct shape**\n",
    "3. **check for the correct device**\n",
    "\n",
    "\n",
    "The reason for all of these is to do with **precision in computing**.\n",
    "\n",
    "Precision is the amount of detail used to describe a number.\n",
    "\n",
    "The higher the precision value (8, 16, 32), the more detail and hence data used to express a number.\n",
    "\n",
    "This matters in deep learning and numerical computing because you're making so many operations, the more detail you have to calculate on, the more compute you have to use.\n",
    "\n",
    "So lower precision datatypes are generally faster to compute on but sacrifice some performance on evaluation metrics like accuracy (faster to compute but less accurate).\n",
    "\n",
    "> **Resources:** \n",
    "  * See the [PyTorch documentation for a list of all available tensor datatypes](https://pytorch.org/docs/stable/tensors.html#data-types).\n",
    "  * Read the [Wikipedia page for an overview of what precision in computing](https://en.wikipedia.org/wiki/Precision_(computer_science)) is.\n",
    "\n",
    "Let's see how to create some tensors with specific datatypes. We can do so using the `dtype` parameter."
   ]
  },
  {
   "cell_type": "code",
   "execution_count": 146,
   "metadata": {},
   "outputs": [
    {
     "name": "stdout",
     "output_type": "stream",
     "text": [
      "torch.float32\n",
      "torch.float16\n",
      "torch.float64\n"
     ]
    }
   ],
   "source": [
    "### Float 32 tensor\n",
    "## Important paprameters as dtype, device, and requires_grad\n",
    "float_32_tensor = torch.tensor([1.0, 2.0, 3.0, 4.0],dtype=None)\n",
    "print(float_32_tensor.dtype)\n",
    "float_16_tensor = torch.tensor([1.0, 2.0, 3.0, 4.0],dtype=torch.float16)\n",
    "print(float_16_tensor.dtype)\n",
    "float_64_tensor = torch.tensor([1.0, 2.0, 3.0, 4.0],\n",
    "                               dtype=torch.float64, #What data type is the tensor (e.g. flaoat32, float16, float64, int8, int16, int32, int64, bool)\n",
    "                               device=\"cpu\",        #Where the tensor is stored (e.g. cpu, gpu)\n",
    "                               requires_grad=True   #Whether or not we need to track gradients with this tensor operations (e.g. True, False)\n",
    "                               )\n",
    "\n",
    "print(float_64_tensor.dtype)"
   ]
  },
  {
   "cell_type": "code",
   "execution_count": 147,
   "metadata": {},
   "outputs": [
    {
     "name": "stdout",
     "output_type": "stream",
     "text": [
      "torch.float16\n"
     ]
    }
   ],
   "source": [
    "float_16_tensor = float_64_tensor.type(torch.float16)\n",
    "print(float_16_tensor.dtype)"
   ]
  },
  {
   "cell_type": "code",
   "execution_count": 148,
   "metadata": {},
   "outputs": [
    {
     "name": "stdout",
     "output_type": "stream",
     "text": [
      "torch.float32\n"
     ]
    }
   ],
   "source": [
    "mult = float_16_tensor*float_32_tensor\n",
    "print(mult.dtype)"
   ]
  },
  {
   "cell_type": "code",
   "execution_count": 149,
   "metadata": {},
   "outputs": [
    {
     "name": "stdout",
     "output_type": "stream",
     "text": [
      "tensor([3, 6, 9], dtype=torch.int32)\n",
      "tensor([ 9., 36., 81.]) torch.float32\n"
     ]
    }
   ],
   "source": [
    "int_32_tensor = torch.tensor([3,6,9],dtype=torch.int32)\n",
    "float_32_tensor = torch.tensor([3.0,6.0,9.0],dtype=torch.float32)\n",
    "print(int_32_tensor)\n",
    "mult = int_32_tensor*float_32_tensor\n",
    "print(mult,mult.dtype)"
   ]
  },
  {
   "cell_type": "markdown",
   "metadata": {},
   "source": [
    "### Check for the Information of Tensor\n",
    "1. **check For the correct datatype**\n",
    "2. **check for the correct shape**\n",
    "3. **check for the correct device**"
   ]
  },
  {
   "cell_type": "code",
   "execution_count": 150,
   "metadata": {},
   "outputs": [
    {
     "name": "stdout",
     "output_type": "stream",
     "text": [
      "tensor([[0.7232, 0.5364, 0.8280, 0.8340],\n",
      "        [0.9019, 0.5742, 0.6583, 0.0276],\n",
      "        [0.3037, 0.0159, 0.8371, 0.0493]])\n",
      "Datatype of tensor  :   torch.float32\n",
      "Shape of tensor     :   torch.Size([3, 4])\n",
      "Device tensor is on :   cpu\n"
     ]
    }
   ],
   "source": [
    "# Create a tensor\n",
    "some_tensor = torch.rand(3,4)\n",
    "print(some_tensor)\n",
    "print(f\"Datatype of tensor  :   {some_tensor.dtype}\")\n",
    "print(f\"Shape of tensor     :   {some_tensor.shape}\")\n",
    "print(f\"Device tensor is on :   {some_tensor.device}\")"
   ]
  },
  {
   "cell_type": "markdown",
   "metadata": {},
   "source": [
    "### **Manuipulating Tensors (tensor manipulation)**\n",
    "\n",
    "**Tensors are Operations Including**:\n",
    "- Addtion\n",
    "- Subtraction\n",
    "- Multiplication\n",
    "- Division\n",
    "- Matrix Multiplication"
   ]
  },
  {
   "cell_type": "code",
   "execution_count": 151,
   "metadata": {},
   "outputs": [
    {
     "name": "stdout",
     "output_type": "stream",
     "text": [
      "tensor([1, 2, 3])\n",
      "tensor([11, 12, 13])\n",
      "tensor([-9, -8, -7])\n",
      "tensor([10, 20, 30])\n",
      "tensor([0.1000, 0.2000, 0.3000]) tensor([0, 0, 0])\n"
     ]
    }
   ],
   "source": [
    "# Create a tensor with a single dimension\n",
    "tensor  = torch.tensor([1, 2, 3])\n",
    "print(tensor)\n",
    "\n",
    "# Tesnsor with Addition, Subtraction, Multiplication\n",
    "print(tensor+10) # Add 10 to each element in the tensor\n",
    "# print(torch.add(tensor, 10)) # Add 10 to each element in the tensor\n",
    "print(tensor-10) # Subtract 10 from each element in the tensor\n",
    "# print(torch.sub(tensor, 10)) # Subtract 10 from each element in the tensor\n",
    "print(tensor*10) # Multiply each element in the tensor by 10\n",
    "# print(torch.mul(tensor, 10)) # Multiply each element in the tensor by 10\n",
    "print(tensor/10,tensor//10) # Divide each element in the tensor by 10\n",
    "# print(torch.div(tensor, 10)) # Divide each element in the tensor by 10"
   ]
  },
  {
   "cell_type": "code",
   "execution_count": 152,
   "metadata": {},
   "outputs": [
    {
     "name": "stdout",
     "output_type": "stream",
     "text": [
      "tensor([[1, 2, 3],\n",
      "        [4, 5, 6]]) \n",
      " torch.Size([2, 3]) \n",
      "\n",
      "\n",
      " tensor([[1, 4],\n",
      "        [2, 5],\n",
      "        [3, 6]]) \n",
      " torch.Size([3, 2])\n"
     ]
    }
   ],
   "source": [
    "### Transpose of a tensor\n",
    "Matrix = torch.tensor([[1,2,3],\n",
    "                       [4,5,6],])\n",
    "\n",
    "print(Matrix,\"\\n\",Matrix.shape,\"\\n\")\n",
    "print(\"\\n\",Matrix.T,\"\\n\",Matrix.T.shape)"
   ]
  },
  {
   "cell_type": "code",
   "execution_count": 153,
   "metadata": {},
   "outputs": [
    {
     "name": "stdout",
     "output_type": "stream",
     "text": [
      "tensor(14)\n",
      "CPU times: total: 0 ns\n",
      "Wall time: 1.15 ms\n"
     ]
    }
   ],
   "source": [
    "%%time\n",
    "tensor=torch.tensor([1,2,3])\n",
    "print(tensor @ tensor)"
   ]
  },
  {
   "cell_type": "code",
   "execution_count": 154,
   "metadata": {},
   "outputs": [
    {
     "name": "stdout",
     "output_type": "stream",
     "text": [
      "X   :   tensor([[0.7498, 0.4429, 0.3368]]) \n",
      "\n",
      "Y   :  tensor([[0.1369],\n",
      "        [0.4761],\n",
      "        [0.2995]]) \n",
      "\n",
      "X * X.T   :   tensor([[0.8717]]) torch.Size([1, 3]) \n",
      "\n",
      "Y * Y.T   :   tensor([[0.0187, 0.0652, 0.0410],\n",
      "        [0.0652, 0.2266, 0.1426],\n",
      "        [0.0410, 0.1426, 0.0897]]) torch.Size([3, 1]) \n",
      "\n",
      "X * Y   :   tensor([[0.4143]]) \n",
      "\n"
     ]
    }
   ],
   "source": [
    "# Tensor of Matrix Multiplication\n",
    "X = torch.rand(1,3)\n",
    "print(f\"X   :   {X}\",\"\\n\")\n",
    "Y = torch.rand(3, 1)\n",
    "print(f\"Y   :  {Y}\",\"\\n\")\n",
    "print(f\"X * X.T   :   {torch.matmul(X,X.T)}\",X.shape,\"\\n\") # Matrix Multiplication\n",
    "print(f\"Y * Y.T   :   {torch.matmul(Y,Y.T)}\",Y.shape,\"\\n\") # Matrix Multiplication\n",
    "print(f\"X * Y   :   {X.mm(Y)}\",\"\\n\") # Matrix Multiplication\n",
    "# print(f\"X * Y   :   {torch.mm(X, Y)}\",\"\\n\") # Matrix Multiplication\n",
    "# print(f\"X * Y   :   {X @ Y}\",\"\\n\") # Matrix Multiplication"
   ]
  },
  {
   "cell_type": "markdown",
   "metadata": {},
   "source": [
    "### One of the most Common errors in deep learning is the \"Shape Mismatch\" error."
   ]
  },
  {
   "cell_type": "code",
   "execution_count": 155,
   "metadata": {},
   "outputs": [
    {
     "name": "stdout",
     "output_type": "stream",
     "text": [
      "torch.Size([3, 2]) torch.Size([3, 2]) \n",
      "\n",
      "mat1 and mat2 shapes cannot be multiplied (3x2 and 3x2)\n",
      "tensor_A @ tensor_B.T :   \n",
      " tensor([[ 27,  30,  33],\n",
      "        [ 61,  68,  75],\n",
      "        [ 95, 106, 117]])\n"
     ]
    }
   ],
   "source": [
    "### Shapes for Matrix Multiplication\n",
    "tensor_A  = torch.tensor([[1,2],\n",
    "                          [3,4],\n",
    "                          [5,6]])\n",
    "tensor_B  = torch.tensor([[7,10],\n",
    "                          [8,11],\n",
    "                          [9,12]])\n",
    "print(tensor_A.shape, tensor_B.shape,\"\\n\")\n",
    "try:\n",
    "    print(f\"tensor_A @ tensor_B :  \",\"\\n\",tensor_A @ tensor_B)\n",
    "except Exception as e:\n",
    "    print(e)\n",
    "    print(f\"tensor_A @ tensor_B.T :  \",\"\\n\",tensor_A @ tensor_B.T)"
   ]
  },
  {
   "cell_type": "markdown",
   "metadata": {},
   "source": [
    "### Finding the Aggregation of Tensors\n",
    "- Min\n",
    "- Max\n",
    "- Mean\n",
    "- Sum"
   ]
  },
  {
   "cell_type": "code",
   "execution_count": 163,
   "metadata": {},
   "outputs": [
    {
     "name": "stdout",
     "output_type": "stream",
     "text": [
      "tensor([ 0, 10, 20, 30, 40, 50, 60, 70, 80, 90]) torch.Size([10])\n",
      "Min of tesnsor: 0\n",
      "Max of tesnsor: 90\n",
      "Sum of tesnsor: 450\n",
      "mean(): could not infer output dtype. Input dtype must be either a floating point or complex dtype. Got: Long \n",
      " But its  torch.int64 \n",
      "\n",
      "Mean of tesnsor: 45.0\n"
     ]
    }
   ],
   "source": [
    "tensor = torch.arange(0,100,10)\n",
    "print(tensor , tensor.shape)\n",
    "print(f\"Min of tesnsor: {tensor.min()}\")\n",
    "print(f\"Max of tesnsor: {tensor.max()}\")\n",
    "print(f\"Sum of tesnsor: {tensor.sum()}\")\n",
    "try:\n",
    "    print(f\"Mean of tesnsor: {tensor.mean()}\")\n",
    "except Exception as e:\n",
    "    print(e,\"\\n But its \",tensor.dtype,\"\\n\")\n",
    "    tensor = tensor.type(torch.float32)\n",
    "    print(f\"Mean of tesnsor: {tensor.mean()}\")"
   ]
  },
  {
   "cell_type": "markdown",
   "metadata": {},
   "source": [
    "### Finding the Positional Min and Max of a Tensor\n",
    "- Find the position of the maximum and minimum values in a tensor"
   ]
  },
  {
   "cell_type": "code",
   "execution_count": 168,
   "metadata": {},
   "outputs": [
    {
     "name": "stdout",
     "output_type": "stream",
     "text": [
      "tensor([[92, 45, 89,  4, 55, 18, 73, 67, 94, 88]])\n",
      "Position or Index of the Element which has Minimum Value :  3\n",
      "Position or Index of the Element which has Maximum Value :  8\n"
     ]
    }
   ],
   "source": [
    "tensor = torch.randint(1, 100,(1,10))\n",
    "print(tensor)\n",
    "print(f\"Position or Index of the Element which has Minimum Value :  {tensor.argmin()}\")\n",
    "print(f\"Position or Index of the Element which has Maximum Value :  {tensor.argmax()}\")\n"
   ]
  },
  {
   "cell_type": "markdown",
   "metadata": {},
   "source": [
    "### Reshaping, Stacking, Squeezing and Unsqueezing tensors\n",
    "* `Reshaping` - Changing the shape of the tensor to desired shape\n",
    "\n",
    "* `View` - Viewing the tensor as a new shape but keep the same memory as the original tensor\n",
    "\n",
    "* `Stacking` - Combining multiple tensors on top of each other (vstack) or side by side (hstack) or depth wise (dstack)\n",
    "\n",
    "* `Squeezing` - Removing all 1 dimensions from a tensor\n",
    "\n",
    "* `Unsqueezing` - Adding an extra dimension to a tensor\n",
    "\n",
    "* `Permute` - Return a view of the original tensor with its dimensions permuted (swapped) in a certain way"
   ]
  },
  {
   "cell_type": "code",
   "execution_count": 176,
   "metadata": {},
   "outputs": [
    {
     "name": "stdout",
     "output_type": "stream",
     "text": [
      "tensor([  1,  11,  21,  31,  41,  51,  61,  71,  81,  91, 101, 111, 121, 131,\n",
      "        141, 151, 161, 171, 181, 191]) \n",
      " torch.Size([20])\n"
     ]
    }
   ],
   "source": [
    "# Creation of a tensor\n",
    "tensor = torch.arange(1,200,10)\n",
    "print(tensor,\"\\n\",tensor.shape)\n"
   ]
  },
  {
   "cell_type": "code",
   "execution_count": 182,
   "metadata": {},
   "outputs": [
    {
     "name": "stdout",
     "output_type": "stream",
     "text": [
      "tensor([[  1,  11,  21,  31,  41,  51,  61,  71,  81,  91],\n",
      "        [101, 111, 121, 131, 141, 151, 161, 171, 181, 191]]) \n",
      " torch.Size([2, 10])\n",
      "tensor([  1,  11,  21,  31,  41,  51,  61,  71,  81,  91, 101, 111, 121, 131,\n",
      "        141, 151, 161, 171, 181, 191]) \n",
      " torch.Size([20]) \n",
      "\n",
      "tensor([  1,  11,  21,  31,  41,  51,  61,  71,  81,  91, 101, 111, 121, 131,\n",
      "        141, 151, 161, 171, 181, 191]) \n",
      " torch.Size([20]) \n",
      "\n"
     ]
    }
   ],
   "source": [
    "# Reshape the input data\n",
    "tensor_input_reshaped = torch.reshape(tensor, (2,10))\n",
    "print(tensor_input_reshaped, \"\\n\", tensor_input_reshaped.shape)\n",
    "print(tensor, \"\\n\", tensor.shape,\"\\n\")\n",
    "tensor.reshape(2,10)\n",
    "print(tensor, \"\\n\", tensor.shape,\"\\n\")"
   ]
  },
  {
   "cell_type": "code",
   "execution_count": 185,
   "metadata": {},
   "outputs": [
    {
     "name": "stdout",
     "output_type": "stream",
     "text": [
      "tensor([[  1,  11,  21,  31,  41,  51,  61,  71,  81,  91],\n",
      "        [101, 111, 121, 131, 141, 151, 161, 171, 181, 191]]) \n",
      " torch.Size([2, 10])\n"
     ]
    }
   ],
   "source": [
    "#Change the View\n",
    "View=tensor.view(2,10)\n",
    "print(View,\"\\n\",View.shape)"
   ]
  },
  {
   "cell_type": "code",
   "execution_count": 192,
   "metadata": {},
   "outputs": [
    {
     "name": "stdout",
     "output_type": "stream",
     "text": [
      "tensor([[  1,  11,  21,  31,  41,  51,  61,  71,  81,  91, 101, 111, 121, 131,\n",
      "         141, 151, 161, 171, 181, 191],\n",
      "        [  1,  11,  21,  31,  41,  51,  61,  71,  81,  91, 101, 111, 121, 131,\n",
      "         141, 151, 161, 171, 181, 191],\n",
      "        [  1,  11,  21,  31,  41,  51,  61,  71,  81,  91, 101, 111, 121, 131,\n",
      "         141, 151, 161, 171, 181, 191]]) \n",
      " torch.Size([3, 20])\n",
      "tensor([[  1,   1,   1],\n",
      "        [ 11,  11,  11],\n",
      "        [ 21,  21,  21],\n",
      "        [ 31,  31,  31],\n",
      "        [ 41,  41,  41],\n",
      "        [ 51,  51,  51],\n",
      "        [ 61,  61,  61],\n",
      "        [ 71,  71,  71],\n",
      "        [ 81,  81,  81],\n",
      "        [ 91,  91,  91],\n",
      "        [101, 101, 101],\n",
      "        [111, 111, 111],\n",
      "        [121, 121, 121],\n",
      "        [131, 131, 131],\n",
      "        [141, 141, 141],\n",
      "        [151, 151, 151],\n",
      "        [161, 161, 161],\n",
      "        [171, 171, 171],\n",
      "        [181, 181, 181],\n",
      "        [191, 191, 191]]) \n",
      " torch.Size([20, 3])\n",
      "Dimension out of range (expected to be in range of [-2, 1], but got 2)\n"
     ]
    }
   ],
   "source": [
    "### Stack tensors on top of each other, and create a new tensor of size 3x4\n",
    "# vstack=torch.vstack([tensor, tensor, tensor])\n",
    "vstack=torch.stack([tensor, tensor, tensor], dim=0)\n",
    "print(vstack, '\\n', vstack.shape)\n",
    "# vstack=torch.hstack([tensor, tensor, tensor])\n",
    "hstack=torch.stack([tensor, tensor, tensor], dim=1)\n",
    "print(hstack, '\\n', hstack.shape)\n",
    "try:\n",
    "    # vstack=torch.dstack([tensor, tensor, tensor])\n",
    "    dstack=torch.stack([tensor, tensor, tensor], dim=2)\n",
    "    print(dstack, '\\n', dstack.shape)\n",
    "except Exception as e:\n",
    "    print(e)"
   ]
  }
 ],
 "metadata": {
  "kernelspec": {
   "display_name": ".venv",
   "language": "python",
   "name": "python3"
  },
  "language_info": {
   "codemirror_mode": {
    "name": "ipython",
    "version": 3
   },
   "file_extension": ".py",
   "mimetype": "text/x-python",
   "name": "python",
   "nbconvert_exporter": "python",
   "pygments_lexer": "ipython3",
   "version": "3.13.1"
  }
 },
 "nbformat": 4,
 "nbformat_minor": 2
}
