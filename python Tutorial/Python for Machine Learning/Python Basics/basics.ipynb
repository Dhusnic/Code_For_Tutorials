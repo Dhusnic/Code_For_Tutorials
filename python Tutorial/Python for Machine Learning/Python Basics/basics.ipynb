{
 "cells": [
  {
   "cell_type": "markdown",
   "metadata": {},
   "source": [
    "# Python Fundamentals: Detailed Explanation\n",
    "\n",
    "This notebook provides an in-depth explanation of variables, data types, loops, conditional statements, functions, and scope in Python with examples."
   ]
  },
  {
   "cell_type": "markdown",
   "metadata": {},
   "source": [
    "## Variables and Data Types\n",
    "\n",
    "### Variables\n",
    "- **Definition**: Variables are containers for storing data values.\n",
    "- **Dynamic Typing**: Python is dynamically typed, meaning you don't need to declare the type of a variable.\n",
    "\n",
    "#### Examples:\n",
    "```python\n",
    "# Assigning values to variables\n",
    "x = 10          # Integer\n",
    "name = 'Alice'  # String\n",
    "pi = 3.14       # Float\n",
    "is_valid = True # Boolean\n",
    "\n",
    "# Printing variables\n",
    "print(x, name, pi, is_valid)\n",
    "```"
   ]
  },
  {
   "cell_type": "code",
   "execution_count": null,
   "id": "0b2c8bc3",
   "metadata": {},
   "outputs": [],
   "source": [
    "# Example: Variables\n",
    "x = 10\n",
    "name = 'Alice'\n",
    "pi = 3.14\n",
    "is_valid = True\n",
    "\n",
    "print('Integer:', x)\n",
    "print('String:', name)\n",
    "print('Float:', pi)\n",
    "print('Boolean:', is_valid)"
   ]
  },
  {
   "cell_type": "markdown",
   "id": "51cd813f",
   "metadata": {},
   "source": [
    "### Data Types\n",
    "Python supports several built-in data types:\n",
    "1. **Numeric Types**: `int`, `float`, `complex`\n",
    "2. **Sequence Types**: `list`, `tuple`, `range`\n",
    "3. **Text Type**: `str`\n",
    "4. **Mapping Type**: `dict`\n",
    "5. **Set Types**: `set`, `frozenset`\n",
    "6. **Boolean Type**: `bool`\n",
    "\n",
    "#### Examples:\n",
    "```python\n",
    "# Numeric types\n",
    "a = 10\n",
    "b = 3.14\n",
    "c = 1 + 2j\n",
    "\n",
    "# Sequence types\n",
    "my_list = [1, 2, 3]\n",
    "my_tuple = (4, 5, 6)\n",
    "\n",
    "# Text type\n",
    "text = 'Hello, World!'\n",
    "\n",
    "# Mapping type\n",
    "my_dict = {'key1': 'value1', 'key2': 'value2'}\n",
    "\n",
    "# Set types\n",
    "my_set = {1, 2, 3}\n",
    "\n",
    "# Boolean type\n",
    "flag = True\n",
    "```"
   ]
  },
  {
   "cell_type": "code",
   "execution_count": null,
   "id": "e12c44a3",
   "metadata": {},
   "outputs": [],
   "source": [
    "# Example: Data Types\n",
    "a = 10\n",
    "b = 3.14\n",
    "c = 1 + 2j\n",
    "my_list = [1, 2, 3]\n",
    "my_tuple = (4, 5, 6)\n",
    "text = 'Hello, World!'\n",
    "my_dict = {'key1': 'value1', 'key2': 'value2'}\n",
    "my_set = {1, 2, 3}\n",
    "flag = True\n",
    "\n",
    "print('Integer:', a)\n",
    "print('Float:', b)\n",
    "print('Complex:', c)\n",
    "print('List:', my_list)\n",
    "print('Tuple:', my_tuple)\n",
    "print('String:', text)\n",
    "print('Dictionary:', my_dict)\n",
    "print('Set:', my_set)\n",
    "print('Boolean:', flag)"
   ]
  },
  {
   "cell_type": "markdown",
   "id": "7908fedd",
   "metadata": {},
   "source": [
    "## Loops\n",
    "### For Loop\n",
    "Used to iterate over a sequence.\n",
    "#### Example:\n",
    "```python\n",
    "# Looping through a list\n",
    "for item in [1, 2, 3]:\n",
    "    print(item)\n",
    "\n",
    "# Looping through a range\n",
    "for i in range(5):\n",
    "    print(i)\n",
    "```"
   ]
  },
  {
   "cell_type": "code",
   "execution_count": null,
   "id": "e1f6c47e",
   "metadata": {},
   "outputs": [],
   "source": [
    "# Example: For Loop\n",
    "for item in [1, 2, 3]:\n",
    "    print('List item:', item)\n",
    "\n",
    "for i in range(5):\n",
    "    print('Range item:', i)"
   ]
  },
  {
   "cell_type": "markdown",
   "id": "f983f4d3",
   "metadata": {},
   "source": [
    "### While Loop\n",
    "Executes as long as the condition is true.\n",
    "#### Example:\n",
    "```python\n",
    "# Using a while loop\n",
    "count = 0\n",
    "while count < 3:\n",
    "    print(count)\n",
    "    count += 1\n",
    "```"
   ]
  },
  {
   "cell_type": "code",
   "execution_count": null,
   "id": "18ba2412",
   "metadata": {},
   "outputs": [],
   "source": [
    "# Example: While Loop\n",
    "count = 0\n",
    "while count < 3:\n",
    "    print('Count:', count)\n",
    "    count += 1"
   ]
  },
  {
   "cell_type": "markdown",
   "id": "60ebec04",
   "metadata": {},
   "source": [
    "## Conditional Statements\n",
    "Used to execute different code based on conditions.\n",
    "#### Example:\n",
    "```python\n",
    "x = 10\n",
    "if x > 5:\n",
    "    print('x is greater than 5')\n",
    "elif x == 5:\n",
    "    print('x is equal to 5')\n",
    "else:\n",
    "    print('x is less than 5')\n",
    "```"
   ]
  },
  {
   "cell_type": "code",
   "execution_count": null,
   "id": "c00b87a6",
   "metadata": {},
   "outputs": [],
   "source": [
    "# Example: Conditional Statements\n",
    "x = 10\n",
    "if x > 5:\n",
    "    print('x is greater than 5')\n",
    "elif x == 5:\n",
    "    print('x is equal to 5')\n",
    "else:\n",
    "    print('x is less than 5')"
   ]
  },
  {
   "cell_type": "markdown",
   "id": "4c54a54b",
   "metadata": {},
   "source": [
    "## Functions and Scope\n",
    "### Functions\n",
    "Functions are reusable blocks of code.\n",
    "#### Example:\n",
    "```python\n",
    "def greet(name):\n",
    "    return f'Hello, {name}'\n",
    "\n",
    "print(greet('Alice'))\n",
    "```"
   ]
  },
  {
   "cell_type": "code",
   "execution_count": null,
   "id": "feb48349",
   "metadata": {},
   "outputs": [],
   "source": [
    "# Example: Functions\n",
    "def greet(name):\n",
    "    return f'Hello, {name}'\n",
    "\n",
    "print(greet('Alice'))"
   ]
  },
  {
   "cell_type": "markdown",
   "id": "7fcf5199",
   "metadata": {},
   "source": [
    "### Scope\n",
    "Scope determines the visibility of variables.\n",
    "\n",
    "#### Global vs Local Scope\n",
    "- **Global Scope**: Variables declared outside any function are accessible globally.\n",
    "- **Local Scope**: Variables declared within a function are accessible only inside that function.\n",
    "\n",
    "#### Examples:\n",
    "```python\n",
    "# Global scope\n",
    "x = 10\n",
    "\n",
    "def display():\n",
    "    # Local scope\n",
    "    y = 5\n",
    "    print('Local y:', y)\n",
    "\n",
    "display()\n",
    "print('Global x:', x)\n",
    "```\n",
    "\n",
    "#### Nonlocal Keyword\n",
    "- Used to work with variables inside nested functions, allowing modification of variables in the parent function's scope.\n",
    "\n",
    "#### Example:\n",
    "```python\n",
    "def outer():\n",
    "    x = 'outer variable'\n",
    "\n",
    "    def inner():\n",
    "        nonlocal x\n",
    "        x = 'modified by inner'\n",
    "        print('Inner x:', x)\n",
    "\n",
    "    inner()\n",
    "    print('Outer x:', x)\n",
    "\n",
    "outer()\n",
    "```"
   ]
  },
  {
   "cell_type": "code",
   "execution_count": null,
   "id": "8a5e46f2",
   "metadata": {},
   "outputs": [],
   "source": [
    "# Example: Scope\n",
    "# Global scope\n",
    "x = 10\n",
    "\n",
    "def display():\n",
    "    # Local scope\n",
    "    y = 5\n",
    "    print('Local y:', y)\n",
    "\n",
    "display()\n",
    "print('Global x:', x)"
   ]
  },
  {
   "cell_type": "code",
   "execution_count": null,
   "id": "966a600a",
   "metadata": {},
   "outputs": [],
   "source": [
    "# Example: Nonlocal Keyword\n",
    "def outer():\n",
    "    x = 'outer variable'\n",
    "\n",
    "    def inner():\n",
    "        nonlocal x\n",
    "        x = 'modified by inner'\n",
    "        print('Inner x:', x)\n",
    "\n",
    "    inner()\n",
    "    print('Outer x:', x)\n",
    "\n",
    "outer()"
   ]
  }
 ],
 "metadata": {
  "kernelspec": {
   "display_name": "Python 3",
   "language": "python",
   "name": "python3"
  },
  "language_info": {
   "name": "python",
   "version": "3.13.1"
  }
 },
 "nbformat": 4,
 "nbformat_minor": 2
}
