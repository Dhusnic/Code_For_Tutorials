{
 "cells": [
  {
   "cell_type": "markdown",
   "metadata": {},
   "source": [
    "## Arrays, Lists, Tuples, and Sets\n",
    "\n",
    "### Arrays\n",
    "Python does not have a built-in array data structure like in some other programming languages. However, you can use the `array` module to work with arrays in Python. Here's an example:"
   ]
  },
  {
   "cell_type": "code",
   "execution_count": 32,
   "metadata": {},
   "outputs": [
    {
     "name": "stdout",
     "output_type": "stream",
     "text": [
      "1\n",
      "5\n",
      "array('i', [1, 2, 3, 4, 5, 6])\n"
     ]
    }
   ],
   "source": [
    "import array\n",
    "\n",
    "# Create an integer array\n",
    "int_array = array.array('i', [1, 2, 3, 4, 5])\n",
    "\n",
    "# Access elements\n",
    "print(int_array[0])  # Output: 1\n",
    "print(int_array[-1]) # Output: 5\n",
    "\n",
    "# Add an element\n",
    "int_array.append(6)\n",
    "print(int_array)     # Output: array('i', [1, 2, 3, 4, 5, 6])"
   ]
  },
  {
   "cell_type": "markdown",
   "metadata": {},
   "source": [
    "### Lists\n",
    "Lists are the most common and versatile data structure in Python. They are ordered collections of items, and can contain items of different data types. Here's an example:\n"
   ]
  },
  {
   "cell_type": "code",
   "execution_count": 33,
   "metadata": {},
   "outputs": [
    {
     "name": "stdout",
     "output_type": "stream",
     "text": [
      "1\n",
      "True\n",
      "[1, 'hello', 3.14, True, 42]\n"
     ]
    }
   ],
   "source": [
    "my_list = [1, 'hello', 3.14, True]\n",
    "\n",
    "# Access elements\n",
    "print(my_list[0])  # Output: 1\n",
    "print(my_list[-1]) # Output: True\n",
    "\n",
    "# Add an element\n",
    "my_list.append(42)\n",
    "print(my_list)     # Output: [1, 'hello', 3.14, True, 42]"
   ]
  },
  {
   "cell_type": "markdown",
   "metadata": {},
   "source": [
    "### Tuples\n",
    "Tuples are similar to lists, but they are immutable, meaning you cannot modify them after they are created. Tuples are defined using parentheses `()` instead of square brackets `[]`. Here's an example:"
   ]
  },
  {
   "cell_type": "code",
   "execution_count": 34,
   "metadata": {},
   "outputs": [
    {
     "name": "stdout",
     "output_type": "stream",
     "text": [
      "1\n",
      "3.14\n"
     ]
    }
   ],
   "source": [
    "my_tuple = (1, 'hello', 3.14)\n",
    "\n",
    "# Access elements\n",
    "print(my_tuple[0])  # Output: 1\n",
    "print(my_tuple[-1]) # Output: 3.14"
   ]
  },
  {
   "cell_type": "markdown",
   "metadata": {},
   "source": [
    "# Tuples are immutable, so you can't add or remove elements\n",
    "\n",
    "### Sets\n",
    "Sets are unordered collections of unique elements. They are useful for removing duplicates from a list or checking set membership. Here's an example:"
   ]
  },
  {
   "cell_type": "code",
   "execution_count": 35,
   "metadata": {},
   "outputs": [
    {
     "name": "stdout",
     "output_type": "stream",
     "text": [
      "{1, 2, 3, 4}\n",
      "{1, 2, 3, 4, 5}\n",
      "True\n",
      "False\n"
     ]
    }
   ],
   "source": [
    "my_set = {1, 2, 3, 2, 4}\n",
    "print(my_set)  # Output: {1, 2, 3, 4}\n",
    "\n",
    "# Add an element\n",
    "my_set.add(5)\n",
    "print(my_set)  # Output: {1, 2, 3, 4, 5}\n",
    "\n",
    "# Check membership\n",
    "print(3 in my_set)  # Output: True\n",
    "print(6 in my_set)  # Output: False"
   ]
  },
  {
   "cell_type": "markdown",
   "metadata": {},
   "source": [
    "## Stacks and Queues\n",
    "\n",
    "### Stacks\n",
    "Stacks are a Last-In-First-Out (LIFO) data structure. You can use lists to implement stacks in Python:"
   ]
  },
  {
   "cell_type": "code",
   "execution_count": 36,
   "metadata": {},
   "outputs": [
    {
     "name": "stdout",
     "output_type": "stream",
     "text": [
      "[1, 2, 3]\n",
      "3\n",
      "[1, 2]\n"
     ]
    }
   ],
   "source": [
    "stack = []\n",
    "\n",
    "# Push an element\n",
    "stack.append(1)\n",
    "stack.append(2)\n",
    "stack.append(3)\n",
    "print(stack)  # Output: [1, 2, 3]\n",
    "\n",
    "# Pop an element\n",
    "print(stack.pop())  # Output: 3\n",
    "print(stack)       # Output: [1, 2]"
   ]
  },
  {
   "cell_type": "markdown",
   "metadata": {},
   "source": [
    "### Queues\n",
    "Queues are a First-In-First-Out (FIFO) data structure. You can use the `collections.deque` module to implement queues in Python:\n",
    "\n",
    "from collections import deque"
   ]
  },
  {
   "cell_type": "code",
   "execution_count": 37,
   "metadata": {},
   "outputs": [
    {
     "name": "stdout",
     "output_type": "stream",
     "text": [
      "deque([1, 2, 3])\n",
      "1\n",
      "deque([2, 3])\n"
     ]
    }
   ],
   "source": [
    "from collections import deque\n",
    "queue = deque()\n",
    "\n",
    "# Enqueue an element\n",
    "queue.append(1)\n",
    "queue.append(2)\n",
    "queue.append(3)\n",
    "print(queue)  # Output: deque([1, 2, 3])\n",
    "\n",
    "# Dequeue an element\n",
    "print(queue.popleft())  # Output: 1\n",
    "print(queue)           # Output: deque([2, 3])\n"
   ]
  },
  {
   "cell_type": "markdown",
   "metadata": {},
   "source": [
    "## Dictionaries\n",
    "Dictionaries are unordered collections of key-value pairs. They are commonly used to store and retrieve data efficiently. Here's an example:"
   ]
  },
  {
   "cell_type": "code",
   "execution_count": 38,
   "metadata": {},
   "outputs": [
    {
     "name": "stdout",
     "output_type": "stream",
     "text": [
      "John\n",
      "30\n",
      "{'name': 'John', 'age': 30, 'city': 'New York', 'email': 'john@example.com'}\n"
     ]
    }
   ],
   "source": [
    "my_dict = {'name': 'John', 'age': 30, 'city': 'New York'}\n",
    "\n",
    "# Access values\n",
    "print(my_dict['name'])  # Output: 'John'\n",
    "print(my_dict['age'])   # Output: 30\n",
    "\n",
    "# Add a new key-value pair\n",
    "my_dict['email'] = 'john@example.com'\n",
    "print(my_dict)         # Output: {'name': 'John', 'age': 30, 'city': 'New York', 'email': 'john@example.com'}"
   ]
  },
  {
   "cell_type": "markdown",
   "metadata": {},
   "source": [
    "## Comprehensions and Generator Expressions\n",
    "\n",
    "### List Comprehensions\n",
    "List comprehensions provide a concise way to create lists:"
   ]
  },
  {
   "cell_type": "code",
   "execution_count": 39,
   "metadata": {},
   "outputs": [
    {
     "name": "stdout",
     "output_type": "stream",
     "text": [
      "[0, 1, 4, 9, 16]\n",
      "[0, 2, 4, 6, 8]\n"
     ]
    }
   ],
   "source": [
    "# Create a list of squares\n",
    "squares = [x**2 for x in range(5)]\n",
    "print(squares)  # Output: [0, 1, 4, 9, 16]\n",
    "\n",
    "# Create a list of even numbers\n",
    "even_nums = [x for x in range(10) if x % 2 == 0]\n",
    "print(even_nums)  # Output: [0, 2, 4, 6, 8]"
   ]
  },
  {
   "cell_type": "markdown",
   "metadata": {},
   "source": [
    "### Dictionary Comprehensions\n",
    "Dictionary comprehensions work similarly to list comprehensions, but create dictionaries:"
   ]
  },
  {
   "cell_type": "code",
   "execution_count": 40,
   "metadata": {},
   "outputs": [
    {
     "name": "stdout",
     "output_type": "stream",
     "text": [
      "{0: 0, 1: 1, 2: 4, 3: 9, 4: 16}\n"
     ]
    }
   ],
   "source": [
    "# Create a dictionary of squares\n",
    "squares_dict = {x: x**2 for x in range(5)}\n",
    "print(squares_dict)  # Output: {0: 0, 1: 1, 2: 4, 3: 9, 4: 16}"
   ]
  },
  {
   "cell_type": "markdown",
   "metadata": {},
   "source": [
    "### Generator Expressions\n",
    "Generator expressions are similar to list comprehensions, but they generate values on the fly instead of creating a whole list. This can be more memory-efficient for large data sets."
   ]
  },
  {
   "cell_type": "code",
   "execution_count": 41,
   "metadata": {},
   "outputs": [
    {
     "name": "stdout",
     "output_type": "stream",
     "text": [
      "0\n",
      "1\n"
     ]
    }
   ],
   "source": [
    "# Create a generator expression\n",
    "squares_gen = (x**2 for x in range(1000000))\n",
    "\n",
    "# Use the generator expression\n",
    "print(next(squares_gen))  # Output: 1\n",
    "print(next(squares_gen))  # Output: 4"
   ]
  }
 ],
 "metadata": {
  "kernelspec": {
   "display_name": ".venv",
   "language": "python",
   "name": "python3"
  },
  "language_info": {
   "codemirror_mode": {
    "name": "ipython",
    "version": 3
   },
   "file_extension": ".py",
   "mimetype": "text/x-python",
   "name": "python",
   "nbconvert_exporter": "python",
   "pygments_lexer": "ipython3",
   "version": "3.13.1"
  }
 },
 "nbformat": 4,
 "nbformat_minor": 2
}
