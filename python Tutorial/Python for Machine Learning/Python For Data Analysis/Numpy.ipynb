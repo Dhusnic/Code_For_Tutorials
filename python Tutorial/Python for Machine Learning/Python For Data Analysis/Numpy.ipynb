{
 "cells": [
  {
   "cell_type": "code",
   "execution_count": 1,
   "metadata": {},
   "outputs": [
    {
     "name": "stdout",
     "output_type": "stream",
     "text": [
      "[1 2 3 4 5]\n",
      "(5,)\n"
     ]
    },
    {
     "data": {
      "text/plain": [
       "numpy.ndarray"
      ]
     },
     "execution_count": 1,
     "metadata": {},
     "output_type": "execute_result"
    }
   ],
   "source": [
    "import numpy as np\n",
    "arr=np.array([1,2,3,4,5])\n",
    "print(arr)\n",
    "print(arr.shape)\n",
    "type(arr)"
   ]
  },
  {
   "cell_type": "code",
   "execution_count": 2,
   "metadata": {},
   "outputs": [
    {
     "ename": "ValueError",
     "evalue": "cannot reshape array of size 5 into shape (1,4)",
     "output_type": "error",
     "traceback": [
      "\u001b[1;31m---------------------------------------------------------------------------\u001b[0m",
      "\u001b[1;31mValueError\u001b[0m                                Traceback (most recent call last)",
      "Cell \u001b[1;32mIn[2], line 1\u001b[0m\n\u001b[1;32m----> 1\u001b[0m \u001b[43marr\u001b[49m\u001b[38;5;241;43m.\u001b[39;49m\u001b[43mreshape\u001b[49m\u001b[43m(\u001b[49m\u001b[43m(\u001b[49m\u001b[38;5;241;43m1\u001b[39;49m\u001b[43m,\u001b[49m\u001b[38;5;241;43m4\u001b[39;49m\u001b[43m)\u001b[49m\u001b[43m)\u001b[49m\n",
      "\u001b[1;31mValueError\u001b[0m: cannot reshape array of size 5 into shape (1,4)"
     ]
    }
   ],
   "source": [
    "arr.reshape((1,4))"
   ]
  },
  {
   "cell_type": "code",
   "execution_count": 13,
   "metadata": {},
   "outputs": [
    {
     "name": "stdout",
     "output_type": "stream",
     "text": [
      "[[1 2 3 4 5]]\n",
      "(1, 5)\n"
     ]
    }
   ],
   "source": [
    "arr_2d=arr.reshape((1,5))\n",
    "print(arr_2d) ## converted to 2D array\n",
    "print(arr_2d.shape)"
   ]
  },
  {
   "cell_type": "code",
   "execution_count": null,
   "metadata": {},
   "outputs": [
    {
     "name": "stdout",
     "output_type": "stream",
     "text": [
      "[[ 1  2  3  4  5]\n",
      " [ 6  7  8  9 10]]\n",
      "(2, 5)\n"
     ]
    }
   ],
   "source": [
    "arr_2d=np.array([[1,2,3,4,5],[6,7,8,9,10]])\n",
    "print(arr_2d)\n",
    "print(arr_2d.shape)"
   ]
  },
  {
   "cell_type": "code",
   "execution_count": null,
   "metadata": {},
   "outputs": [
    {
     "name": "stdout",
     "output_type": "stream",
     "text": [
      "[0 1 2 3 4 5 6 7 8 9]\n",
      "[0 2 4 6 8]\n",
      "(5,)\n",
      "[[0]\n",
      " [2]\n",
      " [4]\n",
      " [6]\n",
      " [8]]\n",
      "(5, 1)\n"
     ]
    }
   ],
   "source": [
    "#\n",
    "arr=np.arange(0,10,1)\n",
    "print(arr)\n",
    "arr=np.arange(0,10,2)\n",
    "print(arr)\n",
    "print(arr.shape)\n",
    "print(arr.reshape(5,1))\n",
    "print(arr.reshape(5,1).shape)\n"
   ]
  },
  {
   "cell_type": "code",
   "execution_count": null,
   "metadata": {},
   "outputs": [
    {
     "name": "stdout",
     "output_type": "stream",
     "text": [
      "[[1. 1. 1. 1.]\n",
      " [1. 1. 1. 1.]\n",
      " [1. 1. 1. 1.]]\n",
      "(3, 4)\n"
     ]
    }
   ],
   "source": [
    "arr=np.ones((3,4))\n",
    "print(arr)\n",
    "print(arr.shape)"
   ]
  },
  {
   "cell_type": "code",
   "execution_count": null,
   "metadata": {},
   "outputs": [
    {
     "name": "stdout",
     "output_type": "stream",
     "text": [
      "[[1. 0. 0.]\n",
      " [0. 1. 0.]\n",
      " [0. 0. 1.]]\n",
      "(3, 3)\n"
     ]
    }
   ],
   "source": [
    "## Indentity Matrix\n",
    "arr=np.eye(3)\n",
    "print(arr)\n",
    "print(arr.shape)"
   ]
  },
  {
   "cell_type": "code",
   "execution_count": null,
   "metadata": {},
   "outputs": [
    {
     "name": "stdout",
     "output_type": "stream",
     "text": [
      "[[1 2 3]\n",
      " [4 5 6]]\n",
      "(2, 3)\n",
      "Array: \n",
      " [[1 2 3]\n",
      " [4 5 6]]\n",
      "Shape: (2, 3)\n",
      "Number of dimensions: 2\n",
      "Size (number of elements): 6\n",
      "Data type: int64\n",
      "Item size (in bytes): 8\n"
     ]
    }
   ],
   "source": [
    "#Attributes of Numpy\n",
    "arr = np. array([[1, 2, 3], [4, 5, 6]])\n",
    "print (\"Array: \\n\", arr)\n",
    "print (\"Shape:\", arr.shape)# Output: (2, 3)\n",
    "print(\"Number of dimensions:\", arr.ndim)# Output: 2\n",
    "print(\"Size (number of elements):\", arr.size) # Output: 6\n",
    "print(\"Data type:\", arr.dtype) # Output: int32 (may vary based on platfor\n",
    "print(\"Item size (in bytes):\", arr.itemsize) # Output: 8 (may vary based"
   ]
  },
  {
   "cell_type": "code",
   "execution_count": null,
   "metadata": {},
   "outputs": [
    {
     "name": "stdout",
     "output_type": "stream",
     "text": [
      "Addition: [11 22 33 44 55]\n",
      "Substraction: [ -9 -18 -27 -36 -45]\n",
      "Multiplication: [ 10  40  90 160 250]\n",
      "Division: [0.1 0.1 0.1 0.1 0.1]\n"
     ]
    }
   ],
   "source": [
    "### Numpy Vectorized Operations\n",
    "arr1=np.array ([1,2,3,4,5])\n",
    "arr2=np.array ([10,20,30,40,50])\n",
    "### Element Wise addition\n",
    "print(\"Addition:\", arr1+arr2)\n",
    "## Element Wise Substraction\n",
    "print (\"Substraction:\", arr1-arr2)\n",
    "# Element-wise multiplication\n",
    "print(\"Multiplication:\", arr1 * arr2)\n",
    "# Element-wise division\n",
    "print(\"Division:\", arr1 / arr2)"
   ]
  },
  {
   "cell_type": "code",
   "execution_count": null,
   "metadata": {},
   "outputs": [
    {
     "name": "stdout",
     "output_type": "stream",
     "text": [
      "[1.41421356 1.73205081 2.         2.23606798 2.44948974]\n",
      "[  7.3890561   20.08553692  54.59815003 148.4131591  403.42879349]\n",
      "[ 0.90929743  0.14112001 -0.7568025  -0.95892427 -0.2794155 ]\n",
      "[0.69314718 1.09861229 1.38629436 1.60943791 1.79175947]\n"
     ]
    }
   ],
   "source": [
    "## Universal Function\n",
    "arr=np.array ([2,3,4,5,6])\n",
    "## square root\n",
    "print(np.sqrt(arr))\n",
    "## Exponential\n",
    "print(np.exp(arr))\n",
    "## Sine\n",
    "print(np.sin(arr))\n",
    "## natural log\n",
    "print(np.log(arr))"
   ]
  },
  {
   "cell_type": "code",
   "execution_count": 24,
   "metadata": {},
   "outputs": [
    {
     "name": "stdout",
     "output_type": "stream",
     "text": [
      "arr =  [[ 1  2  3  4]\n",
      " [ 5  6  7  8]\n",
      " [ 9 10 11 12]]\n",
      "arr[0] =  [1 2 3 4]\n",
      "arr[0][0] =  1\n",
      "arr[1][2] =  7\n",
      "arr[1:] =  [[ 5  6  7  8]\n",
      " [ 9 10 11 12]]\n",
      "arr[:,1] =  [ 2  6 10]\n",
      "arr[1:,2:] =  [[ 7  8]\n",
      " [11 12]]\n",
      "arr[0:2] =  [[1 2 3 4]\n",
      " [5 6 7 8]]\n",
      "arr[0:2,2:] =  [[3 4]\n",
      " [7 8]]\n",
      "arr[0,1:-1:2] =  [2]\n"
     ]
    }
   ],
   "source": [
    "### Array Slicing and Indexing\n",
    "arr=np.array([[1,2,3,4],[5,6,7,8],[9,10,11,12]])\n",
    "print(\"arr = \",arr)\n",
    "print(\"arr[0] = \",arr[0])\n",
    "#get a specific element [r,c]\n",
    "print(\"arr[0][0] = \",arr[0][0])\n",
    "print(\"arr[1][2] = \",arr[1][2])\n",
    "# Get a specific row\n",
    "print(\"arr[1:] = \",arr[1:])\n",
    "# Get a specific column\n",
    "print(\"arr[:,1] = \",arr[:,1])\n",
    "\n",
    "print(\"arr[1:,2:] = \",arr[1:,2:])\n",
    "print(\"arr[0:2] = \",arr[0:2])\n",
    "print(\"arr[0:2,2:] = \",arr[0:2,2:])\n",
    "\n",
    "#[startindex:endindex:stepsize]\n",
    "print(\"arr[0,1:-1:2] = \",arr[0,1:-1:2])"
   ]
  },
  {
   "cell_type": "code",
   "execution_count": null,
   "metadata": {},
   "outputs": [
    {
     "name": "stdout",
     "output_type": "stream",
     "text": [
      "[[ 1  2  3  4]\n",
      " [ 5  6  7  8]\n",
      " [ 9 10 11 12]]\n",
      "[[100   2   3   4]\n",
      " [  5   6   7   8]\n",
      " [  9  10  11  12]]\n"
     ]
    }
   ],
   "source": [
    "### Modify Array elements\n",
    "arr=np.array([[1,2,3,4],[5,6,7,8],[9,10,11,12]])\n",
    "print(arr)\n",
    "arr[0,0]=100\n",
    "print(arr)"
   ]
  },
  {
   "cell_type": "code",
   "execution_count": null,
   "metadata": {},
   "outputs": [
    {
     "name": "stdout",
     "output_type": "stream",
     "text": [
      "mean =  3.0\n",
      "std_dev =  1.4142135623730951\n",
      "Normalized data: [-1.41421356 -0.70710678  0.          0.70710678  1.41421356]\n"
     ]
    }
   ],
   "source": [
    "### Statistical Concepts --Normalization\n",
    "### to have a mean of 0 and a standard deviation of 1.\n",
    "data=np.array([1,2,3,4,5])\n",
    "\n",
    "# calculate the mean and standard deviation\n",
    "mean = np. mean (data)\n",
    "print(\"mean = \" , mean)\n",
    "std_dev = np. std(data)\n",
    "print(\"std_dev = \",std_dev)\n",
    "# Normalize the data\n",
    "normalized_data = (data - mean) / std_dev\n",
    "print(\"Normalized data:\", normalized_data)"
   ]
  },
  {
   "cell_type": "code",
   "execution_count": null,
   "metadata": {},
   "outputs": [
    {
     "name": "stdout",
     "output_type": "stream",
     "text": [
      "Mean: 14.6\n",
      "Median: 5.5\n",
      "Standard Deviation: 28.903978964841503\n",
      "variance :  835.4400000000002\n"
     ]
    }
   ],
   "source": [
    "data = np.array([1, 2, 3, 4, 5, 6, 7, 8, 9, 101])\n",
    "# Mean\n",
    "mean = np. mean (data)\n",
    "print (\"Mean:\", mean)\n",
    "# Median\n",
    "median = np.median(data)\n",
    "print (\"Median:\", median)\n",
    "# Standard deviation\n",
    "std_dev = np.std(data)\n",
    "print (\"Standard Deviation:\", std_dev)\n",
    "# Variance\n",
    "variance = np.var(data)\n",
    "print(\"variance : \",variance)"
   ]
  },
  {
   "cell_type": "code",
   "execution_count": null,
   "metadata": {},
   "outputs": [
    {
     "name": "stdout",
     "output_type": "stream",
     "text": [
      "[ 1  2  3  4  5  6  7  8  9 10]\n",
      "[False False False False False  True  True  True  True  True]\n",
      "[ 6  7  8  9 10]\n",
      "[8 9]\n"
     ]
    }
   ],
   "source": [
    "## Logical operation\n",
    "data=np.array([1,2,3,4,5,6,7,8,9,10])\n",
    "print(data)\n",
    "print(data>5)\n",
    "data=data[data>5]\n",
    "print(data)\n",
    "data = data[(data>7)&(data<10)]\n",
    "print(data)"
   ]
  },
  {
   "cell_type": "code",
   "execution_count": 16,
   "metadata": {},
   "outputs": [
    {
     "name": "stdout",
     "output_type": "stream",
     "text": [
      "1\n",
      "2\n",
      "int64\n",
      "int64\n",
      "5\n",
      "10\n",
      "8\n",
      "8\n"
     ]
    }
   ],
   "source": [
    "a=np.array([1,2,3,4,5])\n",
    "b=np.array([[1,2,3,4,5],[6,7,8,9,10]])\n",
    "print(a.ndim)\n",
    "print(b.ndim)\n",
    "print(a.dtype)\n",
    "print(b.dtype)\n",
    "print(a.size)\n",
    "print(b.size)\n",
    "print(a.itemsize)\n",
    "print(b.itemsize)\n"
   ]
  },
  {
   "cell_type": "markdown",
   "metadata": {},
   "source": [
    "### Intializing Diffrent types of Array"
   ]
  },
  {
   "cell_type": "code",
   "execution_count": 34,
   "metadata": {},
   "outputs": [
    {
     "name": "stdout",
     "output_type": "stream",
     "text": [
      "[[0. 0. 0. 0. 0.]\n",
      " [0. 0. 0. 0. 0.]\n",
      " [0. 0. 0. 0. 0.]\n",
      " [0. 0. 0. 0. 0.]\n",
      " [0. 0. 0. 0. 0.]]\n"
     ]
    }
   ],
   "source": [
    "zeroArray=np.zeros((5,5))\n",
    "print(zeroArray)"
   ]
  },
  {
   "cell_type": "code",
   "execution_count": 36,
   "metadata": {},
   "outputs": [
    {
     "name": "stdout",
     "output_type": "stream",
     "text": [
      "[[1. 1. 1. 1. 1.]\n",
      " [1. 1. 1. 1. 1.]\n",
      " [1. 1. 1. 1. 1.]\n",
      " [1. 1. 1. 1. 1.]\n",
      " [1. 1. 1. 1. 1.]]\n"
     ]
    }
   ],
   "source": [
    "onesArray=np.ones((5,5))\n",
    "print(onesArray)"
   ]
  },
  {
   "cell_type": "code",
   "execution_count": 40,
   "metadata": {},
   "outputs": [
    {
     "name": "stdout",
     "output_type": "stream",
     "text": [
      "[[2 2 2 2 2]\n",
      " [2 2 2 2 2]\n",
      " [2 2 2 2 2]\n",
      " [2 2 2 2 2]\n",
      " [2 2 2 2 2]]\n"
     ]
    }
   ],
   "source": [
    "otherArray=np.full((5,5),2)\n",
    "print(otherArray)"
   ]
  },
  {
   "cell_type": "code",
   "execution_count": 42,
   "metadata": {},
   "outputs": [
    {
     "name": "stdout",
     "output_type": "stream",
     "text": [
      "(5,)\n",
      "[4 4 4 4 4]\n",
      "(5,)\n",
      "[[4 4 4 4 4]\n",
      " [4 4 4 4 4]\n",
      " [4 4 4 4 4]\n",
      " [4 4 4 4 4]\n",
      " [4 4 4 4 4]]\n",
      "(5, 5)\n"
     ]
    }
   ],
   "source": [
    "fullLikeArray=np.full_like(a,4)\n",
    "fullLikeArray2=np.full_like(otherArray,4)\n",
    "print(a.shape)\n",
    "print(fullLikeArray)\n",
    "print(fullLikeArray.shape)\n",
    "print(fullLikeArray2)\n",
    "print(fullLikeArray2.shape)"
   ]
  },
  {
   "cell_type": "code",
   "execution_count": 47,
   "metadata": {},
   "outputs": [
    {
     "name": "stdout",
     "output_type": "stream",
     "text": [
      "[[0.31338476 0.45771021]\n",
      " [0.61881722 0.85271688]\n",
      " [0.71958126 0.66491051]\n",
      " [0.80583355 0.4682786 ]]\n",
      "[[0.31338476 0.45771021]\n",
      " [0.61881722 0.85271688]\n",
      " [0.71958126 0.66491051]\n",
      " [0.80583355 0.4682786 ]]\n",
      "(5,)\n",
      "(4, 2)\n"
     ]
    }
   ],
   "source": [
    "randomDecimalArray=np.random.rand(4,2)\n",
    "print(randomDecimalArray)\n",
    "randomDecimalArray2=np.random.random_sample(a.shape)\n",
    "print(randomDecimalArray)\n",
    "print(a.shape)\n",
    "print(randomDecimalArray.shape)"
   ]
  },
  {
   "cell_type": "code",
   "execution_count": 49,
   "metadata": {},
   "outputs": [
    {
     "name": "stdout",
     "output_type": "stream",
     "text": [
      "[[4 6 5]\n",
      " [3 3 6]\n",
      " [4 4 3]]\n",
      "[[6 5 5]\n",
      " [3 1 2]\n",
      " [1 1 5]]\n"
     ]
    }
   ],
   "source": [
    "randomIntArray=np.random.randint(7,size=(3,3))\n",
    "print(randomIntArray)\n",
    "randomIntArray2=np.random.randint(1,7,size=(3,3))\n",
    "print(randomIntArray2)"
   ]
  },
  {
   "cell_type": "code",
   "execution_count": 50,
   "metadata": {},
   "outputs": [
    {
     "name": "stdout",
     "output_type": "stream",
     "text": [
      "[[1. 0. 0. 0. 0.]\n",
      " [0. 1. 0. 0. 0.]\n",
      " [0. 0. 1. 0. 0.]\n",
      " [0. 0. 0. 1. 0.]\n",
      " [0. 0. 0. 0. 1.]]\n"
     ]
    }
   ],
   "source": [
    "identityMatrix=np.identity(5)\n",
    "print(identityMatrix)"
   ]
  },
  {
   "cell_type": "code",
   "execution_count": 51,
   "metadata": {},
   "outputs": [
    {
     "data": {
      "text/plain": [
       "array([[1., 0., 0., 0., 0.],\n",
       "       [0., 1., 0., 0., 0.],\n",
       "       [0., 0., 1., 0., 0.],\n",
       "       [0., 0., 0., 1., 0.],\n",
       "       [0., 0., 0., 0., 1.]])"
      ]
     },
     "execution_count": 51,
     "metadata": {},
     "output_type": "execute_result"
    }
   ],
   "source": [
    "np.eye(5)"
   ]
  },
  {
   "cell_type": "code",
   "execution_count": 56,
   "metadata": {},
   "outputs": [
    {
     "name": "stdout",
     "output_type": "stream",
     "text": [
      "[[1 1 1 2 2 2 3 3 3]]\n"
     ]
    }
   ],
   "source": [
    "arr=np.array([[1,2,3]])\n",
    "r1=np.repeat(arr,3,axis=1)\n",
    "print(r1)"
   ]
  },
  {
   "cell_type": "code",
   "execution_count": 68,
   "metadata": {},
   "outputs": [
    {
     "name": "stdout",
     "output_type": "stream",
     "text": [
      "[[1. 1. 1. 1. 1.]\n",
      " [1. 1. 1. 1. 1.]\n",
      " [1. 1. 1. 1. 1.]\n",
      " [1. 1. 1. 1. 1.]\n",
      " [1. 1. 1. 1. 1.]]\n",
      "[[0. 0. 0.]\n",
      " [0. 9. 0.]\n",
      " [0. 0. 0.]]\n",
      "[[1. 1. 1. 1. 1.]\n",
      " [1. 0. 0. 0. 1.]\n",
      " [1. 0. 9. 0. 1.]\n",
      " [1. 0. 0. 0. 1.]\n",
      " [1. 1. 1. 1. 1.]]\n"
     ]
    }
   ],
   "source": [
    "output=np.ones((5,5))\n",
    "print(output)\n",
    "\n",
    "z=np.zeros((3,3))\n",
    "z[1,1]=9\n",
    "print(z)\n",
    "\n",
    "output[1:4,1:4]=z\n",
    "print(output)\n",
    "# print(output[1:4,1:4])"
   ]
  },
  {
   "cell_type": "markdown",
   "metadata": {},
   "source": [
    "### Mathematics"
   ]
  },
  {
   "cell_type": "code",
   "execution_count": 6,
   "metadata": {},
   "outputs": [
    {
     "name": "stdout",
     "output_type": "stream",
     "text": [
      "a    =    [ 1  2  3  4  5  6  7  8  9 10]\n",
      "a+2  =    [ 3  4  5  6  7  8  9 10 11 12]\n",
      "a-2  =    [-1  0  1  2  3  4  5  6  7  8]\n",
      "a*2  =    [ 2  4  6  8 10 12 14 16 18 20]\n",
      "a**2 =    [  1   4   9  16  25  36  49  64  81 100]\n",
      "a/2  =    [0.5 1.  1.5 2.  2.5 3.  3.5 4.  4.5 5. ]\n",
      "a//2 =    [0 1 1 2 2 3 3 4 4 5]\n",
      "a%2  =    [1 0 1 0 1 0 1 0 1 0]\n"
     ]
    }
   ],
   "source": [
    "a=np.array([1,2,3,4,5,6,7,8,9,10])\n",
    "print(\"a    =   \",a)\n",
    "print(\"a+2  =   \",a+2)\n",
    "print(\"a-2  =   \",a-2)\n",
    "print(\"a*2  =   \",a*2)\n",
    "print(\"a**2 =   \",a**2)\n",
    "print(\"a/2  =   \",a/2)\n",
    "print(\"a//2 =   \",a//2)\n",
    "print(\"a%2  =   \",a%2)\n",
    "print(\"np.cos(a) =   \",np.cos(a))"
   ]
  },
  {
   "cell_type": "markdown",
   "metadata": {},
   "source": [
    "### Linear Algebrs"
   ]
  },
  {
   "cell_type": "code",
   "execution_count": 9,
   "metadata": {},
   "outputs": [
    {
     "name": "stdout",
     "output_type": "stream",
     "text": [
      "a   =   \n",
      " [[1. 1. 1.]\n",
      " [1. 1. 1.]]\n",
      "b   =   \n",
      " [[2 2]\n",
      " [2 2]\n",
      " [2 2]]\n",
      "a*b =   \n",
      " [[6. 6.]\n",
      " [6. 6.]]\n"
     ]
    }
   ],
   "source": [
    "a=np.ones((2,3))\n",
    "print(\"a   =   \\n\",a)\n",
    "b=np.full((3,2),2)\n",
    "print(\"b   =   \\n\",b)\n",
    "print(\"a*b =   \\n\",np.matmul(a,b))"
   ]
  },
  {
   "cell_type": "code",
   "execution_count": 10,
   "metadata": {},
   "outputs": [
    {
     "name": "stdout",
     "output_type": "stream",
     "text": [
      "[[1. 0. 0.]\n",
      " [0. 1. 0.]\n",
      " [0. 0. 1.]]\n",
      "1.0\n"
     ]
    }
   ],
   "source": [
    "### Determinant of a matrix\n",
    "c=np.identity(3)\n",
    "print(c) # Output: [[1. 0. 0.], [0. 1. 0.], [0. 0. 1.]] \n",
    "#linalg is a sub-module of NumPy that provides functions to perform linear algebra operations.\n",
    "print(\"determinant of the Matrix\",np.linalg.det(c)) # Output: 1.0 \n"
   ]
  },
  {
   "cell_type": "markdown",
   "metadata": {},
   "source": [
    "### Statistics"
   ]
  },
  {
   "cell_type": "code",
   "execution_count": 12,
   "metadata": {},
   "outputs": [
    {
     "name": "stdout",
     "output_type": "stream",
     "text": [
      "[[1 2 3]\n",
      " [4 5 6]]\n",
      "min of stats 1\n",
      "max of stats 6\n",
      "min of stats axis=1 [1 4]\n",
      "max of stats axis=1 [3 6]\n",
      "sum of stats 21\n"
     ]
    }
   ],
   "source": [
    "stats=np.array([[1,2,3],[4,5,6]])\n",
    "print(stats)\n",
    "print(\"min of stats\",np.min(stats))\n",
    "print(\"max of stats\",np.max(stats))\n",
    "print(\"min of stats axis=1\",np.min(stats,axis=1))\n",
    "print(\"max of stats axis=1\",np.max(stats,axis=1))\n",
    "print(\"sum of stats\",np.sum(stats))\n"
   ]
  },
  {
   "cell_type": "markdown",
   "metadata": {},
   "source": [
    "### Reorganizatio of Arrays"
   ]
  },
  {
   "cell_type": "code",
   "execution_count": 13,
   "metadata": {},
   "outputs": [
    {
     "name": "stdout",
     "output_type": "stream",
     "text": [
      "Original array:\n",
      "[[1 2 3 4]\n",
      " [5 6 7 8]]\n",
      "After reshaping:\n",
      "[[[1 2]\n",
      "  [3 4]]\n",
      "\n",
      " [[5 6]\n",
      "  [7 8]]]\n"
     ]
    }
   ],
   "source": [
    "before=np.array([[1,2,3,4],[5,6,7,8]])\n",
    "print(\"Original array:\")\n",
    "print(before)\n",
    "after=before.reshape((2,2,2))\n",
    "print(\"After reshaping:\")\n",
    "print(after)\n"
   ]
  },
  {
   "cell_type": "markdown",
   "metadata": {},
   "source": [
    "### Verticaly stacking Vectors"
   ]
  },
  {
   "cell_type": "code",
   "execution_count": 14,
   "metadata": {},
   "outputs": [
    {
     "name": "stdout",
     "output_type": "stream",
     "text": [
      "Vertical Stack\n",
      "[[1 2 3 4]\n",
      " [5 6 7 8]]\n",
      "Horizontal Stack\n",
      "[1 2 3 4 5 6 7 8]\n",
      "Vertical Stack\n",
      "[[1 2 3 4]\n",
      " [5 6 7 8]\n",
      " [1 2 3 4]\n",
      " [5 6 7 8]]\n",
      "Horizontal Stack\n",
      "[1 2 3 4 5 6 7 8 1 2 3 4 5 6 7 8]\n"
     ]
    }
   ],
   "source": [
    "v1=np.array([1,2,3,4])\n",
    "v2=np.array([5,6,7,8])\n",
    "print(\"Vertical Stack\")\n",
    "print(np.vstack([v1,v2]))\n",
    "print(\"Horizontal Stack\")\n",
    "print(np.hstack([v1,v2]))\n",
    "print(\"Vertical Stack\")\n",
    "print(np.vstack([v1,v2,v1,v2]))\n",
    "print(\"Horizontal Stack\")\n",
    "print(np.hstack([v1,v2,v1,v2]))"
   ]
  },
  {
   "cell_type": "code",
   "execution_count": 15,
   "metadata": {},
   "outputs": [
    {
     "name": "stdout",
     "output_type": "stream",
     "text": [
      "Horizontal Stack\n",
      "[[1. 1. 1. 1. 0. 0.]\n",
      " [1. 1. 1. 1. 0. 0.]]\n"
     ]
    }
   ],
   "source": [
    "#horizontal stack\n",
    "h1=np.ones((2,4))\n",
    "h2=np.zeros((2,2))\n",
    "print(\"Horizontal Stack\")\n",
    "print(np.hstack((h1,h2)))"
   ]
  },
  {
   "cell_type": "code",
   "execution_count": 18,
   "metadata": {},
   "outputs": [
    {
     "name": "stdout",
     "output_type": "stream",
     "text": [
      "[[1 5 2]\n",
      " [2 2 3]\n",
      " [5 2 6]]\n"
     ]
    },
    {
     "data": {
      "text/plain": [
       "array([[False,  True, False],\n",
       "       [False, False, False],\n",
       "       [ True, False, False]])"
      ]
     },
     "execution_count": 18,
     "metadata": {},
     "output_type": "execute_result"
    }
   ],
   "source": [
    "randomIntArray2=np.random.randint(1,7,size=(3,3))\n",
    "print(randomIntArray2)\n",
    "((randomIntArray2>3)&(randomIntArray2<6))"
   ]
  }
 ],
 "metadata": {
  "kernelspec": {
   "display_name": ".venv",
   "language": "python",
   "name": "python3"
  },
  "language_info": {
   "codemirror_mode": {
    "name": "ipython",
    "version": 3
   },
   "file_extension": ".py",
   "mimetype": "text/x-python",
   "name": "python",
   "nbconvert_exporter": "python",
   "pygments_lexer": "ipython3",
   "version": "3.13.1"
  }
 },
 "nbformat": 4,
 "nbformat_minor": 2
}
